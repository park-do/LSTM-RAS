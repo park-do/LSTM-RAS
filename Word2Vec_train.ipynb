{
 "cells": [
  {
   "cell_type": "code",
   "execution_count": 1,
   "metadata": {},
   "outputs": [
    {
     "name": "stderr",
     "output_type": "stream",
     "text": [
      "C:\\Users\\dongc\\Anaconda3\\lib\\site-packages\\gensim\\utils.py:1212: UserWarning: detected Windows; aliasing chunkize to chunkize_serial\n",
      "  warnings.warn(\"detected Windows; aliasing chunkize to chunkize_serial\")\n"
     ]
    }
   ],
   "source": [
    "import os\n",
    "from konlpy.tag import Okt\n",
    "from eunjeon import Mecab\n",
    "import gensim \n",
    "import numpy as np\n",
    "import codecs\n",
    "import pandas as pd"
   ]
  },
  {
   "cell_type": "code",
   "execution_count": 2,
   "metadata": {},
   "outputs": [],
   "source": [
    "okt = Okt()\n",
    "mecab = Mecab()"
   ]
  },
  {
   "cell_type": "code",
   "execution_count": 3,
   "metadata": {},
   "outputs": [],
   "source": [
    "df = pd.read_csv('../data/자소서_문이과.csv',index_col=0,engine='python',encoding='utf8')"
   ]
  },
  {
   "cell_type": "code",
   "execution_count": 4,
   "metadata": {
    "scrolled": true
   },
   "outputs": [
    {
     "data": {
      "text/html": [
       "<div>\n",
       "<style scoped>\n",
       "    .dataframe tbody tr th:only-of-type {\n",
       "        vertical-align: middle;\n",
       "    }\n",
       "\n",
       "    .dataframe tbody tr th {\n",
       "        vertical-align: top;\n",
       "    }\n",
       "\n",
       "    .dataframe thead th {\n",
       "        text-align: right;\n",
       "    }\n",
       "</style>\n",
       "<table border=\"1\" class=\"dataframe\">\n",
       "  <thead>\n",
       "    <tr style=\"text-align: right;\">\n",
       "      <th></th>\n",
       "      <th>category</th>\n",
       "      <th>jss</th>\n",
       "      <th>major</th>\n",
       "    </tr>\n",
       "  </thead>\n",
       "  <tbody>\n",
       "    <tr>\n",
       "      <th>0</th>\n",
       "      <td>경영 사무</td>\n",
       "      <td>[제품 홍보가 곧 기업 홍보다]\\n제품 홍보가 곧 기업 홍보라는 회사의 모토처럼, ...</td>\n",
       "      <td>문과</td>\n",
       "    </tr>\n",
       "    <tr>\n",
       "      <th>1</th>\n",
       "      <td>경영 사무</td>\n",
       "      <td>[남양유업 경영관리 전문가]\\n제가 지원하게 된 경영관리는 기업이 올바른 방향으로 ...</td>\n",
       "      <td>문과</td>\n",
       "    </tr>\n",
       "    <tr>\n",
       "      <th>2</th>\n",
       "      <td>경영 사무</td>\n",
       "      <td>[높은 경쟁률 통과]\\n작년 여름, 봉사활동에 늘 뜻이 있어 '행복 나눔 봉사단'이...</td>\n",
       "      <td>문과</td>\n",
       "    </tr>\n",
       "    <tr>\n",
       "      <th>3</th>\n",
       "      <td>경영 사무</td>\n",
       "      <td>[꼼꼼함과 완벽함 사이]\\n차분하고 꼼꼼한 성격을 지닌 저는 항상 주어진 일에 최선...</td>\n",
       "      <td>문과</td>\n",
       "    </tr>\n",
       "    <tr>\n",
       "      <th>4</th>\n",
       "      <td>경영 사무</td>\n",
       "      <td>[열정은 신뢰다]\\n\"열정을 다하는 사람에게는 신뢰가 따라온다.\" 아버지께서 저에게...</td>\n",
       "      <td>문과</td>\n",
       "    </tr>\n",
       "  </tbody>\n",
       "</table>\n",
       "</div>"
      ],
      "text/plain": [
       "  category                                                jss major\n",
       "0    경영 사무  [제품 홍보가 곧 기업 홍보다]\\n제품 홍보가 곧 기업 홍보라는 회사의 모토처럼, ...    문과\n",
       "1    경영 사무  [남양유업 경영관리 전문가]\\n제가 지원하게 된 경영관리는 기업이 올바른 방향으로 ...    문과\n",
       "2    경영 사무  [높은 경쟁률 통과]\\n작년 여름, 봉사활동에 늘 뜻이 있어 '행복 나눔 봉사단'이...    문과\n",
       "3    경영 사무  [꼼꼼함과 완벽함 사이]\\n차분하고 꼼꼼한 성격을 지닌 저는 항상 주어진 일에 최선...    문과\n",
       "4    경영 사무  [열정은 신뢰다]\\n\"열정을 다하는 사람에게는 신뢰가 따라온다.\" 아버지께서 저에게...    문과"
      ]
     },
     "execution_count": 4,
     "metadata": {},
     "output_type": "execute_result"
    }
   ],
   "source": [
    "df.head()"
   ]
  },
  {
   "cell_type": "code",
   "execution_count": 5,
   "metadata": {},
   "outputs": [],
   "source": [
    "df2 = pd.read_csv('../data/JKJss.csv',index_col=0,engine='python',encoding='utf8')"
   ]
  },
  {
   "cell_type": "code",
   "execution_count": 6,
   "metadata": {},
   "outputs": [],
   "source": [
    "df.drop(columns={'major'},inplace=True)"
   ]
  },
  {
   "cell_type": "code",
   "execution_count": 7,
   "metadata": {},
   "outputs": [
    {
     "data": {
      "text/html": [
       "<div>\n",
       "<style scoped>\n",
       "    .dataframe tbody tr th:only-of-type {\n",
       "        vertical-align: middle;\n",
       "    }\n",
       "\n",
       "    .dataframe tbody tr th {\n",
       "        vertical-align: top;\n",
       "    }\n",
       "\n",
       "    .dataframe thead th {\n",
       "        text-align: right;\n",
       "    }\n",
       "</style>\n",
       "<table border=\"1\" class=\"dataframe\">\n",
       "  <thead>\n",
       "    <tr style=\"text-align: right;\">\n",
       "      <th></th>\n",
       "      <th>category</th>\n",
       "      <th>jss</th>\n",
       "    </tr>\n",
       "  </thead>\n",
       "  <tbody>\n",
       "    <tr>\n",
       "      <th>0</th>\n",
       "      <td>QA·테스터·검증</td>\n",
       "      <td>[유연한 조직문화 그리고 뚜렷한 보안 기술력, 파수닷컴]\\n\\n회사를 선택할 때 자...</td>\n",
       "    </tr>\n",
       "    <tr>\n",
       "      <th>1</th>\n",
       "      <td>QA·테스터·검증</td>\n",
       "      <td>[QA, 덜 익은 과일을 맛있는 과일로 익히는 과정]\\n\\n쏟아지는 보안 경쟁 시장...</td>\n",
       "    </tr>\n",
       "    <tr>\n",
       "      <th>2</th>\n",
       "      <td>QA·테스터·검증</td>\n",
       "      <td>[QA 직무를 수행하기 위한 김아름만의 3가지 강점]\\n\\nQA 직무를 수행하기 위...</td>\n",
       "    </tr>\n",
       "    <tr>\n",
       "      <th>3</th>\n",
       "      <td>QA·테스터·검증</td>\n",
       "      <td>(1) 대학생활\\n\\n[레고 마인드스톰 nxt 트랙 완주 프로젝트]\\n\\n회귀 테스...</td>\n",
       "    </tr>\n",
       "    <tr>\n",
       "      <th>4</th>\n",
       "      <td>웹기획·PM</td>\n",
       "      <td>어린 시절 손재주와 집중적 있는 역량을 바탕으로 사물을 창의적으로 바라보는 시각을 ...</td>\n",
       "    </tr>\n",
       "  </tbody>\n",
       "</table>\n",
       "</div>"
      ],
      "text/plain": [
       "    category                                                jss\n",
       "0  QA·테스터·검증  [유연한 조직문화 그리고 뚜렷한 보안 기술력, 파수닷컴]\\n\\n회사를 선택할 때 자...\n",
       "1  QA·테스터·검증  [QA, 덜 익은 과일을 맛있는 과일로 익히는 과정]\\n\\n쏟아지는 보안 경쟁 시장...\n",
       "2  QA·테스터·검증  [QA 직무를 수행하기 위한 김아름만의 3가지 강점]\\n\\nQA 직무를 수행하기 위...\n",
       "3  QA·테스터·검증  (1) 대학생활\\n\\n[레고 마인드스톰 nxt 트랙 완주 프로젝트]\\n\\n회귀 테스...\n",
       "4     웹기획·PM  어린 시절 손재주와 집중적 있는 역량을 바탕으로 사물을 창의적으로 바라보는 시각을 ..."
      ]
     },
     "execution_count": 7,
     "metadata": {},
     "output_type": "execute_result"
    }
   ],
   "source": [
    "df2.head()"
   ]
  },
  {
   "cell_type": "code",
   "execution_count": 8,
   "metadata": {},
   "outputs": [],
   "source": [
    "df3 = pd.concat([df,df2])"
   ]
  },
  {
   "cell_type": "code",
   "execution_count": 9,
   "metadata": {},
   "outputs": [
    {
     "data": {
      "text/plain": [
       "46478"
      ]
     },
     "execution_count": 9,
     "metadata": {},
     "output_type": "execute_result"
    }
   ],
   "source": [
    "len(df3)"
   ]
  },
  {
   "cell_type": "code",
   "execution_count": 10,
   "metadata": {},
   "outputs": [
    {
     "data": {
      "text/html": [
       "<div>\n",
       "<style scoped>\n",
       "    .dataframe tbody tr th:only-of-type {\n",
       "        vertical-align: middle;\n",
       "    }\n",
       "\n",
       "    .dataframe tbody tr th {\n",
       "        vertical-align: top;\n",
       "    }\n",
       "\n",
       "    .dataframe thead th {\n",
       "        text-align: right;\n",
       "    }\n",
       "</style>\n",
       "<table border=\"1\" class=\"dataframe\">\n",
       "  <thead>\n",
       "    <tr style=\"text-align: right;\">\n",
       "      <th></th>\n",
       "      <th>category</th>\n",
       "      <th>jss</th>\n",
       "    </tr>\n",
       "  </thead>\n",
       "  <tbody>\n",
       "    <tr>\n",
       "      <th>0</th>\n",
       "      <td>경영 사무</td>\n",
       "      <td>[제품 홍보가 곧 기업 홍보다]\\n제품 홍보가 곧 기업 홍보라는 회사의 모토처럼, ...</td>\n",
       "    </tr>\n",
       "    <tr>\n",
       "      <th>1</th>\n",
       "      <td>경영 사무</td>\n",
       "      <td>[남양유업 경영관리 전문가]\\n제가 지원하게 된 경영관리는 기업이 올바른 방향으로 ...</td>\n",
       "    </tr>\n",
       "    <tr>\n",
       "      <th>2</th>\n",
       "      <td>경영 사무</td>\n",
       "      <td>[높은 경쟁률 통과]\\n작년 여름, 봉사활동에 늘 뜻이 있어 '행복 나눔 봉사단'이...</td>\n",
       "    </tr>\n",
       "    <tr>\n",
       "      <th>3</th>\n",
       "      <td>경영 사무</td>\n",
       "      <td>[꼼꼼함과 완벽함 사이]\\n차분하고 꼼꼼한 성격을 지닌 저는 항상 주어진 일에 최선...</td>\n",
       "    </tr>\n",
       "    <tr>\n",
       "      <th>4</th>\n",
       "      <td>경영 사무</td>\n",
       "      <td>[열정은 신뢰다]\\n\"열정을 다하는 사람에게는 신뢰가 따라온다.\" 아버지께서 저에게...</td>\n",
       "    </tr>\n",
       "  </tbody>\n",
       "</table>\n",
       "</div>"
      ],
      "text/plain": [
       "  category                                                jss\n",
       "0    경영 사무  [제품 홍보가 곧 기업 홍보다]\\n제품 홍보가 곧 기업 홍보라는 회사의 모토처럼, ...\n",
       "1    경영 사무  [남양유업 경영관리 전문가]\\n제가 지원하게 된 경영관리는 기업이 올바른 방향으로 ...\n",
       "2    경영 사무  [높은 경쟁률 통과]\\n작년 여름, 봉사활동에 늘 뜻이 있어 '행복 나눔 봉사단'이...\n",
       "3    경영 사무  [꼼꼼함과 완벽함 사이]\\n차분하고 꼼꼼한 성격을 지닌 저는 항상 주어진 일에 최선...\n",
       "4    경영 사무  [열정은 신뢰다]\\n\"열정을 다하는 사람에게는 신뢰가 따라온다.\" 아버지께서 저에게..."
      ]
     },
     "execution_count": 10,
     "metadata": {},
     "output_type": "execute_result"
    }
   ],
   "source": [
    "df3.head()"
   ]
  },
  {
   "cell_type": "code",
   "execution_count": 21,
   "metadata": {},
   "outputs": [],
   "source": [
    "df3.reset_index(inplace=True)"
   ]
  },
  {
   "cell_type": "code",
   "execution_count": 23,
   "metadata": {},
   "outputs": [],
   "source": [
    "df3.drop(columns={'index'},inplace=True)"
   ]
  },
  {
   "cell_type": "code",
   "execution_count": 24,
   "metadata": {},
   "outputs": [],
   "source": [
    "from tqdm import tqdm_notebook"
   ]
  },
  {
   "cell_type": "code",
   "execution_count": 18,
   "metadata": {},
   "outputs": [
    {
     "data": {
      "application/vnd.jupyter.widget-view+json": {
       "model_id": "803503e3365a4cc2a0e58e0730614a00",
       "version_major": 2,
       "version_minor": 0
      },
      "text/plain": [
       "HBox(children=(IntProgress(value=0, max=46478), HTML(value='')))"
      ]
     },
     "metadata": {},
     "output_type": "display_data"
    },
    {
     "name": "stdout",
     "output_type": "stream",
     "text": [
      "32156 1. Wi-Fi Direct를 이용한 동시 사진 편집 프로그램 ",
      "와이파이가 제공되지 않는 환경에서도 사용자 사이에 사진을 주고받고, 편집할 수 있는 안드로이드 애플리케이션입니다. 사용자들은 사진을 공유하여 각각 수정하고, 이 수정된 정보는 실시간으로 모든 사용자에게 전달됩니다. Wi-Fi Direct 연결과 사진 편집 정보를 주고받는 통신 과정을 담당했습니다. \n",
      "\n",
      "팀원 모두가 안드로이드 개발이 처음이라 구현하고자 하는 기능이 제대로 실행되는 데 중점을 두었습니다. IEEE 802.11 국제 표준과 관련 논문 등을 읽으며 열심히 공부했습니다. 이 프로젝트를 통해 무선 네트워크에 대한 이해가 깊어졌으며 API 문서를 연구하고 적용하는 연습을 할 수 있었습니다. \n",
      "\n",
      "1. **** ",
      "회사에서 근무했을 때 개발에 참여했던 안드로이드 애플리케이션입니다. 무료 통화를 제공하는 애플리케이션이며, 개발, 유지, 보수를 담당했습니다. 안정성과 퍼포먼스를 가장 중요하게 생각했습니다. 에러가 생기면 구글 플레이 스토어의 평점이 바로 내려가는 등의 영향이 있었기 때문에 사소한 수정이라도 꼼꼼한 테스트를 거쳤습니다. 또한, 무료 통화 성공률을 높이기 위해 개발팀에서 며칠 밤을 새우며 수천 번의 테스트를 진행했습니다. \n",
      "\n",
      "이를 통해 이전에는 파악하지 못했던 다양한 문제점을 발견하게 되었습니다. 이를 개선함으로써 애플리케이션의 퍼포먼스도 향상되고 사용자에게 긍정적인 피드백을 받을 수 있었습니다. 이 경험을 통하여 개발 실력을 키울 수 있었습니다. 뿐만 아니라, 여러 기획회의에 직접 참여하며 일이 진행되는 프로세스를 경험했고, 책임감 등을 키웠으며, 다른 부서 사람들과 소통하고 협업하는 능력도 길렀습니다.\n"
     ]
    }
   ],
   "source": [
    "debug = []\n",
    "bugidx = []\n",
    "i = 0\n",
    "for txt in tqdm_notebook(df3.jss):\n",
    "    try:\n",
    "        nouns = mecab.morphs(txt)\n",
    "        if len(nouns) == 0:\n",
    "            print(i, txt)\n",
    "            bugidx.append(i)\n",
    "    except:\n",
    "        print(i, txt)\n",
    "        bugidx.append(i)\n",
    "    debug.append(nouns)\n",
    "    i += 1"
   ]
  },
  {
   "cell_type": "code",
   "execution_count": 25,
   "metadata": {},
   "outputs": [
    {
     "data": {
      "text/html": [
       "<div>\n",
       "<style scoped>\n",
       "    .dataframe tbody tr th:only-of-type {\n",
       "        vertical-align: middle;\n",
       "    }\n",
       "\n",
       "    .dataframe tbody tr th {\n",
       "        vertical-align: top;\n",
       "    }\n",
       "\n",
       "    .dataframe thead th {\n",
       "        text-align: right;\n",
       "    }\n",
       "</style>\n",
       "<table border=\"1\" class=\"dataframe\">\n",
       "  <thead>\n",
       "    <tr style=\"text-align: right;\">\n",
       "      <th></th>\n",
       "      <th>category</th>\n",
       "      <th>jss</th>\n",
       "    </tr>\n",
       "  </thead>\n",
       "  <tbody>\n",
       "    <tr>\n",
       "      <th>32156</th>\n",
       "      <td>응용프로그래머</td>\n",
       "      <td>1. Wi-Fi Direct를 이용한 동시 사진 편집 프로그램 ",
       "와이파이가 제공되지 ...</td>\n",
       "    </tr>\n",
       "  </tbody>\n",
       "</table>\n",
       "</div>"
      ],
      "text/plain": [
       "      category                                                jss\n",
       "32156  응용프로그래머  1. Wi-Fi Direct를 이용한 동시 사진 편집 프로그램\n",
       "와이파이가 제공되지 ..."
      ]
     },
     "execution_count": 25,
     "metadata": {},
     "output_type": "execute_result"
    }
   ],
   "source": [
    "df3.loc[bugidx]"
   ]
  },
  {
   "cell_type": "code",
   "execution_count": 26,
   "metadata": {},
   "outputs": [],
   "source": [
    "df3 = df3.drop(bugidx)"
   ]
  },
  {
   "cell_type": "code",
   "execution_count": 27,
   "metadata": {},
   "outputs": [],
   "source": [
    "df3.to_csv('../data/자소서_잡코사람인전체_mecab_morphs오류제거.csv')"
   ]
  },
  {
   "cell_type": "code",
   "execution_count": 28,
   "metadata": {},
   "outputs": [],
   "source": [
    "train_data = df3.jss.tolist()"
   ]
  },
  {
   "cell_type": "code",
   "execution_count": 29,
   "metadata": {
    "scrolled": true
   },
   "outputs": [
    {
     "data": {
      "application/vnd.jupyter.widget-view+json": {
       "model_id": "22b924fb37624b858e0898b9e77d8a49",
       "version_major": 2,
       "version_minor": 0
      },
      "text/plain": [
       "HBox(children=(IntProgress(value=0, max=46477), HTML(value='')))"
      ]
     },
     "metadata": {},
     "output_type": "display_data"
    }
   ],
   "source": [
    "tokens = []\n",
    "for row in tqdm_notebook(train_data):\n",
    "    tokens.append(mecab.morphs(row))"
   ]
  },
  {
   "cell_type": "code",
   "execution_count": 30,
   "metadata": {
    "scrolled": true
   },
   "outputs": [
    {
     "data": {
      "text/plain": [
       "3033"
      ]
     },
     "execution_count": 30,
     "metadata": {},
     "output_type": "execute_result"
    }
   ],
   "source": [
    "# 제일 긴 시퀀스가 얼마일까?\n",
    "len(max(tokens, key=len))"
   ]
  },
  {
   "cell_type": "code",
   "execution_count": 31,
   "metadata": {},
   "outputs": [],
   "source": [
    "# 모델 만들기\n",
    "model = gensim.models.Word2Vec(tokens, size=300, workers=4)"
   ]
  },
  {
   "cell_type": "code",
   "execution_count": 32,
   "metadata": {},
   "outputs": [
    {
     "data": {
      "application/vnd.jupyter.widget-view+json": {
       "model_id": "b4a2ec583dc34d9f947fcf826d9f08c3",
       "version_major": 2,
       "version_minor": 0
      },
      "text/plain": [
       "HBox(children=(IntProgress(value=0, max=30), HTML(value='')))"
      ]
     },
     "metadata": {},
     "output_type": "display_data"
    },
    {
     "name": "stderr",
     "output_type": "stream",
     "text": [
      "C:\\Users\\dongc\\Anaconda3\\lib\\site-packages\\ipykernel_launcher.py:3: DeprecationWarning: Call to deprecated `iter` (Attribute will be removed in 4.0.0, use self.epochs instead).\n",
      "  This is separate from the ipykernel package so we can avoid doing imports until\n"
     ]
    }
   ],
   "source": [
    "# 학습하기\n",
    "for epoch in tqdm_notebook(range(30)):\n",
    "    model.train(tokens,total_examples=model.corpus_count,epochs = model.iter)\n",
    "    model.alpha -= 0.002 # 러닝레이트\n",
    "    model.min_alpha = model.alpha"
   ]
  },
  {
   "cell_type": "code",
   "execution_count": 33,
   "metadata": {},
   "outputs": [],
   "source": [
    "model.save(\"../data/word2vec_mecab_morphs2.model\")"
   ]
  },
  {
   "cell_type": "code",
   "execution_count": 26,
   "metadata": {},
   "outputs": [
    {
     "name": "stderr",
     "output_type": "stream",
     "text": [
      "C:\\Users\\dongc\\Anaconda3\\lib\\site-packages\\ipykernel_launcher.py:1: DeprecationWarning: Call to deprecated `most_similar` (Method will be removed in 4.0.0, use self.wv.most_similar() instead).\n",
      "  \"\"\"Entry point for launching an IPython kernel.\n",
      "C:\\Users\\dongc\\Anaconda3\\lib\\site-packages\\gensim\\matutils.py:737: FutureWarning: Conversion of the second argument of issubdtype from `int` to `np.signedinteger` is deprecated. In future, it will be treated as `np.int32 == np.dtype(int).type`.\n",
      "  if np.issubdtype(vec.dtype, np.int):\n"
     ]
    },
    {
     "data": {
      "text/plain": [
       "[('데이터', 0.5605283975601196),\n",
       " ('SWOT', 0.48745962977409363),\n",
       " ('시계열', 0.4734002649784088),\n",
       " ('통계', 0.46641141176223755),\n",
       " ('MS', 0.44373124837875366),\n",
       " ('SPSS', 0.44330522418022156),\n",
       " ('뇌파', 0.4423272907733917),\n",
       " ('DB', 0.4270191788673401),\n",
       " ('추이', 0.41185277700424194),\n",
       " ('자료', 0.40939900279045105),\n",
       " ('빅', 0.4082772731781006),\n",
       " ('패킷', 0.4046884775161743),\n",
       " ('AI', 0.40282902121543884),\n",
       " ('미생물', 0.3976278007030487),\n",
       " ('PTM', 0.39534854888916016),\n",
       " ('비트', 0.3915219008922577),\n",
       " ('재무관리', 0.3894278109073639),\n",
       " ('기기', 0.38884609937667847),\n",
       " ('EVA', 0.3855362832546234),\n",
       " ('TEM', 0.3846418261528015)]"
      ]
     },
     "execution_count": 26,
     "metadata": {},
     "output_type": "execute_result"
    }
   ],
   "source": [
    "model.most_similar('빅데이터',topn = 20)"
   ]
  },
  {
   "cell_type": "code",
   "execution_count": 52,
   "metadata": {},
   "outputs": [
    {
     "name": "stderr",
     "output_type": "stream",
     "text": [
      "C:\\Users\\dongc\\Anaconda3\\lib\\site-packages\\ipykernel_launcher.py:1: DeprecationWarning: Call to deprecated `most_similar` (Method will be removed in 4.0.0, use self.wv.most_similar() instead).\n",
      "  \"\"\"Entry point for launching an IPython kernel.\n",
      "C:\\Users\\dongc\\Anaconda3\\lib\\site-packages\\gensim\\matutils.py:737: FutureWarning: Conversion of the second argument of issubdtype from `int` to `np.signedinteger` is deprecated. In future, it will be treated as `np.int32 == np.dtype(int).type`.\n",
      "  if np.issubdtype(vec.dtype, np.int):\n"
     ]
    },
    {
     "data": {
      "text/plain": [
       "[('프로세스', 0.5092446208000183),\n",
       " ('솔루션', 0.4686526656150818),\n",
       " ('인프라', 0.4526658058166504),\n",
       " ('네트워크', 0.4321191608905792),\n",
       " ('기술', 0.4309496581554413),\n",
       " ('통신망', 0.4259847402572632),\n",
       " ('설비', 0.42095065116882324),\n",
       " ('데이터베이스', 0.4046310782432556),\n",
       " ('공급망', 0.4011474847793579),\n",
       " ('플랫폼', 0.4001407325267792),\n",
       " ('제어장치', 0.3950809836387634),\n",
       " ('기법', 0.39419281482696533),\n",
       " ('망', 0.390095055103302),\n",
       " ('및', 0.387604296207428),\n",
       " ('프로그램', 0.38529518246650696),\n",
       " ('최적화', 0.38435643911361694),\n",
       " ('체계', 0.38406461477279663),\n",
       " ('장치', 0.3823065161705017),\n",
       " ('제어기', 0.3780691921710968),\n",
       " ('서비스', 0.37747377157211304)]"
      ]
     },
     "execution_count": 52,
     "metadata": {},
     "output_type": "execute_result"
    }
   ],
   "source": [
    "model.most_similar('시스템',topn = 20)"
   ]
  },
  {
   "cell_type": "code",
   "execution_count": 54,
   "metadata": {},
   "outputs": [
    {
     "name": "stderr",
     "output_type": "stream",
     "text": [
      "C:\\Users\\dongc\\Anaconda3\\lib\\site-packages\\ipykernel_launcher.py:2: DeprecationWarning: Call to deprecated `most_similar` (Method will be removed in 4.0.0, use self.wv.most_similar() instead).\n",
      "  \n",
      "C:\\Users\\dongc\\Anaconda3\\lib\\site-packages\\gensim\\matutils.py:737: FutureWarning: Conversion of the second argument of issubdtype from `int` to `np.signedinteger` is deprecated. In future, it will be treated as `np.int32 == np.dtype(int).type`.\n",
      "  if np.issubdtype(vec.dtype, np.int):\n"
     ]
    },
    {
     "data": {
      "text/plain": [
       "[('소비자', 0.736178994178772),\n",
       " ('손님', 0.5787074565887451),\n",
       " ('점주', 0.5536307096481323),\n",
       " ('바이어', 0.49149301648139954),\n",
       " ('상대방', 0.49011290073394775),\n",
       " ('승객', 0.484610378742218),\n",
       " ('직원', 0.4772767424583435),\n",
       " ('이용자', 0.4768998622894287),\n",
       " ('민원인', 0.4724515378475189),\n",
       " ('국민', 0.47005152702331543),\n",
       " ('구매자', 0.4634861350059509),\n",
       " ('경영주', 0.45623457431793213),\n",
       " ('화주', 0.44394975900650024),\n",
       " ('유저', 0.4429422616958618),\n",
       " ('객사', 0.43938106298446655),\n",
       " ('투자자', 0.4384162425994873),\n",
       " ('환자', 0.4351111352443695),\n",
       " ('조합원', 0.4305872917175293),\n",
       " ('학부모', 0.42669832706451416),\n",
       " ('사람', 0.41464370489120483)]"
      ]
     },
     "execution_count": 54,
     "metadata": {},
     "output_type": "execute_result"
    }
   ],
   "source": [
    "# 잡코리아까지 합친거\n",
    "model.most_similar('고객',topn = 20)"
   ]
  },
  {
   "cell_type": "markdown",
   "metadata": {
    "collapsed": true
   },
   "source": [
    "# 모델 불러오기"
   ]
  },
  {
   "cell_type": "code",
   "execution_count": 2,
   "metadata": {
    "collapsed": true
   },
   "outputs": [],
   "source": [
    "model = gensim.models.word2vec.Word2Vec.load('../data/word2vec_mecab.model')"
   ]
  },
  {
   "cell_type": "code",
   "execution_count": 21,
   "metadata": {},
   "outputs": [
    {
     "data": {
      "text/plain": [
       "300"
      ]
     },
     "execution_count": 21,
     "metadata": {},
     "output_type": "execute_result"
    }
   ],
   "source": [
    "len(model.wv['열정'])"
   ]
  },
  {
   "cell_type": "code",
   "execution_count": 46,
   "metadata": {},
   "outputs": [],
   "source": [
    "mecab = Mecab()"
   ]
  },
  {
   "cell_type": "code",
   "execution_count": 48,
   "metadata": {},
   "outputs": [
    {
     "data": {
      "text/plain": [
       "['딥', '러닝']"
      ]
     },
     "execution_count": 48,
     "metadata": {},
     "output_type": "execute_result"
    }
   ],
   "source": [
    "mecab.nouns(\"딥러닝을 배우자\")"
   ]
  },
  {
   "cell_type": "code",
   "execution_count": null,
   "metadata": {},
   "outputs": [],
   "source": []
  }
 ],
 "metadata": {
  "kernelspec": {
   "display_name": "Python 3",
   "language": "python",
   "name": "python3"
  },
  "language_info": {
   "codemirror_mode": {
    "name": "ipython",
    "version": 3
   },
   "file_extension": ".py",
   "mimetype": "text/x-python",
   "name": "python",
   "nbconvert_exporter": "python",
   "pygments_lexer": "ipython3",
   "version": "3.6.5"
  }
 },
 "nbformat": 4,
 "nbformat_minor": 2
}
