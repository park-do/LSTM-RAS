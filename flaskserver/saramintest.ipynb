{
 "cells": [
  {
   "cell_type": "code",
   "execution_count": 2,
   "metadata": {},
   "outputs": [
    {
     "name": "stdout",
     "output_type": "stream",
     "text": [
      "{'job': '\\n    ', 'id': '35171242', 'url': 'http://www.saramin.co.kr/zf_user/jobs/relay/view?rec_idx=35171242&utm_source=job-search-api&utm_medium=api&utm_campaign=saramin-job-search-api', 'active': '1', 'posting-timestamp': '1543299956', 'modification-timestamp': '1543299956', 'opening-timestamp': '1543298400', 'expiration-timestamp': '1544626799', 'close-type': '접수마감일', 'company': {'company': '\\n                ', 'name': '골든비 네트워크'}, 'position': {'position': '\\n      ', 'title': '패션리테일 대기업 경영진단 및 윤리경영담당 정규직 대리 과장', 'location': '서울 &gt; 서초구', 'job-type': '정규직', 'industry': '섬유·의류·패션', 'job-category': '섬유·의류·패션', 'open-quantity': '1', 'experience-level': '경력 6~10년', 'required-education-level': '대학교졸업(4년)이상'}, 'keyword': '패션,패션', 'salary': '면접후 결정'}\n",
      "{'company': '\\n                ', 'name': '골든비 네트워크'}\n",
      "-----\n",
      "골든비 네트워크\n"
     ]
    }
   ],
   "source": [
    "import simplexml\n",
    "import requests\n",
    "\n",
    "industry = \"경영\"\n",
    "url = \"http://api.saramin.co.kr/job-search?keywords=\" + industry\n",
    "response = requests.get(url)\n",
    "\n",
    "dic = simplexml.loads(response.text)\n",
    "\n",
    "print(dic['job-search']['jobs']['job'][0])\n",
    "job = dic['job-search']['jobs']['job'][0]\n",
    "url = job['url']\n",
    "company = job['company']\n",
    "print(company)\n",
    "print(\"-----\")\n",
    "companyname = company['name']\n",
    "print(companyname)"
   ]
  },
  {
   "cell_type": "code",
   "execution_count": null,
   "metadata": {},
   "outputs": [],
   "source": []
  },
  {
   "cell_type": "code",
   "execution_count": 26,
   "metadata": {},
   "outputs": [
    {
     "data": {
      "text/plain": [
       "'http://www.saramin.co.kr/zf_user/company-info/view?csn=1078676881#utm_source=job-search-api&utm_medium=api&utm_campaign=saramin-job-search-api'"
      ]
     },
     "execution_count": 26,
     "metadata": {},
     "output_type": "execute_result"
    }
   ],
   "source": [
    "from xml.etree.ElementTree import fromstring\n",
    "\n",
    "industry = \"경영\"\n",
    "url = \"http://api.saramin.co.kr/job-search?keywords=\" + industry\n",
    "response = requests.get(url)\n",
    "\n",
    "tree = fromstring(response.text)\n",
    "tree.find(\"jobs\").findall(\"job\")[0].find(\"company\").find(\"name\").attrib['href']"
   ]
  },
  {
   "cell_type": "code",
   "execution_count": 27,
   "metadata": {},
   "outputs": [],
   "source": [
    "import time\n",
    "\n",
    "timestamp = \"1544626799\"\n"
   ]
  }
 ],
 "metadata": {
  "kernelspec": {
   "display_name": "Python 3",
   "language": "python",
   "name": "python3"
  },
  "language_info": {
   "codemirror_mode": {
    "name": "ipython",
    "version": 3
   },
   "file_extension": ".py",
   "mimetype": "text/x-python",
   "name": "python",
   "nbconvert_exporter": "python",
   "pygments_lexer": "ipython3",
   "version": "3.6.5"
  }
 },
 "nbformat": 4,
 "nbformat_minor": 2
}
