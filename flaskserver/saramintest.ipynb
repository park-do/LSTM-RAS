{
 "cells": [
  {
   "cell_type": "code",
   "execution_count": 2,
   "metadata": {},
   "outputs": [
    {
     "name": "stdout",
     "output_type": "stream",
     "text": [
      "{'job': '\\n    ', 'id': '35171242', 'url': 'http://www.saramin.co.kr/zf_user/jobs/relay/view?rec_idx=35171242&utm_source=job-search-api&utm_medium=api&utm_campaign=saramin-job-search-api', 'active': '1', 'posting-timestamp': '1543299956', 'modification-timestamp': '1543299956', 'opening-timestamp': '1543298400', 'expiration-timestamp': '1544626799', 'close-type': '접수마감일', 'company': {'company': '\\n                ', 'name': '골든비 네트워크'}, 'position': {'position': '\\n      ', 'title': '패션리테일 대기업 경영진단 및 윤리경영담당 정규직 대리 과장', 'location': '서울 &gt; 서초구', 'job-type': '정규직', 'industry': '섬유·의류·패션', 'job-category': '섬유·의류·패션', 'open-quantity': '1', 'experience-level': '경력 6~10년', 'required-education-level': '대학교졸업(4년)이상'}, 'keyword': '패션,패션', 'salary': '면접후 결정'}\n",
      "{'company': '\\n                ', 'name': '골든비 네트워크'}\n",
      "-----\n",
      "골든비 네트워크\n"
     ]
    }
   ],
   "source": [
    "import simplexml\n",
    "import requests\n",
    "\n",
    "industry = \"경영\"\n",
    "url = \"http://api.saramin.co.kr/job-search?keywords=\" + industry\n",
    "response = requests.get(url)\n",
    "\n",
    "dic = simplexml.loads(response.text)\n",
    "\n",
    "print(dic['job-search']['jobs']['job'][0])\n",
    "job = dic['job-search']['jobs']['job'][0]\n",
    "url = job['url']\n",
    "company = job['company']\n",
    "print(company)\n",
    "print(\"-----\")\n",
    "companyname = company['name']\n",
    "print(companyname)"
   ]
  },
  {
   "cell_type": "code",
   "execution_count": null,
   "metadata": {},
   "outputs": [],
   "source": []
  },
  {
   "cell_type": "code",
   "execution_count": 26,
   "metadata": {},
   "outputs": [
    {
     "data": {
      "text/plain": [
       "'http://www.saramin.co.kr/zf_user/company-info/view?csn=1078676881#utm_source=job-search-api&utm_medium=api&utm_campaign=saramin-job-search-api'"
      ]
     },
     "execution_count": 26,
     "metadata": {},
     "output_type": "execute_result"
    }
   ],
   "source": [
    "from xml.etree.ElementTree import fromstring\n",
    "\n",
    "industry = \"경영\"\n",
    "url = \"http://api.saramin.co.kr/job-search?keywords=\" + industry\n",
    "response = requests.get(url)\n",
    "\n",
    "tree = fromstring(response.text)\n",
    "tree.find(\"jobs\").findall(\"job\")[0].find(\"company\").find(\"name\").attrib['href']"
   ]
  },
  {
   "cell_type": "code",
   "execution_count": 34,
   "metadata": {},
   "outputs": [
    {
     "ename": "TypeError",
     "evalue": "an integer is required (got type str)",
     "output_type": "error",
     "traceback": [
      "\u001b[1;31m---------------------------------------------------------------------------\u001b[0m",
      "\u001b[1;31mTypeError\u001b[0m                                 Traceback (most recent call last)",
      "\u001b[1;32m<ipython-input-34-30f07d29f675>\u001b[0m in \u001b[0;36m<module>\u001b[1;34m\u001b[0m\n\u001b[0;32m      3\u001b[0m \u001b[1;33m\u001b[0m\u001b[0m\n\u001b[0;32m      4\u001b[0m \u001b[0mtimestamp\u001b[0m \u001b[1;33m=\u001b[0m \u001b[1;34m\"1544626799\"\u001b[0m\u001b[1;33m\u001b[0m\u001b[0m\n\u001b[1;32m----> 5\u001b[1;33m \u001b[0md\u001b[0m \u001b[1;33m=\u001b[0m \u001b[0mdatetime\u001b[0m\u001b[1;33m.\u001b[0m\u001b[0mfromtimestamp\u001b[0m\u001b[1;33m(\u001b[0m\u001b[0mtimestamp\u001b[0m\u001b[1;33m)\u001b[0m\u001b[1;33m\u001b[0m\u001b[0m\n\u001b[0m\u001b[0;32m      6\u001b[0m \u001b[0mstr\u001b[0m\u001b[1;33m(\u001b[0m\u001b[0md\u001b[0m\u001b[1;33m)\u001b[0m\u001b[1;33m\u001b[0m\u001b[0m\n",
      "\u001b[1;31mTypeError\u001b[0m: an integer is required (got type str)"
     ]
    }
   ],
   "source": [
    "import time\n",
    "from datetime import datetime\n",
    "\n",
    "timestamp = \"1544626799\"\n",
    "d = datetime.fromtimestamp(timestamp)\n",
    "str(d)"
   ]
  },
  {
   "cell_type": "code",
   "execution_count": 40,
   "metadata": {},
   "outputs": [
    {
     "name": "stdout",
     "output_type": "stream",
     "text": [
      "http://www.saramin.co.kr/zf_user/company-info/view?csn=1208626517#utm_source=job-search-api&utm_medium=api&utm_campaign=saramin-job-search-api\n",
      "<tr><td><a target='_blank' href='http://www.saramin.co.kr/zf_user/jobs/relay/view?rec_idx=35172063&utm_source=job-search-api&utm_medium=api&utm_campaign=saramin-job-search-api'>11. 국내대기업금융/(대리-과장급) 해외투자 심사 전문 채용중</a></td><td><a target='_blank' href='http://www.saramin.co.kr/zf_user/company-info/view?csn=1208626517#utm_source=job-search-api&utm_medium=api&utm_campaign=saramin-job-search-api'>베스트네트워크(주)</a></td><td>2018-11-27 16:00:00</td><td>2018-12-12 23:59:59</td><td>서울 &gt; 강남구</td><td>증권·보험·카드</td><td>영업기획·관리·지원, 채권·보험·보상·심사</td><td>경력무관</td><td>학력무관</td><td>면접후 결정</td></tr>\n",
      "<tr><td><a target='_blank' href='http://www.saramin.co.kr/zf_user/jobs/relay/view?rec_idx=35172004&utm_source=job-search-api&utm_medium=api&utm_campaign=saramin-job-search-api'>[두산그룹/월190만]사무직원 모집-주5-</a></td><td><a target='_blank' href='http://www.saramin.co.kr/zf_user/company-info/view?csn=2208115391#utm_source=job-search-api&utm_medium=api&utm_campaign=saramin-job-search-api'>주식회사 서울커뮤니케이션</a></td><td>2018-11-27 16:00:00</td><td>2018-12-04 23:59:59</td><td>경남 &gt; 창원시</td><td>기타제조업</td><td>총무·법무·사무, 사무보조·문서작성, 회계·재무·세무·IR</td><td>경력무관</td><td>대학졸업(2,3년)이상</td><td>2,400~2,600만원</td></tr>\n",
      "<tr><td><a target='_blank' href='http://www.saramin.co.kr/zf_user/jobs/relay/view?rec_idx=35171983&utm_source=job-search-api&utm_medium=api&utm_campaign=saramin-job-search-api'>마케팅 경력자 채용</a></td><td><a target='_blank' href='http://www.saramin.co.kr/zf_user/company-info/view?csn=1288704251#utm_source=job-search-api&utm_medium=api&utm_campaign=saramin-job-search-api'>(주)고객경영기술원</a></td><td>2018-11-27 16:00:00</td><td>2019-01-26 23:59:59</td><td>서울 &gt; 마포구</td><td>솔루션·SI·ERP·CRM</td><td>마케팅·광고·분석</td><td>경력1년↑</td><td>학력무관</td><td>면접후 결정</td></tr>\n",
      "<tr><td><a target='_blank' href='http://www.saramin.co.kr/zf_user/jobs/relay/view?rec_idx=35171979&utm_source=job-search-api&utm_medium=api&utm_campaign=saramin-job-search-api'>[KSNET자회사] 영업지원/영업/VAN(포스AS)관리/채권관리 모집</a></td><td><a target='_blank' href='http://www.saramin.co.kr/zf_user/company-info/view?csn=1208785681#utm_source=job-search-api&utm_medium=api&utm_campaign=saramin-job-search-api'>(유)KSANP</a></td><td>2018-11-28 09:00:00</td><td>2018-12-19 23:59:59</td><td>서울 &gt; 강동구</td><td>하드웨어·장비</td><td>AS·서비스·수리, 일반영업, 영업기획·관리·지원</td><td>경력무관</td><td>대학졸업(2,3년)이상</td><td>면접후 결정</td></tr>\n",
      "<tr><td><a target='_blank' href='http://www.saramin.co.kr/zf_user/jobs/relay/view?rec_idx=35171973&utm_source=job-search-api&utm_medium=api&utm_campaign=saramin-job-search-api'>회계 경력자 (대리-과장급)</a></td><td><a target='_blank' href='http://www.saramin.co.kr/zf_user/company-info/view?csn=5478601104#utm_source=job-search-api&utm_medium=api&utm_campaign=saramin-job-search-api'>(주)조인스에이치알코리아</a></td><td>2018-11-27 16:00:00</td><td>2018-11-29 10:00:00</td><td>서울 &gt; 서초구</td><td>금속·재료·철강·요업</td><td>회계·재무·세무·IR</td><td>경력 4~10년</td><td>대학교졸업(4년)이상</td><td>면접후 결정</td></tr>\n",
      "<tr><td><a target='_blank' href='http://www.saramin.co.kr/zf_user/jobs/relay/view?rec_idx=35171938&utm_source=job-search-api&utm_medium=api&utm_campaign=saramin-job-search-api'>[외국계 제약회사] 마케팅 인턴 모집</a></td><td><a target='_blank' href='http://www.saramin.co.kr/zf_user/company-info/view?csn=2148619188#utm_source=job-search-api&utm_medium=api&utm_campaign=saramin-job-search-api'>사노피파스퇴르(주)</a></td><td>2018-11-27 16:00:00</td><td>2018-12-04 23:59:59</td><td>서울 &gt; 서초구</td><td>제약·보건·바이오</td><td>마케팅·광고·분석</td><td>신입</td><td>대학교졸업(4년)이상</td><td>회사내규에 따름</td></tr>\n",
      "<tr><td><a target='_blank' href='http://www.saramin.co.kr/zf_user/jobs/relay/view?rec_idx=35171912&utm_source=job-search-api&utm_medium=api&utm_campaign=saramin-job-search-api'>(주5일/주간)정성코스메틱 품질관리팀(QC팀) 신입사원모집</a></td><td><a target='_blank' href='http://www.saramin.co.kr/zf_user/company-info/view?csn=2148663928#utm_source=job-search-api&utm_medium=api&utm_campaign=saramin-job-search-api'>(주)애드민</a></td><td>2018-11-27 16:00:00</td><td>2018-12-04 23:59:59</td><td>충남 &gt; 천안시, 충남 &gt; 천안시 동남구, 충남 &gt; 천안시 서북구, 세종 &gt; 세종특별자치시</td><td>화장품·뷰티</td><td>생산관리·품질관리, 반도체·디스플레이·LCD, 생산·제조·포장·조립</td><td>경력무관</td><td>학력무관</td><td>회사내규에 따름</td></tr>\n",
      "<tr><td><a target='_blank' href='http://www.saramin.co.kr/zf_user/jobs/relay/view?rec_idx=35171866&utm_source=job-search-api&utm_medium=api&utm_campaign=saramin-job-search-api'>2018년 품질경영팀 측정실 공정감사원 근무자 모집</a></td><td><a target='_blank' href='http://www.saramin.co.kr/zf_user/company-info/view?csn=1248650436#utm_source=job-search-api&utm_medium=api&utm_campaign=saramin-job-search-api'>씨와이오토텍(주)</a></td><td>2018-11-27 16:00:00</td><td>2018-12-12 23:59:59</td><td>경기 &gt; 화성시</td><td>기계·설비·자동차</td><td>생산관리·품질관리</td><td>신입/경력</td><td>학력무관</td><td>회사내규에 따름</td></tr>\n",
      "<tr><td><a target='_blank' href='http://www.saramin.co.kr/zf_user/jobs/relay/view?rec_idx=35171840&utm_source=job-search-api&utm_medium=api&utm_campaign=saramin-job-search-api'>[하남위례/월200만/성과별도] 대기업 SK계열사 임원비서채용</a></td><td><a target='_blank' href='http://www.saramin.co.kr/zf_user/company-info/view?csn=2148643510#utm_source=job-search-api&utm_medium=api&utm_campaign=saramin-job-search-api'>(주)키스템프</a></td><td>2018-11-27 16:00:00</td><td>2018-11-29 23:59:59</td><td>경기 &gt; 하남시</td><td>석유·화학·에너지</td><td>총무·법무·사무, 비서·안내·수행원, 사무보조·문서작성</td><td>경력1년↑</td><td>대학졸업(2,3년)이상</td><td>2,600~2,800만원</td></tr>\n",
      "<tr><td><a target='_blank' href='http://www.saramin.co.kr/zf_user/jobs/relay/view?rec_idx=35171833&utm_source=job-search-api&utm_medium=api&utm_campaign=saramin-job-search-api'>[SK브로드밴드] 사내 교육강사 모집(부천)</a></td><td><a target='_blank' href='http://www.saramin.co.kr/zf_user/company-info/view?csn=1288616842#utm_source=job-search-api&utm_medium=api&utm_campaign=saramin-job-search-api'>브로드밴드TS(주)</a></td><td>2018-11-27 16:00:00</td><td>2018-11-29 10:00:00</td><td>경기 &gt; 부천시 원미구</td><td>네트워크·통신·모바일</td><td>인사·교육·노무, QA·CS강사·수퍼바이저</td><td>신입/경력</td><td>대학졸업(2,3년)이상</td><td>회사내규에 따름</td></tr>\n"
     ]
    }
   ],
   "source": [
    "industry = \"경영\"\n",
    "url = \"http://api.saramin.co.kr/job-search?keywords=\" + industry\n",
    "response = requests.get(url)\n",
    "\n",
    "tree = fromstring(response.text)\n",
    "print(tree.find(\"jobs\").findall(\"job\")[0].find(\"company\").find(\"name\").attrib['href'])\n",
    "\n",
    "jobList  = tree.find(\"jobs\").findall(\"job\")\n",
    "\n",
    "tdList = []\n",
    "\n",
    "for job in jobList:\n",
    "    jobLink = job.find(\"url\").text\n",
    "    companyName = job.find(\"company\").find(\"name\").text\n",
    "    companyLink = job.find(\"company\").find(\"name\").attrib['href']\n",
    "    startTime = str(datetime.fromtimestamp(int(job.find(\"opening-timestamp\").text)))\n",
    "    endTime = str(datetime.fromtimestamp(int(job.find(\"expiration-timestamp\").text)))\n",
    "    salary = job.find('salary').text\n",
    "\n",
    "    position = job.find(\"position\")\n",
    "    title = position.find(\"title\").text\n",
    "    location = position.find(\"location\").text\n",
    "    industry = position.find(\"industry\").text\n",
    "    category = position.find(\"job-category\").text\n",
    "    req_exp = position.find(\"experience-level\").text\n",
    "    req_edu = position.find(\"required-education-level\").text\n",
    "\n",
    "#     print(jobLink)\n",
    "#     print(companyName)\n",
    "#     print(companyLink)\n",
    "#     print(startTime)\n",
    "#     print(endTime)\n",
    "#     print(title)\n",
    "#     print(location)\n",
    "#     print(industry)\n",
    "#     print(category)\n",
    "#     print(req_exp)\n",
    "#     print(req_edu)\n",
    "#     print(salary)\n",
    "#     print(\"=======================\")\n",
    "    td = \"\"\n",
    "    td += \"<tr>\"\n",
    "    td += \"<td>\"\n",
    "    td += \"<a target='_blank' href='\"+jobLink+\"'>\"+title+\"</a>\"\n",
    "    td += \"</td>\"\n",
    "\n",
    "    td += \"<td>\"\n",
    "    td += \"<a target='_blank' href='\"+companyLink+\"'>\"+companyName+\"</a>\"\n",
    "    td += \"</td>\"\n",
    "\n",
    "    td += \"<td>\" + startTime + \"</td>\"\n",
    "    td += \"<td>\" + endTime + \"</td>\"\n",
    "    td += \"<td>\" + location + \"</td>\"\n",
    "    td += \"<td>\" + industry + \"</td>\"\n",
    "    td += \"<td>\" + category + \"</td>\"\n",
    "    td += \"<td>\" + req_exp + \"</td>\"\n",
    "    td += \"<td>\" + req_edu + \"</td>\"\n",
    "    td += \"<td>\" + salary + \"</td>\"\n",
    "    td += \"</tr>\"\n",
    "    \n",
    "    print(td)"
   ]
  }
 ],
 "metadata": {
  "kernelspec": {
   "display_name": "Python 3",
   "language": "python",
   "name": "python3"
  },
  "language_info": {
   "codemirror_mode": {
    "name": "ipython",
    "version": 3
   },
   "file_extension": ".py",
   "mimetype": "text/x-python",
   "name": "python",
   "nbconvert_exporter": "python",
   "pygments_lexer": "ipython3",
   "version": "3.6.5"
  }
 },
 "nbformat": 4,
 "nbformat_minor": 2
}
