{
 "cells": [
  {
   "cell_type": "code",
   "execution_count": 18,
   "metadata": {},
   "outputs": [],
   "source": [
    "import pandas as pd\n",
    "from tqdm import tqdm_notebook\n",
    "from eunjeon import Mecab\n",
    "from konlpy.tag import Okt\n",
    "import numpy as np\n",
    "mecab = Mecab()\n",
    "okt = Okt()"
   ]
  },
  {
   "cell_type": "markdown",
   "metadata": {},
   "source": [
    "# 에러 없애기"
   ]
  },
  {
   "cell_type": "code",
   "execution_count": 2,
   "metadata": {},
   "outputs": [],
   "source": [
    "df = pd.read_csv('../data/자소서_잡코추가.csv',index_col=0, engine='python', encoding='utf8')"
   ]
  },
  {
   "cell_type": "code",
   "execution_count": 71,
   "metadata": {
    "collapsed": true
   },
   "outputs": [],
   "source": [
    "df = df.reset_index().drop(columns=['index'])"
   ]
  },
  {
   "cell_type": "code",
   "execution_count": 3,
   "metadata": {},
   "outputs": [
    {
     "data": {
      "text/html": [
       "<div>\n",
       "<style scoped>\n",
       "    .dataframe tbody tr th:only-of-type {\n",
       "        vertical-align: middle;\n",
       "    }\n",
       "\n",
       "    .dataframe tbody tr th {\n",
       "        vertical-align: top;\n",
       "    }\n",
       "\n",
       "    .dataframe thead th {\n",
       "        text-align: right;\n",
       "    }\n",
       "</style>\n",
       "<table border=\"1\" class=\"dataframe\">\n",
       "  <thead>\n",
       "    <tr style=\"text-align: right;\">\n",
       "      <th></th>\n",
       "      <th>category</th>\n",
       "      <th>c_origin</th>\n",
       "      <th>jss</th>\n",
       "      <th>label</th>\n",
       "    </tr>\n",
       "  </thead>\n",
       "  <tbody>\n",
       "    <tr>\n",
       "      <th>0</th>\n",
       "      <td>경영지원</td>\n",
       "      <td>기획·전략·경영</td>\n",
       "      <td>[제품 홍보가 곧 기업 홍보다]\\n제품 홍보가 곧 기업 홍보라는 회사의 모토처럼, ...</td>\n",
       "      <td>0</td>\n",
       "    </tr>\n",
       "    <tr>\n",
       "      <th>1</th>\n",
       "      <td>경영지원</td>\n",
       "      <td>기획·전략·경영</td>\n",
       "      <td>[남양유업 경영관리 전문가]\\n제가 지원하게 된 경영관리는 기업이 올바른 방향으로 ...</td>\n",
       "      <td>0</td>\n",
       "    </tr>\n",
       "    <tr>\n",
       "      <th>2</th>\n",
       "      <td>경영지원</td>\n",
       "      <td>기획·전략·경영</td>\n",
       "      <td>[높은 경쟁률 통과]\\n작년 여름, 봉사활동에 늘 뜻이 있어 '행복 나눔 봉사단'이...</td>\n",
       "      <td>0</td>\n",
       "    </tr>\n",
       "    <tr>\n",
       "      <th>3</th>\n",
       "      <td>경영지원</td>\n",
       "      <td>기획·전략·경영</td>\n",
       "      <td>[꼼꼼함과 완벽함 사이]\\n차분하고 꼼꼼한 성격을 지닌 저는 항상 주어진 일에 최선...</td>\n",
       "      <td>0</td>\n",
       "    </tr>\n",
       "    <tr>\n",
       "      <th>4</th>\n",
       "      <td>경영지원</td>\n",
       "      <td>기획·전략·경영</td>\n",
       "      <td>경영학과 중국어 두 가지에 집중했습니다.\\n대학에 입학하고는, 다양한 학문을 포괄적...</td>\n",
       "      <td>0</td>\n",
       "    </tr>\n",
       "  </tbody>\n",
       "</table>\n",
       "</div>"
      ],
      "text/plain": [
       "  category  c_origin                                                jss  label\n",
       "0     경영지원  기획·전략·경영  [제품 홍보가 곧 기업 홍보다]\\n제품 홍보가 곧 기업 홍보라는 회사의 모토처럼, ...      0\n",
       "1     경영지원  기획·전략·경영  [남양유업 경영관리 전문가]\\n제가 지원하게 된 경영관리는 기업이 올바른 방향으로 ...      0\n",
       "2     경영지원  기획·전략·경영  [높은 경쟁률 통과]\\n작년 여름, 봉사활동에 늘 뜻이 있어 '행복 나눔 봉사단'이...      0\n",
       "3     경영지원  기획·전략·경영  [꼼꼼함과 완벽함 사이]\\n차분하고 꼼꼼한 성격을 지닌 저는 항상 주어진 일에 최선...      0\n",
       "4     경영지원  기획·전략·경영  경영학과 중국어 두 가지에 집중했습니다.\\n대학에 입학하고는, 다양한 학문을 포괄적...      0"
      ]
     },
     "execution_count": 3,
     "metadata": {},
     "output_type": "execute_result"
    }
   ],
   "source": [
    "df.head()"
   ]
  },
  {
   "cell_type": "code",
   "execution_count": 75,
   "metadata": {},
   "outputs": [
    {
     "data": {
      "application/vnd.jupyter.widget-view+json": {
       "model_id": "3e032713f2354ff3972ae7baf8a088bc",
       "version_major": 2,
       "version_minor": 0
      },
      "text/plain": [
       "HBox(children=(IntProgress(value=0, max=12740), HTML(value='')))"
      ]
     },
     "metadata": {},
     "output_type": "display_data"
    },
    {
     "name": "stdout",
     "output_type": "stream",
     "text": [
      "4404 1. Wi-Fi Direct를 이용한 동시 사진 편집 프로그램 ",
      "와이파이가 제공되지 않는 환경에서도 사용자 사이에 사진을 주고받고, 편집할 수 있는 안드로이드 애플리케이션입니다. 사용자들은 사진을 공유하여 각각 수정하고, 이 수정된 정보는 실시간으로 모든 사용자에게 전달됩니다. Wi-Fi Direct 연결과 사진 편집 정보를 주고받는 통신 과정을 담당했습니다. \n",
      "\n",
      "팀원 모두가 안드로이드 개발이 처음이라 구현하고자 하는 기능이 제대로 실행되는 데 중점을 두었습니다. IEEE 802.11 국제 표준과 관련 논문 등을 읽으며 열심히 공부했습니다. 이 프로젝트를 통해 무선 네트워크에 대한 이해가 깊어졌으며 API 문서를 연구하고 적용하는 연습을 할 수 있었습니다. \n",
      "\n",
      "1. **** ",
      "회사에서 근무했을 때 개발에 참여했던 안드로이드 애플리케이션입니다. 무료 통화를 제공하는 애플리케이션이며, 개발, 유지, 보수를 담당했습니다. 안정성과 퍼포먼스를 가장 중요하게 생각했습니다. 에러가 생기면 구글 플레이 스토어의 평점이 바로 내려가는 등의 영향이 있었기 때문에 사소한 수정이라도 꼼꼼한 테스트를 거쳤습니다. 또한, 무료 통화 성공률을 높이기 위해 개발팀에서 며칠 밤을 새우며 수천 번의 테스트를 진행했습니다. \n",
      "\n",
      "이를 통해 이전에는 파악하지 못했던 다양한 문제점을 발견하게 되었습니다. 이를 개선함으로써 애플리케이션의 퍼포먼스도 향상되고 사용자에게 긍정적인 피드백을 받을 수 있었습니다. 이 경험을 통하여 개발 실력을 키울 수 있었습니다. 뿐만 아니라, 여러 기획회의에 직접 참여하며 일이 진행되는 프로세스를 경험했고, 책임감 등을 키웠으며, 다른 부서 사람들과 소통하고 협업하는 능력도 길렀습니다.\n",
      "\n"
     ]
    }
   ],
   "source": [
    "debug = []\n",
    "bugidx = []\n",
    "i = 0\n",
    "for txt in tqdm_notebook(df.jss):\n",
    "    try:\n",
    "        nouns = mecab.morphs(txt)\n",
    "    except:\n",
    "        print(i, txt)\n",
    "        bugidx.append(i)\n",
    "        debug.append(nouns)\n",
    "    if len(nouns) == 0:\n",
    "        print(i, txt)\n",
    "        bugidx.append(i)\n",
    "        debug.append(nouns)\n",
    "    i += 1"
   ]
  },
  {
   "cell_type": "code",
   "execution_count": 76,
   "metadata": {},
   "outputs": [
    {
     "data": {
      "text/plain": [
       "12740"
      ]
     },
     "execution_count": 76,
     "metadata": {},
     "output_type": "execute_result"
    }
   ],
   "source": [
    "len(df)"
   ]
  },
  {
   "cell_type": "code",
   "execution_count": 77,
   "metadata": {},
   "outputs": [],
   "source": [
    "df = df.drop(bugidx)"
   ]
  },
  {
   "cell_type": "code",
   "execution_count": 6,
   "metadata": {},
   "outputs": [],
   "source": [
    "df.to_csv('../data/자소서_잡코추가2.csv')"
   ]
  },
  {
   "cell_type": "markdown",
   "metadata": {
    "collapsed": true
   },
   "source": [
    "# 경영만 거르기"
   ]
  },
  {
   "cell_type": "code",
   "execution_count": 10,
   "metadata": {
    "collapsed": true
   },
   "outputs": [],
   "source": [
    "df = pd.read_csv('../data/자소서5.csv',index_col=0, engine='python', encoding='utf8')"
   ]
  },
  {
   "cell_type": "code",
   "execution_count": 5,
   "metadata": {},
   "outputs": [],
   "source": [
    "df = df[df.industry=='경영']"
   ]
  },
  {
   "cell_type": "code",
   "execution_count": 9,
   "metadata": {},
   "outputs": [],
   "source": [
    "df.groupby('category').agg('count').sort_values('label',ascending=False).to_excel('../data/경영카테고리.xlsx')"
   ]
  },
  {
   "cell_type": "markdown",
   "metadata": {},
   "source": [
    "# 컴공만 거르기"
   ]
  },
  {
   "cell_type": "code",
   "execution_count": 16,
   "metadata": {},
   "outputs": [],
   "source": [
    "df[df.industry.isin(['IT','서비스','연구개발'])].to_excel('../data/컴공_자소서전체.xlsx')"
   ]
  },
  {
   "cell_type": "code",
   "execution_count": 17,
   "metadata": {
    "collapsed": true
   },
   "outputs": [],
   "source": [
    "df = df[df.industry.isin(['IT','서비스','연구개발'])]"
   ]
  },
  {
   "cell_type": "code",
   "execution_count": 19,
   "metadata": {},
   "outputs": [],
   "source": [
    "df.groupby('category').agg('count').sort_values('label',ascending=False).to_excel('../data/컴공_카테고리카운트.xlsx')"
   ]
  },
  {
   "cell_type": "markdown",
   "metadata": {},
   "source": [
    "# 경영 카테고리1 보자"
   ]
  },
  {
   "cell_type": "code",
   "execution_count": 41,
   "metadata": {
    "collapsed": true
   },
   "outputs": [],
   "source": [
    "cadf = pd.read_excel('../data/경영카테고리1.xlsx',).fillna(method='ffill')"
   ]
  },
  {
   "cell_type": "code",
   "execution_count": 42,
   "metadata": {},
   "outputs": [
    {
     "data": {
      "text/html": [
       "<div>\n",
       "<style scoped>\n",
       "    .dataframe tbody tr th:only-of-type {\n",
       "        vertical-align: middle;\n",
       "    }\n",
       "\n",
       "    .dataframe tbody tr th {\n",
       "        vertical-align: top;\n",
       "    }\n",
       "\n",
       "    .dataframe thead th {\n",
       "        text-align: right;\n",
       "    }\n",
       "</style>\n",
       "<table border=\"1\" class=\"dataframe\">\n",
       "  <thead>\n",
       "    <tr style=\"text-align: right;\">\n",
       "      <th></th>\n",
       "      <th>category1</th>\n",
       "      <th>category2</th>\n",
       "    </tr>\n",
       "  </thead>\n",
       "  <tbody>\n",
       "    <tr>\n",
       "      <th>0</th>\n",
       "      <td>생산품질</td>\n",
       "      <td>생산관리·품질관리</td>\n",
       "    </tr>\n",
       "    <tr>\n",
       "      <th>1</th>\n",
       "      <td>생산품질</td>\n",
       "      <td>안전·품질·검사·관리</td>\n",
       "    </tr>\n",
       "    <tr>\n",
       "      <th>2</th>\n",
       "      <td>생산품질</td>\n",
       "      <td>품질보증</td>\n",
       "    </tr>\n",
       "    <tr>\n",
       "      <th>3</th>\n",
       "      <td>영업</td>\n",
       "      <td>영업관리</td>\n",
       "    </tr>\n",
       "    <tr>\n",
       "      <th>4</th>\n",
       "      <td>영업</td>\n",
       "      <td>일반영업</td>\n",
       "    </tr>\n",
       "  </tbody>\n",
       "</table>\n",
       "</div>"
      ],
      "text/plain": [
       "  category1    category2\n",
       "0      생산품질    생산관리·품질관리\n",
       "1      생산품질  안전·품질·검사·관리\n",
       "2      생산품질         품질보증\n",
       "3        영업         영업관리\n",
       "4        영업         일반영업"
      ]
     },
     "execution_count": 42,
     "metadata": {},
     "output_type": "execute_result"
    }
   ],
   "source": [
    "cadf.head()"
   ]
  },
  {
   "cell_type": "code",
   "execution_count": 44,
   "metadata": {},
   "outputs": [],
   "source": [
    "cadf2 = pd.read_excel('../data/컴공카테고리1.xlsx',header=None)"
   ]
  },
  {
   "cell_type": "code",
   "execution_count": 47,
   "metadata": {
    "collapsed": true
   },
   "outputs": [],
   "source": [
    "cadf2.columns=['category1','category2']"
   ]
  },
  {
   "cell_type": "code",
   "execution_count": 48,
   "metadata": {},
   "outputs": [
    {
     "data": {
      "text/html": [
       "<div>\n",
       "<style scoped>\n",
       "    .dataframe tbody tr th:only-of-type {\n",
       "        vertical-align: middle;\n",
       "    }\n",
       "\n",
       "    .dataframe tbody tr th {\n",
       "        vertical-align: top;\n",
       "    }\n",
       "\n",
       "    .dataframe thead th {\n",
       "        text-align: right;\n",
       "    }\n",
       "</style>\n",
       "<table border=\"1\" class=\"dataframe\">\n",
       "  <thead>\n",
       "    <tr style=\"text-align: right;\">\n",
       "      <th></th>\n",
       "      <th>category1</th>\n",
       "      <th>category2</th>\n",
       "    </tr>\n",
       "  </thead>\n",
       "  <tbody>\n",
       "    <tr>\n",
       "      <th>0</th>\n",
       "      <td>응용프로그래밍</td>\n",
       "      <td>ABAP</td>\n",
       "    </tr>\n",
       "    <tr>\n",
       "      <th>1</th>\n",
       "      <td>응용프로그래밍</td>\n",
       "      <td>C#</td>\n",
       "    </tr>\n",
       "    <tr>\n",
       "      <th>2</th>\n",
       "      <td>응용프로그래밍</td>\n",
       "      <td>C++</td>\n",
       "    </tr>\n",
       "    <tr>\n",
       "      <th>3</th>\n",
       "      <td>응용프로그래밍</td>\n",
       "      <td>HTML·웹표준·UI개발</td>\n",
       "    </tr>\n",
       "    <tr>\n",
       "      <th>4</th>\n",
       "      <td>응용프로그래밍</td>\n",
       "      <td>IT·디자인·컴퓨터교육</td>\n",
       "    </tr>\n",
       "  </tbody>\n",
       "</table>\n",
       "</div>"
      ],
      "text/plain": [
       "  category1      category2\n",
       "0   응용프로그래밍           ABAP\n",
       "1   응용프로그래밍             C#\n",
       "2   응용프로그래밍            C++\n",
       "3   응용프로그래밍  HTML·웹표준·UI개발\n",
       "4   응용프로그래밍   IT·디자인·컴퓨터교육"
      ]
     },
     "execution_count": 48,
     "metadata": {},
     "output_type": "execute_result"
    }
   ],
   "source": [
    "cadf2.head()"
   ]
  },
  {
   "cell_type": "code",
   "execution_count": 50,
   "metadata": {},
   "outputs": [],
   "source": [
    "cadf = pd.concat([cadf,cadf2])"
   ]
  },
  {
   "cell_type": "code",
   "execution_count": 53,
   "metadata": {},
   "outputs": [
    {
     "data": {
      "text/html": [
       "<div>\n",
       "<style scoped>\n",
       "    .dataframe tbody tr th:only-of-type {\n",
       "        vertical-align: middle;\n",
       "    }\n",
       "\n",
       "    .dataframe tbody tr th {\n",
       "        vertical-align: top;\n",
       "    }\n",
       "\n",
       "    .dataframe thead th {\n",
       "        text-align: right;\n",
       "    }\n",
       "</style>\n",
       "<table border=\"1\" class=\"dataframe\">\n",
       "  <thead>\n",
       "    <tr style=\"text-align: right;\">\n",
       "      <th></th>\n",
       "      <th>category1</th>\n",
       "      <th>category2</th>\n",
       "    </tr>\n",
       "  </thead>\n",
       "  <tbody>\n",
       "    <tr>\n",
       "      <th>0</th>\n",
       "      <td>생산품질</td>\n",
       "      <td>생산관리·품질관리</td>\n",
       "    </tr>\n",
       "    <tr>\n",
       "      <th>1</th>\n",
       "      <td>생산품질</td>\n",
       "      <td>안전·품질·검사·관리</td>\n",
       "    </tr>\n",
       "    <tr>\n",
       "      <th>2</th>\n",
       "      <td>생산품질</td>\n",
       "      <td>품질보증</td>\n",
       "    </tr>\n",
       "    <tr>\n",
       "      <th>3</th>\n",
       "      <td>영업</td>\n",
       "      <td>영업관리</td>\n",
       "    </tr>\n",
       "    <tr>\n",
       "      <th>4</th>\n",
       "      <td>영업</td>\n",
       "      <td>일반영업</td>\n",
       "    </tr>\n",
       "  </tbody>\n",
       "</table>\n",
       "</div>"
      ],
      "text/plain": [
       "  category1    category2\n",
       "0      생산품질    생산관리·품질관리\n",
       "1      생산품질  안전·품질·검사·관리\n",
       "2      생산품질         품질보증\n",
       "3        영업         영업관리\n",
       "4        영업         일반영업"
      ]
     },
     "execution_count": 53,
     "metadata": {},
     "output_type": "execute_result"
    }
   ],
   "source": [
    "cadf.head()"
   ]
  },
  {
   "cell_type": "code",
   "execution_count": 54,
   "metadata": {
    "collapsed": true
   },
   "outputs": [],
   "source": [
    "df = pd.read_csv('../data/자소서5.csv',index_col=0, engine='python', encoding='utf8')"
   ]
  },
  {
   "cell_type": "code",
   "execution_count": 55,
   "metadata": {},
   "outputs": [
    {
     "data": {
      "text/html": [
       "<div>\n",
       "<style scoped>\n",
       "    .dataframe tbody tr th:only-of-type {\n",
       "        vertical-align: middle;\n",
       "    }\n",
       "\n",
       "    .dataframe tbody tr th {\n",
       "        vertical-align: top;\n",
       "    }\n",
       "\n",
       "    .dataframe thead th {\n",
       "        text-align: right;\n",
       "    }\n",
       "</style>\n",
       "<table border=\"1\" class=\"dataframe\">\n",
       "  <thead>\n",
       "    <tr style=\"text-align: right;\">\n",
       "      <th></th>\n",
       "      <th>category</th>\n",
       "      <th>jss</th>\n",
       "      <th>industry</th>\n",
       "      <th>label</th>\n",
       "    </tr>\n",
       "  </thead>\n",
       "  <tbody>\n",
       "    <tr>\n",
       "      <th>0</th>\n",
       "      <td>기획·전략·경영</td>\n",
       "      <td>[제품 홍보가 곧 기업 홍보다]\\n제품 홍보가 곧 기업 홍보라는 회사의 모토처럼, ...</td>\n",
       "      <td>경영</td>\n",
       "      <td>0</td>\n",
       "    </tr>\n",
       "    <tr>\n",
       "      <th>1</th>\n",
       "      <td>기획·전략·경영</td>\n",
       "      <td>[남양유업 경영관리 전문가]\\n제가 지원하게 된 경영관리는 기업이 올바른 방향으로 ...</td>\n",
       "      <td>경영</td>\n",
       "      <td>0</td>\n",
       "    </tr>\n",
       "    <tr>\n",
       "      <th>2</th>\n",
       "      <td>기획·전략·경영</td>\n",
       "      <td>[높은 경쟁률 통과]\\n작년 여름, 봉사활동에 늘 뜻이 있어 '행복 나눔 봉사단'이...</td>\n",
       "      <td>경영</td>\n",
       "      <td>0</td>\n",
       "    </tr>\n",
       "    <tr>\n",
       "      <th>3</th>\n",
       "      <td>기획·전략·경영</td>\n",
       "      <td>[꼼꼼함과 완벽함 사이]\\n차분하고 꼼꼼한 성격을 지닌 저는 항상 주어진 일에 최선...</td>\n",
       "      <td>경영</td>\n",
       "      <td>0</td>\n",
       "    </tr>\n",
       "    <tr>\n",
       "      <th>4</th>\n",
       "      <td>기획·전략·경영</td>\n",
       "      <td>경영학과 중국어 두 가지에 집중했습니다.\\n대학에 입학하고는, 다양한 학문을 포괄적...</td>\n",
       "      <td>경영</td>\n",
       "      <td>0</td>\n",
       "    </tr>\n",
       "  </tbody>\n",
       "</table>\n",
       "</div>"
      ],
      "text/plain": [
       "   category                                                jss industry  label\n",
       "0  기획·전략·경영  [제품 홍보가 곧 기업 홍보다]\\n제품 홍보가 곧 기업 홍보라는 회사의 모토처럼, ...       경영      0\n",
       "1  기획·전략·경영  [남양유업 경영관리 전문가]\\n제가 지원하게 된 경영관리는 기업이 올바른 방향으로 ...       경영      0\n",
       "2  기획·전략·경영  [높은 경쟁률 통과]\\n작년 여름, 봉사활동에 늘 뜻이 있어 '행복 나눔 봉사단'이...       경영      0\n",
       "3  기획·전략·경영  [꼼꼼함과 완벽함 사이]\\n차분하고 꼼꼼한 성격을 지닌 저는 항상 주어진 일에 최선...       경영      0\n",
       "4  기획·전략·경영  경영학과 중국어 두 가지에 집중했습니다.\\n대학에 입학하고는, 다양한 학문을 포괄적...       경영      0"
      ]
     },
     "execution_count": 55,
     "metadata": {},
     "output_type": "execute_result"
    }
   ],
   "source": [
    "df.head()"
   ]
  },
  {
   "cell_type": "code",
   "execution_count": 56,
   "metadata": {},
   "outputs": [],
   "source": [
    "df = df.merge(cadf,left_on='category', right_on='category2')[['category1','category2','jss']]"
   ]
  },
  {
   "cell_type": "code",
   "execution_count": 58,
   "metadata": {},
   "outputs": [
    {
     "data": {
      "text/html": [
       "<div>\n",
       "<style scoped>\n",
       "    .dataframe tbody tr th:only-of-type {\n",
       "        vertical-align: middle;\n",
       "    }\n",
       "\n",
       "    .dataframe tbody tr th {\n",
       "        vertical-align: top;\n",
       "    }\n",
       "\n",
       "    .dataframe thead th {\n",
       "        text-align: right;\n",
       "    }\n",
       "</style>\n",
       "<table border=\"1\" class=\"dataframe\">\n",
       "  <thead>\n",
       "    <tr style=\"text-align: right;\">\n",
       "      <th></th>\n",
       "      <th>category1</th>\n",
       "      <th>category2</th>\n",
       "      <th>jss</th>\n",
       "    </tr>\n",
       "  </thead>\n",
       "  <tbody>\n",
       "    <tr>\n",
       "      <th>0</th>\n",
       "      <td>경영기획</td>\n",
       "      <td>기획·전략·경영</td>\n",
       "      <td>[제품 홍보가 곧 기업 홍보다]\\n제품 홍보가 곧 기업 홍보라는 회사의 모토처럼, ...</td>\n",
       "    </tr>\n",
       "    <tr>\n",
       "      <th>1</th>\n",
       "      <td>경영기획</td>\n",
       "      <td>기획·전략·경영</td>\n",
       "      <td>[남양유업 경영관리 전문가]\\n제가 지원하게 된 경영관리는 기업이 올바른 방향으로 ...</td>\n",
       "    </tr>\n",
       "    <tr>\n",
       "      <th>2</th>\n",
       "      <td>경영기획</td>\n",
       "      <td>기획·전략·경영</td>\n",
       "      <td>[높은 경쟁률 통과]\\n작년 여름, 봉사활동에 늘 뜻이 있어 '행복 나눔 봉사단'이...</td>\n",
       "    </tr>\n",
       "    <tr>\n",
       "      <th>3</th>\n",
       "      <td>경영기획</td>\n",
       "      <td>기획·전략·경영</td>\n",
       "      <td>[꼼꼼함과 완벽함 사이]\\n차분하고 꼼꼼한 성격을 지닌 저는 항상 주어진 일에 최선...</td>\n",
       "    </tr>\n",
       "    <tr>\n",
       "      <th>4</th>\n",
       "      <td>경영기획</td>\n",
       "      <td>기획·전략·경영</td>\n",
       "      <td>경영학과 중국어 두 가지에 집중했습니다.\\n대학에 입학하고는, 다양한 학문을 포괄적...</td>\n",
       "    </tr>\n",
       "  </tbody>\n",
       "</table>\n",
       "</div>"
      ],
      "text/plain": [
       "  category1 category2                                                jss\n",
       "0      경영기획  기획·전략·경영  [제품 홍보가 곧 기업 홍보다]\\n제품 홍보가 곧 기업 홍보라는 회사의 모토처럼, ...\n",
       "1      경영기획  기획·전략·경영  [남양유업 경영관리 전문가]\\n제가 지원하게 된 경영관리는 기업이 올바른 방향으로 ...\n",
       "2      경영기획  기획·전략·경영  [높은 경쟁률 통과]\\n작년 여름, 봉사활동에 늘 뜻이 있어 '행복 나눔 봉사단'이...\n",
       "3      경영기획  기획·전략·경영  [꼼꼼함과 완벽함 사이]\\n차분하고 꼼꼼한 성격을 지닌 저는 항상 주어진 일에 최선...\n",
       "4      경영기획  기획·전략·경영  경영학과 중국어 두 가지에 집중했습니다.\\n대학에 입학하고는, 다양한 학문을 포괄적..."
      ]
     },
     "execution_count": 58,
     "metadata": {},
     "output_type": "execute_result"
    }
   ],
   "source": [
    "df.head()"
   ]
  },
  {
   "cell_type": "code",
   "execution_count": 62,
   "metadata": {},
   "outputs": [],
   "source": [
    "df = df[df.category2 != '정보통신·IT']"
   ]
  },
  {
   "cell_type": "code",
   "execution_count": 63,
   "metadata": {},
   "outputs": [
    {
     "data": {
      "text/html": [
       "<div>\n",
       "<style scoped>\n",
       "    .dataframe tbody tr th:only-of-type {\n",
       "        vertical-align: middle;\n",
       "    }\n",
       "\n",
       "    .dataframe tbody tr th {\n",
       "        vertical-align: top;\n",
       "    }\n",
       "\n",
       "    .dataframe thead th {\n",
       "        text-align: right;\n",
       "    }\n",
       "</style>\n",
       "<table border=\"1\" class=\"dataframe\">\n",
       "  <thead>\n",
       "    <tr style=\"text-align: right;\">\n",
       "      <th></th>\n",
       "      <th>category2</th>\n",
       "      <th>jss</th>\n",
       "    </tr>\n",
       "    <tr>\n",
       "      <th>category1</th>\n",
       "      <th></th>\n",
       "      <th></th>\n",
       "    </tr>\n",
       "  </thead>\n",
       "  <tbody>\n",
       "    <tr>\n",
       "      <th>경영기획</th>\n",
       "      <td>1157</td>\n",
       "      <td>1157</td>\n",
       "    </tr>\n",
       "    <tr>\n",
       "      <th>금융</th>\n",
       "      <td>1266</td>\n",
       "      <td>1266</td>\n",
       "    </tr>\n",
       "    <tr>\n",
       "      <th>기술영업</th>\n",
       "      <td>329</td>\n",
       "      <td>329</td>\n",
       "    </tr>\n",
       "    <tr>\n",
       "      <th>마케팅</th>\n",
       "      <td>1107</td>\n",
       "      <td>1107</td>\n",
       "    </tr>\n",
       "    <tr>\n",
       "      <th>물류</th>\n",
       "      <td>742</td>\n",
       "      <td>742</td>\n",
       "    </tr>\n",
       "    <tr>\n",
       "      <th>사무</th>\n",
       "      <td>1067</td>\n",
       "      <td>1067</td>\n",
       "    </tr>\n",
       "    <tr>\n",
       "      <th>생산품질</th>\n",
       "      <td>2768</td>\n",
       "      <td>2768</td>\n",
       "    </tr>\n",
       "    <tr>\n",
       "      <th>서버·시스템</th>\n",
       "      <td>587</td>\n",
       "      <td>587</td>\n",
       "    </tr>\n",
       "    <tr>\n",
       "      <th>영업</th>\n",
       "      <td>4089</td>\n",
       "      <td>4089</td>\n",
       "    </tr>\n",
       "    <tr>\n",
       "      <th>응용프로그래밍</th>\n",
       "      <td>632</td>\n",
       "      <td>632</td>\n",
       "    </tr>\n",
       "    <tr>\n",
       "      <th>인사</th>\n",
       "      <td>404</td>\n",
       "      <td>404</td>\n",
       "    </tr>\n",
       "    <tr>\n",
       "      <th>재무</th>\n",
       "      <td>626</td>\n",
       "      <td>626</td>\n",
       "    </tr>\n",
       "    <tr>\n",
       "      <th>통계</th>\n",
       "      <td>117</td>\n",
       "      <td>117</td>\n",
       "    </tr>\n",
       "  </tbody>\n",
       "</table>\n",
       "</div>"
      ],
      "text/plain": [
       "           category2   jss\n",
       "category1                 \n",
       "경영기획            1157  1157\n",
       "금융              1266  1266\n",
       "기술영업             329   329\n",
       "마케팅             1107  1107\n",
       "물류               742   742\n",
       "사무              1067  1067\n",
       "생산품질            2768  2768\n",
       "서버·시스템           587   587\n",
       "영업              4089  4089\n",
       "응용프로그래밍          632   632\n",
       "인사               404   404\n",
       "재무               626   626\n",
       "통계               117   117"
      ]
     },
     "execution_count": 63,
     "metadata": {},
     "output_type": "execute_result"
    }
   ],
   "source": [
    "df.groupby('category1').agg('count')"
   ]
  },
  {
   "cell_type": "code",
   "execution_count": 64,
   "metadata": {
    "collapsed": true
   },
   "outputs": [],
   "source": [
    "labels = []\n",
    "for i in df.category1.tolist():\n",
    "    if i == '경영기획':\n",
    "        labels.append(0)\n",
    "    elif i == '금융':\n",
    "        labels.append(1)\n",
    "    elif i == '기술영업':\n",
    "        labels.append(2)\n",
    "    elif i == '마케팅':\n",
    "        labels.append(3)\n",
    "    elif i == '물류':\n",
    "        labels.append(4)\n",
    "    elif i == '사무':\n",
    "        labels.append(5)\n",
    "    elif i == '생산품질':\n",
    "        labels.append(6)\n",
    "    elif i == '영업':\n",
    "        labels.append(7)\n",
    "    elif i == '인사':\n",
    "        labels.append(8)\n",
    "    elif i == '재무':\n",
    "        labels.append(9)\n",
    "    elif i == '통계':\n",
    "        labels.append(10)\n",
    "    elif i == '응용프로그래밍':\n",
    "        labels.append(11)\n",
    "    elif i == '서버·시스템':\n",
    "        labels.append(12)"
   ]
  },
  {
   "cell_type": "code",
   "execution_count": 65,
   "metadata": {
    "collapsed": true
   },
   "outputs": [],
   "source": [
    "df['label'] = labels"
   ]
  },
  {
   "cell_type": "code",
   "execution_count": 66,
   "metadata": {},
   "outputs": [
    {
     "data": {
      "text/html": [
       "<div>\n",
       "<style scoped>\n",
       "    .dataframe tbody tr th:only-of-type {\n",
       "        vertical-align: middle;\n",
       "    }\n",
       "\n",
       "    .dataframe tbody tr th {\n",
       "        vertical-align: top;\n",
       "    }\n",
       "\n",
       "    .dataframe thead th {\n",
       "        text-align: right;\n",
       "    }\n",
       "</style>\n",
       "<table border=\"1\" class=\"dataframe\">\n",
       "  <thead>\n",
       "    <tr style=\"text-align: right;\">\n",
       "      <th></th>\n",
       "      <th>category1</th>\n",
       "      <th>category2</th>\n",
       "      <th>jss</th>\n",
       "      <th>label</th>\n",
       "    </tr>\n",
       "  </thead>\n",
       "  <tbody>\n",
       "    <tr>\n",
       "      <th>0</th>\n",
       "      <td>경영기획</td>\n",
       "      <td>기획·전략·경영</td>\n",
       "      <td>[제품 홍보가 곧 기업 홍보다]\\n제품 홍보가 곧 기업 홍보라는 회사의 모토처럼, ...</td>\n",
       "      <td>0</td>\n",
       "    </tr>\n",
       "    <tr>\n",
       "      <th>1</th>\n",
       "      <td>경영기획</td>\n",
       "      <td>기획·전략·경영</td>\n",
       "      <td>[남양유업 경영관리 전문가]\\n제가 지원하게 된 경영관리는 기업이 올바른 방향으로 ...</td>\n",
       "      <td>0</td>\n",
       "    </tr>\n",
       "    <tr>\n",
       "      <th>2</th>\n",
       "      <td>경영기획</td>\n",
       "      <td>기획·전략·경영</td>\n",
       "      <td>[높은 경쟁률 통과]\\n작년 여름, 봉사활동에 늘 뜻이 있어 '행복 나눔 봉사단'이...</td>\n",
       "      <td>0</td>\n",
       "    </tr>\n",
       "    <tr>\n",
       "      <th>3</th>\n",
       "      <td>경영기획</td>\n",
       "      <td>기획·전략·경영</td>\n",
       "      <td>[꼼꼼함과 완벽함 사이]\\n차분하고 꼼꼼한 성격을 지닌 저는 항상 주어진 일에 최선...</td>\n",
       "      <td>0</td>\n",
       "    </tr>\n",
       "    <tr>\n",
       "      <th>4</th>\n",
       "      <td>경영기획</td>\n",
       "      <td>기획·전략·경영</td>\n",
       "      <td>경영학과 중국어 두 가지에 집중했습니다.\\n대학에 입학하고는, 다양한 학문을 포괄적...</td>\n",
       "      <td>0</td>\n",
       "    </tr>\n",
       "  </tbody>\n",
       "</table>\n",
       "</div>"
      ],
      "text/plain": [
       "  category1 category2                                                jss  \\\n",
       "0      경영기획  기획·전략·경영  [제품 홍보가 곧 기업 홍보다]\\n제품 홍보가 곧 기업 홍보라는 회사의 모토처럼, ...   \n",
       "1      경영기획  기획·전략·경영  [남양유업 경영관리 전문가]\\n제가 지원하게 된 경영관리는 기업이 올바른 방향으로 ...   \n",
       "2      경영기획  기획·전략·경영  [높은 경쟁률 통과]\\n작년 여름, 봉사활동에 늘 뜻이 있어 '행복 나눔 봉사단'이...   \n",
       "3      경영기획  기획·전략·경영  [꼼꼼함과 완벽함 사이]\\n차분하고 꼼꼼한 성격을 지닌 저는 항상 주어진 일에 최선...   \n",
       "4      경영기획  기획·전략·경영  경영학과 중국어 두 가지에 집중했습니다.\\n대학에 입학하고는, 다양한 학문을 포괄적...   \n",
       "\n",
       "   label  \n",
       "0      0  \n",
       "1      0  \n",
       "2      0  \n",
       "3      0  \n",
       "4      0  "
      ]
     },
     "execution_count": 66,
     "metadata": {},
     "output_type": "execute_result"
    }
   ],
   "source": [
    "df.head()"
   ]
  },
  {
   "cell_type": "code",
   "execution_count": 67,
   "metadata": {
    "collapsed": true
   },
   "outputs": [],
   "source": [
    "df.to_csv('../data/자소서6.csv')"
   ]
  },
  {
   "cell_type": "code",
   "execution_count": 68,
   "metadata": {},
   "outputs": [
    {
     "data": {
      "text/plain": [
       "14891"
      ]
     },
     "execution_count": 68,
     "metadata": {},
     "output_type": "execute_result"
    }
   ],
   "source": [
    "len(df)"
   ]
  },
  {
   "cell_type": "markdown",
   "metadata": {
    "collapsed": true
   },
   "source": [
    "# 카테고리 2차"
   ]
  },
  {
   "cell_type": "code",
   "execution_count": 2,
   "metadata": {},
   "outputs": [],
   "source": [
    "df = pd.read_csv('../data/자소서6.csv',index_col=0, engine='python', encoding='utf8')"
   ]
  },
  {
   "cell_type": "code",
   "execution_count": 4,
   "metadata": {},
   "outputs": [
    {
     "data": {
      "text/html": [
       "<div>\n",
       "<style scoped>\n",
       "    .dataframe tbody tr th:only-of-type {\n",
       "        vertical-align: middle;\n",
       "    }\n",
       "\n",
       "    .dataframe tbody tr th {\n",
       "        vertical-align: top;\n",
       "    }\n",
       "\n",
       "    .dataframe thead th {\n",
       "        text-align: right;\n",
       "    }\n",
       "</style>\n",
       "<table border=\"1\" class=\"dataframe\">\n",
       "  <thead>\n",
       "    <tr style=\"text-align: right;\">\n",
       "      <th></th>\n",
       "      <th>category2</th>\n",
       "      <th>jss</th>\n",
       "      <th>label</th>\n",
       "    </tr>\n",
       "    <tr>\n",
       "      <th>category1</th>\n",
       "      <th></th>\n",
       "      <th></th>\n",
       "      <th></th>\n",
       "    </tr>\n",
       "  </thead>\n",
       "  <tbody>\n",
       "    <tr>\n",
       "      <th>경영기획</th>\n",
       "      <td>1157</td>\n",
       "      <td>1157</td>\n",
       "      <td>1157</td>\n",
       "    </tr>\n",
       "    <tr>\n",
       "      <th>금융</th>\n",
       "      <td>1266</td>\n",
       "      <td>1266</td>\n",
       "      <td>1266</td>\n",
       "    </tr>\n",
       "    <tr>\n",
       "      <th>기술영업</th>\n",
       "      <td>329</td>\n",
       "      <td>329</td>\n",
       "      <td>329</td>\n",
       "    </tr>\n",
       "    <tr>\n",
       "      <th>마케팅</th>\n",
       "      <td>1107</td>\n",
       "      <td>1107</td>\n",
       "      <td>1107</td>\n",
       "    </tr>\n",
       "    <tr>\n",
       "      <th>물류</th>\n",
       "      <td>741</td>\n",
       "      <td>741</td>\n",
       "      <td>741</td>\n",
       "    </tr>\n",
       "    <tr>\n",
       "      <th>사무</th>\n",
       "      <td>1067</td>\n",
       "      <td>1067</td>\n",
       "      <td>1067</td>\n",
       "    </tr>\n",
       "    <tr>\n",
       "      <th>생산품질</th>\n",
       "      <td>2768</td>\n",
       "      <td>2768</td>\n",
       "      <td>2768</td>\n",
       "    </tr>\n",
       "    <tr>\n",
       "      <th>서버·시스템</th>\n",
       "      <td>587</td>\n",
       "      <td>587</td>\n",
       "      <td>587</td>\n",
       "    </tr>\n",
       "    <tr>\n",
       "      <th>영업</th>\n",
       "      <td>4089</td>\n",
       "      <td>4089</td>\n",
       "      <td>4089</td>\n",
       "    </tr>\n",
       "    <tr>\n",
       "      <th>응용프로그래밍</th>\n",
       "      <td>632</td>\n",
       "      <td>632</td>\n",
       "      <td>632</td>\n",
       "    </tr>\n",
       "    <tr>\n",
       "      <th>인사</th>\n",
       "      <td>404</td>\n",
       "      <td>404</td>\n",
       "      <td>404</td>\n",
       "    </tr>\n",
       "    <tr>\n",
       "      <th>재무</th>\n",
       "      <td>626</td>\n",
       "      <td>626</td>\n",
       "      <td>626</td>\n",
       "    </tr>\n",
       "    <tr>\n",
       "      <th>통계</th>\n",
       "      <td>117</td>\n",
       "      <td>117</td>\n",
       "      <td>117</td>\n",
       "    </tr>\n",
       "  </tbody>\n",
       "</table>\n",
       "</div>"
      ],
      "text/plain": [
       "           category2   jss  label\n",
       "category1                        \n",
       "경영기획            1157  1157   1157\n",
       "금융              1266  1266   1266\n",
       "기술영업             329   329    329\n",
       "마케팅             1107  1107   1107\n",
       "물류               741   741    741\n",
       "사무              1067  1067   1067\n",
       "생산품질            2768  2768   2768\n",
       "서버·시스템           587   587    587\n",
       "영업              4089  4089   4089\n",
       "응용프로그래밍          632   632    632\n",
       "인사               404   404    404\n",
       "재무               626   626    626\n",
       "통계               117   117    117"
      ]
     },
     "execution_count": 4,
     "metadata": {},
     "output_type": "execute_result"
    }
   ],
   "source": [
    "df.groupby('category1').agg('count')"
   ]
  },
  {
   "cell_type": "code",
   "execution_count": 15,
   "metadata": {},
   "outputs": [],
   "source": [
    "labels = []\n",
    "for i in df.category1.tolist():\n",
    "    if i == '경영기획':\n",
    "        labels.append('경영지원')\n",
    "    elif i == '금융':\n",
    "        labels.append('재무·금융')\n",
    "    elif i == '기술영업':\n",
    "        labels.append('영업·마케팅')\n",
    "    elif i == '마케팅':\n",
    "        labels.append('영업·마케팅')\n",
    "    elif i == '물류':\n",
    "        labels.append('생산·물류')\n",
    "    elif i == '사무':\n",
    "        labels.append('경영지원')\n",
    "    elif i == '생산품질':\n",
    "        labels.append('생산·물류')\n",
    "    elif i == '영업':\n",
    "        labels.append('영업·마케팅')\n",
    "    elif i == '인사':\n",
    "        labels.append('인사')\n",
    "    elif i == '재무':\n",
    "        labels.append('재무·금융')\n",
    "    elif i == '통계':\n",
    "        labels.append('통계')\n",
    "    elif i == '응용프로그래밍':\n",
    "        labels.append('응용프로그래밍')\n",
    "    elif i == '서버·시스템':\n",
    "        labels.append('서버·시스템')"
   ]
  },
  {
   "cell_type": "code",
   "execution_count": 16,
   "metadata": {},
   "outputs": [],
   "source": [
    "df['category3'] = labels"
   ]
  },
  {
   "cell_type": "code",
   "execution_count": 17,
   "metadata": {},
   "outputs": [
    {
     "data": {
      "text/html": [
       "<div>\n",
       "<style scoped>\n",
       "    .dataframe tbody tr th:only-of-type {\n",
       "        vertical-align: middle;\n",
       "    }\n",
       "\n",
       "    .dataframe tbody tr th {\n",
       "        vertical-align: top;\n",
       "    }\n",
       "\n",
       "    .dataframe thead th {\n",
       "        text-align: right;\n",
       "    }\n",
       "</style>\n",
       "<table border=\"1\" class=\"dataframe\">\n",
       "  <thead>\n",
       "    <tr style=\"text-align: right;\">\n",
       "      <th></th>\n",
       "      <th>category1</th>\n",
       "      <th>category2</th>\n",
       "      <th>jss</th>\n",
       "      <th>label</th>\n",
       "      <th>category3</th>\n",
       "    </tr>\n",
       "  </thead>\n",
       "  <tbody>\n",
       "    <tr>\n",
       "      <th>0</th>\n",
       "      <td>경영기획</td>\n",
       "      <td>기획·전략·경영</td>\n",
       "      <td>[제품 홍보가 곧 기업 홍보다]\\n제품 홍보가 곧 기업 홍보라는 회사의 모토처럼, ...</td>\n",
       "      <td>0</td>\n",
       "      <td>경영지원</td>\n",
       "    </tr>\n",
       "    <tr>\n",
       "      <th>1</th>\n",
       "      <td>경영기획</td>\n",
       "      <td>기획·전략·경영</td>\n",
       "      <td>[남양유업 경영관리 전문가]\\n제가 지원하게 된 경영관리는 기업이 올바른 방향으로 ...</td>\n",
       "      <td>0</td>\n",
       "      <td>경영지원</td>\n",
       "    </tr>\n",
       "    <tr>\n",
       "      <th>2</th>\n",
       "      <td>경영기획</td>\n",
       "      <td>기획·전략·경영</td>\n",
       "      <td>[높은 경쟁률 통과]\\n작년 여름, 봉사활동에 늘 뜻이 있어 '행복 나눔 봉사단'이...</td>\n",
       "      <td>0</td>\n",
       "      <td>경영지원</td>\n",
       "    </tr>\n",
       "    <tr>\n",
       "      <th>3</th>\n",
       "      <td>경영기획</td>\n",
       "      <td>기획·전략·경영</td>\n",
       "      <td>[꼼꼼함과 완벽함 사이]\\n차분하고 꼼꼼한 성격을 지닌 저는 항상 주어진 일에 최선...</td>\n",
       "      <td>0</td>\n",
       "      <td>경영지원</td>\n",
       "    </tr>\n",
       "    <tr>\n",
       "      <th>4</th>\n",
       "      <td>경영기획</td>\n",
       "      <td>기획·전략·경영</td>\n",
       "      <td>경영학과 중국어 두 가지에 집중했습니다.\\n대학에 입학하고는, 다양한 학문을 포괄적...</td>\n",
       "      <td>0</td>\n",
       "      <td>경영지원</td>\n",
       "    </tr>\n",
       "  </tbody>\n",
       "</table>\n",
       "</div>"
      ],
      "text/plain": [
       "  category1 category2                                                jss  \\\n",
       "0      경영기획  기획·전략·경영  [제품 홍보가 곧 기업 홍보다]\\n제품 홍보가 곧 기업 홍보라는 회사의 모토처럼, ...   \n",
       "1      경영기획  기획·전략·경영  [남양유업 경영관리 전문가]\\n제가 지원하게 된 경영관리는 기업이 올바른 방향으로 ...   \n",
       "2      경영기획  기획·전략·경영  [높은 경쟁률 통과]\\n작년 여름, 봉사활동에 늘 뜻이 있어 '행복 나눔 봉사단'이...   \n",
       "3      경영기획  기획·전략·경영  [꼼꼼함과 완벽함 사이]\\n차분하고 꼼꼼한 성격을 지닌 저는 항상 주어진 일에 최선...   \n",
       "4      경영기획  기획·전략·경영  경영학과 중국어 두 가지에 집중했습니다.\\n대학에 입학하고는, 다양한 학문을 포괄적...   \n",
       "\n",
       "   label category3  \n",
       "0      0      경영지원  \n",
       "1      0      경영지원  \n",
       "2      0      경영지원  \n",
       "3      0      경영지원  \n",
       "4      0      경영지원  "
      ]
     },
     "execution_count": 17,
     "metadata": {},
     "output_type": "execute_result"
    }
   ],
   "source": [
    "df.head()"
   ]
  },
  {
   "cell_type": "code",
   "execution_count": 18,
   "metadata": {},
   "outputs": [
    {
     "data": {
      "text/html": [
       "<div>\n",
       "<style scoped>\n",
       "    .dataframe tbody tr th:only-of-type {\n",
       "        vertical-align: middle;\n",
       "    }\n",
       "\n",
       "    .dataframe tbody tr th {\n",
       "        vertical-align: top;\n",
       "    }\n",
       "\n",
       "    .dataframe thead th {\n",
       "        text-align: right;\n",
       "    }\n",
       "</style>\n",
       "<table border=\"1\" class=\"dataframe\">\n",
       "  <thead>\n",
       "    <tr style=\"text-align: right;\">\n",
       "      <th></th>\n",
       "      <th>category1</th>\n",
       "      <th>category2</th>\n",
       "      <th>jss</th>\n",
       "      <th>label</th>\n",
       "    </tr>\n",
       "    <tr>\n",
       "      <th>category3</th>\n",
       "      <th></th>\n",
       "      <th></th>\n",
       "      <th></th>\n",
       "      <th></th>\n",
       "    </tr>\n",
       "  </thead>\n",
       "  <tbody>\n",
       "    <tr>\n",
       "      <th>경영지원</th>\n",
       "      <td>2224</td>\n",
       "      <td>2224</td>\n",
       "      <td>2224</td>\n",
       "      <td>2224</td>\n",
       "    </tr>\n",
       "    <tr>\n",
       "      <th>생산·물류</th>\n",
       "      <td>3509</td>\n",
       "      <td>3509</td>\n",
       "      <td>3509</td>\n",
       "      <td>3509</td>\n",
       "    </tr>\n",
       "    <tr>\n",
       "      <th>서버·시스템</th>\n",
       "      <td>587</td>\n",
       "      <td>587</td>\n",
       "      <td>587</td>\n",
       "      <td>587</td>\n",
       "    </tr>\n",
       "    <tr>\n",
       "      <th>영업·마케팅</th>\n",
       "      <td>5525</td>\n",
       "      <td>5525</td>\n",
       "      <td>5525</td>\n",
       "      <td>5525</td>\n",
       "    </tr>\n",
       "    <tr>\n",
       "      <th>응용프로그래밍</th>\n",
       "      <td>632</td>\n",
       "      <td>632</td>\n",
       "      <td>632</td>\n",
       "      <td>632</td>\n",
       "    </tr>\n",
       "    <tr>\n",
       "      <th>인사</th>\n",
       "      <td>404</td>\n",
       "      <td>404</td>\n",
       "      <td>404</td>\n",
       "      <td>404</td>\n",
       "    </tr>\n",
       "    <tr>\n",
       "      <th>재무·금융</th>\n",
       "      <td>1892</td>\n",
       "      <td>1892</td>\n",
       "      <td>1892</td>\n",
       "      <td>1892</td>\n",
       "    </tr>\n",
       "  </tbody>\n",
       "</table>\n",
       "</div>"
      ],
      "text/plain": [
       "           category1  category2   jss  label\n",
       "category3                                   \n",
       "경영지원            2224       2224  2224   2224\n",
       "생산·물류           3509       3509  3509   3509\n",
       "서버·시스템           587        587   587    587\n",
       "영업·마케팅          5525       5525  5525   5525\n",
       "응용프로그래밍          632        632   632    632\n",
       "인사               404        404   404    404\n",
       "재무·금융           1892       1892  1892   1892"
      ]
     },
     "execution_count": 18,
     "metadata": {},
     "output_type": "execute_result"
    }
   ],
   "source": [
    "df.groupby('category3').agg('count')"
   ]
  },
  {
   "cell_type": "code",
   "execution_count": 13,
   "metadata": {},
   "outputs": [],
   "source": [
    "df = df[df.category3!='통계']"
   ]
  },
  {
   "cell_type": "code",
   "execution_count": 19,
   "metadata": {},
   "outputs": [],
   "source": [
    "labels = []\n",
    "for i in df.category3.tolist():\n",
    "    if i == '경영지원':\n",
    "        labels.append(0)\n",
    "    elif i == '재무·금융':\n",
    "        labels.append(1)\n",
    "    elif i == '생산·물류':\n",
    "        labels.append(2)\n",
    "    elif i == '영업·마케팅':\n",
    "        labels.append(3)\n",
    "    elif i == '인사':\n",
    "        labels.append(4)\n",
    "    elif i == '서버·시스템':\n",
    "        labels.append(5)\n",
    "    elif i == '응용프로그래밍':\n",
    "        labels.append(6)"
   ]
  },
  {
   "cell_type": "code",
   "execution_count": 20,
   "metadata": {},
   "outputs": [],
   "source": [
    "df.label = labels"
   ]
  },
  {
   "cell_type": "code",
   "execution_count": 21,
   "metadata": {},
   "outputs": [
    {
     "data": {
      "text/html": [
       "<div>\n",
       "<style scoped>\n",
       "    .dataframe tbody tr th:only-of-type {\n",
       "        vertical-align: middle;\n",
       "    }\n",
       "\n",
       "    .dataframe tbody tr th {\n",
       "        vertical-align: top;\n",
       "    }\n",
       "\n",
       "    .dataframe thead th {\n",
       "        text-align: right;\n",
       "    }\n",
       "</style>\n",
       "<table border=\"1\" class=\"dataframe\">\n",
       "  <thead>\n",
       "    <tr style=\"text-align: right;\">\n",
       "      <th></th>\n",
       "      <th>category1</th>\n",
       "      <th>category2</th>\n",
       "      <th>jss</th>\n",
       "      <th>label</th>\n",
       "      <th>category3</th>\n",
       "    </tr>\n",
       "  </thead>\n",
       "  <tbody>\n",
       "    <tr>\n",
       "      <th>0</th>\n",
       "      <td>경영기획</td>\n",
       "      <td>기획·전략·경영</td>\n",
       "      <td>[제품 홍보가 곧 기업 홍보다]\\n제품 홍보가 곧 기업 홍보라는 회사의 모토처럼, ...</td>\n",
       "      <td>0</td>\n",
       "      <td>경영지원</td>\n",
       "    </tr>\n",
       "    <tr>\n",
       "      <th>1</th>\n",
       "      <td>경영기획</td>\n",
       "      <td>기획·전략·경영</td>\n",
       "      <td>[남양유업 경영관리 전문가]\\n제가 지원하게 된 경영관리는 기업이 올바른 방향으로 ...</td>\n",
       "      <td>0</td>\n",
       "      <td>경영지원</td>\n",
       "    </tr>\n",
       "    <tr>\n",
       "      <th>2</th>\n",
       "      <td>경영기획</td>\n",
       "      <td>기획·전략·경영</td>\n",
       "      <td>[높은 경쟁률 통과]\\n작년 여름, 봉사활동에 늘 뜻이 있어 '행복 나눔 봉사단'이...</td>\n",
       "      <td>0</td>\n",
       "      <td>경영지원</td>\n",
       "    </tr>\n",
       "    <tr>\n",
       "      <th>3</th>\n",
       "      <td>경영기획</td>\n",
       "      <td>기획·전략·경영</td>\n",
       "      <td>[꼼꼼함과 완벽함 사이]\\n차분하고 꼼꼼한 성격을 지닌 저는 항상 주어진 일에 최선...</td>\n",
       "      <td>0</td>\n",
       "      <td>경영지원</td>\n",
       "    </tr>\n",
       "    <tr>\n",
       "      <th>4</th>\n",
       "      <td>경영기획</td>\n",
       "      <td>기획·전략·경영</td>\n",
       "      <td>경영학과 중국어 두 가지에 집중했습니다.\\n대학에 입학하고는, 다양한 학문을 포괄적...</td>\n",
       "      <td>0</td>\n",
       "      <td>경영지원</td>\n",
       "    </tr>\n",
       "  </tbody>\n",
       "</table>\n",
       "</div>"
      ],
      "text/plain": [
       "  category1 category2                                                jss  \\\n",
       "0      경영기획  기획·전략·경영  [제품 홍보가 곧 기업 홍보다]\\n제품 홍보가 곧 기업 홍보라는 회사의 모토처럼, ...   \n",
       "1      경영기획  기획·전략·경영  [남양유업 경영관리 전문가]\\n제가 지원하게 된 경영관리는 기업이 올바른 방향으로 ...   \n",
       "2      경영기획  기획·전략·경영  [높은 경쟁률 통과]\\n작년 여름, 봉사활동에 늘 뜻이 있어 '행복 나눔 봉사단'이...   \n",
       "3      경영기획  기획·전략·경영  [꼼꼼함과 완벽함 사이]\\n차분하고 꼼꼼한 성격을 지닌 저는 항상 주어진 일에 최선...   \n",
       "4      경영기획  기획·전략·경영  경영학과 중국어 두 가지에 집중했습니다.\\n대학에 입학하고는, 다양한 학문을 포괄적...   \n",
       "\n",
       "   label category3  \n",
       "0      0      경영지원  \n",
       "1      0      경영지원  \n",
       "2      0      경영지원  \n",
       "3      0      경영지원  \n",
       "4      0      경영지원  "
      ]
     },
     "execution_count": 21,
     "metadata": {},
     "output_type": "execute_result"
    }
   ],
   "source": [
    "df.head()"
   ]
  },
  {
   "cell_type": "code",
   "execution_count": 22,
   "metadata": {},
   "outputs": [],
   "source": [
    "df.to_csv('../data/자소서7.csv')"
   ]
  },
  {
   "cell_type": "markdown",
   "metadata": {},
   "source": [
    "# 데이터"
   ]
  },
  {
   "cell_type": "code",
   "execution_count": 2,
   "metadata": {},
   "outputs": [],
   "source": [
    "df = pd.read_csv('../data/자소서_잡코추가2.csv',index_col=0, engine='python', encoding='utf8')"
   ]
  },
  {
   "cell_type": "code",
   "execution_count": 4,
   "metadata": {},
   "outputs": [
    {
     "data": {
      "text/html": [
       "<div>\n",
       "<style scoped>\n",
       "    .dataframe tbody tr th:only-of-type {\n",
       "        vertical-align: middle;\n",
       "    }\n",
       "\n",
       "    .dataframe tbody tr th {\n",
       "        vertical-align: top;\n",
       "    }\n",
       "\n",
       "    .dataframe thead th {\n",
       "        text-align: right;\n",
       "    }\n",
       "</style>\n",
       "<table border=\"1\" class=\"dataframe\">\n",
       "  <thead>\n",
       "    <tr style=\"text-align: right;\">\n",
       "      <th></th>\n",
       "      <th>category</th>\n",
       "      <th>c_origin</th>\n",
       "      <th>jss</th>\n",
       "      <th>label</th>\n",
       "    </tr>\n",
       "  </thead>\n",
       "  <tbody>\n",
       "    <tr>\n",
       "      <th>0</th>\n",
       "      <td>경영지원</td>\n",
       "      <td>기획·전략·경영</td>\n",
       "      <td>[제품 홍보가 곧 기업 홍보다]\\n제품 홍보가 곧 기업 홍보라는 회사의 모토처럼, ...</td>\n",
       "      <td>0</td>\n",
       "    </tr>\n",
       "    <tr>\n",
       "      <th>1</th>\n",
       "      <td>경영지원</td>\n",
       "      <td>기획·전략·경영</td>\n",
       "      <td>[남양유업 경영관리 전문가]\\n제가 지원하게 된 경영관리는 기업이 올바른 방향으로 ...</td>\n",
       "      <td>0</td>\n",
       "    </tr>\n",
       "    <tr>\n",
       "      <th>2</th>\n",
       "      <td>경영지원</td>\n",
       "      <td>기획·전략·경영</td>\n",
       "      <td>[높은 경쟁률 통과]\\n작년 여름, 봉사활동에 늘 뜻이 있어 '행복 나눔 봉사단'이...</td>\n",
       "      <td>0</td>\n",
       "    </tr>\n",
       "    <tr>\n",
       "      <th>3</th>\n",
       "      <td>경영지원</td>\n",
       "      <td>기획·전략·경영</td>\n",
       "      <td>[꼼꼼함과 완벽함 사이]\\n차분하고 꼼꼼한 성격을 지닌 저는 항상 주어진 일에 최선...</td>\n",
       "      <td>0</td>\n",
       "    </tr>\n",
       "    <tr>\n",
       "      <th>4</th>\n",
       "      <td>경영지원</td>\n",
       "      <td>기획·전략·경영</td>\n",
       "      <td>경영학과 중국어 두 가지에 집중했습니다.\\n대학에 입학하고는, 다양한 학문을 포괄적...</td>\n",
       "      <td>0</td>\n",
       "    </tr>\n",
       "  </tbody>\n",
       "</table>\n",
       "</div>"
      ],
      "text/plain": [
       "  category  c_origin                                                jss  label\n",
       "0     경영지원  기획·전략·경영  [제품 홍보가 곧 기업 홍보다]\\n제품 홍보가 곧 기업 홍보라는 회사의 모토처럼, ...      0\n",
       "1     경영지원  기획·전략·경영  [남양유업 경영관리 전문가]\\n제가 지원하게 된 경영관리는 기업이 올바른 방향으로 ...      0\n",
       "2     경영지원  기획·전략·경영  [높은 경쟁률 통과]\\n작년 여름, 봉사활동에 늘 뜻이 있어 '행복 나눔 봉사단'이...      0\n",
       "3     경영지원  기획·전략·경영  [꼼꼼함과 완벽함 사이]\\n차분하고 꼼꼼한 성격을 지닌 저는 항상 주어진 일에 최선...      0\n",
       "4     경영지원  기획·전략·경영  경영학과 중국어 두 가지에 집중했습니다.\\n대학에 입학하고는, 다양한 학문을 포괄적...      0"
      ]
     },
     "execution_count": 4,
     "metadata": {},
     "output_type": "execute_result"
    }
   ],
   "source": [
    "df.head()"
   ]
  },
  {
   "cell_type": "code",
   "execution_count": 5,
   "metadata": {},
   "outputs": [
    {
     "data": {
      "text/html": [
       "<div>\n",
       "<style scoped>\n",
       "    .dataframe tbody tr th:only-of-type {\n",
       "        vertical-align: middle;\n",
       "    }\n",
       "\n",
       "    .dataframe tbody tr th {\n",
       "        vertical-align: top;\n",
       "    }\n",
       "\n",
       "    .dataframe thead th {\n",
       "        text-align: right;\n",
       "    }\n",
       "</style>\n",
       "<table border=\"1\" class=\"dataframe\">\n",
       "  <thead>\n",
       "    <tr style=\"text-align: right;\">\n",
       "      <th></th>\n",
       "      <th>c_origin</th>\n",
       "      <th>jss</th>\n",
       "      <th>label</th>\n",
       "    </tr>\n",
       "    <tr>\n",
       "      <th>category</th>\n",
       "      <th></th>\n",
       "      <th></th>\n",
       "      <th></th>\n",
       "    </tr>\n",
       "  </thead>\n",
       "  <tbody>\n",
       "    <tr>\n",
       "      <th>경영지원</th>\n",
       "      <td>5352</td>\n",
       "      <td>5352</td>\n",
       "      <td>5352</td>\n",
       "    </tr>\n",
       "    <tr>\n",
       "      <th>생산·물류</th>\n",
       "      <td>4457</td>\n",
       "      <td>4457</td>\n",
       "      <td>4457</td>\n",
       "    </tr>\n",
       "    <tr>\n",
       "      <th>서버·시스템</th>\n",
       "      <td>1712</td>\n",
       "      <td>1712</td>\n",
       "      <td>1712</td>\n",
       "    </tr>\n",
       "    <tr>\n",
       "      <th>영업·마케팅</th>\n",
       "      <td>9803</td>\n",
       "      <td>9803</td>\n",
       "      <td>9803</td>\n",
       "    </tr>\n",
       "    <tr>\n",
       "      <th>응용프로그래밍</th>\n",
       "      <td>3130</td>\n",
       "      <td>3130</td>\n",
       "      <td>3130</td>\n",
       "    </tr>\n",
       "    <tr>\n",
       "      <th>인사</th>\n",
       "      <td>741</td>\n",
       "      <td>741</td>\n",
       "      <td>741</td>\n",
       "    </tr>\n",
       "    <tr>\n",
       "      <th>재무·금융</th>\n",
       "      <td>3350</td>\n",
       "      <td>3350</td>\n",
       "      <td>3350</td>\n",
       "    </tr>\n",
       "    <tr>\n",
       "      <th>통계</th>\n",
       "      <td>225</td>\n",
       "      <td>225</td>\n",
       "      <td>225</td>\n",
       "    </tr>\n",
       "  </tbody>\n",
       "</table>\n",
       "</div>"
      ],
      "text/plain": [
       "          c_origin   jss  label\n",
       "category                       \n",
       "경영지원          5352  5352   5352\n",
       "생산·물류         4457  4457   4457\n",
       "서버·시스템        1712  1712   1712\n",
       "영업·마케팅        9803  9803   9803\n",
       "응용프로그래밍       3130  3130   3130\n",
       "인사             741   741    741\n",
       "재무·금융         3350  3350   3350\n",
       "통계             225   225    225"
      ]
     },
     "execution_count": 5,
     "metadata": {},
     "output_type": "execute_result"
    }
   ],
   "source": [
    "df.groupby('category').agg('count')"
   ]
  },
  {
   "cell_type": "code",
   "execution_count": 8,
   "metadata": {},
   "outputs": [],
   "source": [
    "buis = df[df.category=='경영지원'][:3130]"
   ]
  },
  {
   "cell_type": "code",
   "execution_count": 9,
   "metadata": {},
   "outputs": [],
   "source": [
    "app = df[df.category=='응용프로그래밍']\n",
    "fin = df[df.category=='재무·금융']"
   ]
  },
  {
   "cell_type": "code",
   "execution_count": 13,
   "metadata": {},
   "outputs": [],
   "source": [
    "df = pd.concat([buis,app,fin])"
   ]
  },
  {
   "cell_type": "code",
   "execution_count": 14,
   "metadata": {},
   "outputs": [
    {
     "data": {
      "text/html": [
       "<div>\n",
       "<style scoped>\n",
       "    .dataframe tbody tr th:only-of-type {\n",
       "        vertical-align: middle;\n",
       "    }\n",
       "\n",
       "    .dataframe tbody tr th {\n",
       "        vertical-align: top;\n",
       "    }\n",
       "\n",
       "    .dataframe thead th {\n",
       "        text-align: right;\n",
       "    }\n",
       "</style>\n",
       "<table border=\"1\" class=\"dataframe\">\n",
       "  <thead>\n",
       "    <tr style=\"text-align: right;\">\n",
       "      <th></th>\n",
       "      <th>category</th>\n",
       "      <th>c_origin</th>\n",
       "      <th>jss</th>\n",
       "      <th>label</th>\n",
       "    </tr>\n",
       "  </thead>\n",
       "  <tbody>\n",
       "  </tbody>\n",
       "</table>\n",
       "</div>"
      ],
      "text/plain": [
       "Empty DataFrame\n",
       "Columns: [category, c_origin, jss, label]\n",
       "Index: []"
      ]
     },
     "execution_count": 14,
     "metadata": {},
     "output_type": "execute_result"
    }
   ],
   "source": [
    "df[df.c_origin.str.find('ERP')>0]"
   ]
  },
  {
   "cell_type": "code",
   "execution_count": null,
   "metadata": {},
   "outputs": [],
   "source": []
  },
  {
   "cell_type": "code",
   "execution_count": 15,
   "metadata": {},
   "outputs": [],
   "source": [
    "df2 = pd.read_csv('../data/자소서_잡코사람인전체_mecab_morphs오류제거.csv',index_col=0, engine='python', encoding='utf8');"
   ]
  },
  {
   "cell_type": "code",
   "execution_count": 27,
   "metadata": {},
   "outputs": [
    {
     "data": {
      "text/html": [
       "<div>\n",
       "<style scoped>\n",
       "    .dataframe tbody tr th:only-of-type {\n",
       "        vertical-align: middle;\n",
       "    }\n",
       "\n",
       "    .dataframe tbody tr th {\n",
       "        vertical-align: top;\n",
       "    }\n",
       "\n",
       "    .dataframe thead th {\n",
       "        text-align: right;\n",
       "    }\n",
       "</style>\n",
       "<table border=\"1\" class=\"dataframe\">\n",
       "  <thead>\n",
       "    <tr style=\"text-align: right;\">\n",
       "      <th></th>\n",
       "      <th>category</th>\n",
       "      <th>jss</th>\n",
       "    </tr>\n",
       "  </thead>\n",
       "  <tbody>\n",
       "    <tr>\n",
       "      <th>0</th>\n",
       "      <td>경영 사무</td>\n",
       "      <td>[제품 홍보가 곧 기업 홍보다]\\n제품 홍보가 곧 기업 홍보라는 회사의 모토처럼, ...</td>\n",
       "    </tr>\n",
       "    <tr>\n",
       "      <th>1</th>\n",
       "      <td>경영 사무</td>\n",
       "      <td>[남양유업 경영관리 전문가]\\n제가 지원하게 된 경영관리는 기업이 올바른 방향으로 ...</td>\n",
       "    </tr>\n",
       "    <tr>\n",
       "      <th>2</th>\n",
       "      <td>경영 사무</td>\n",
       "      <td>[높은 경쟁률 통과]\\n작년 여름, 봉사활동에 늘 뜻이 있어 '행복 나눔 봉사단'이...</td>\n",
       "    </tr>\n",
       "    <tr>\n",
       "      <th>3</th>\n",
       "      <td>경영 사무</td>\n",
       "      <td>[꼼꼼함과 완벽함 사이]\\n차분하고 꼼꼼한 성격을 지닌 저는 항상 주어진 일에 최선...</td>\n",
       "    </tr>\n",
       "    <tr>\n",
       "      <th>4</th>\n",
       "      <td>경영 사무</td>\n",
       "      <td>[열정은 신뢰다]\\n\"열정을 다하는 사람에게는 신뢰가 따라온다.\" 아버지께서 저에게...</td>\n",
       "    </tr>\n",
       "  </tbody>\n",
       "</table>\n",
       "</div>"
      ],
      "text/plain": [
       "  category                                                jss\n",
       "0    경영 사무  [제품 홍보가 곧 기업 홍보다]\\n제품 홍보가 곧 기업 홍보라는 회사의 모토처럼, ...\n",
       "1    경영 사무  [남양유업 경영관리 전문가]\\n제가 지원하게 된 경영관리는 기업이 올바른 방향으로 ...\n",
       "2    경영 사무  [높은 경쟁률 통과]\\n작년 여름, 봉사활동에 늘 뜻이 있어 '행복 나눔 봉사단'이...\n",
       "3    경영 사무  [꼼꼼함과 완벽함 사이]\\n차분하고 꼼꼼한 성격을 지닌 저는 항상 주어진 일에 최선...\n",
       "4    경영 사무  [열정은 신뢰다]\\n\"열정을 다하는 사람에게는 신뢰가 따라온다.\" 아버지께서 저에게..."
      ]
     },
     "execution_count": 27,
     "metadata": {},
     "output_type": "execute_result"
    }
   ],
   "source": []
  },
  {
   "cell_type": "code",
   "execution_count": 30,
   "metadata": {},
   "outputs": [
    {
     "data": {
      "text/plain": [
       "46477"
      ]
     },
     "execution_count": 30,
     "metadata": {},
     "output_type": "execute_result"
    }
   ],
   "source": [
    "len(df2)"
   ]
  },
  {
   "cell_type": "code",
   "execution_count": 31,
   "metadata": {},
   "outputs": [],
   "source": [
    "df2 = df2[~df2.category.isin(df.c_origin)]"
   ]
  },
  {
   "cell_type": "code",
   "execution_count": 33,
   "metadata": {},
   "outputs": [],
   "source": [
    "df2 = df2[df2.category != '경영 사무']"
   ]
  },
  {
   "cell_type": "code",
   "execution_count": 34,
   "metadata": {},
   "outputs": [],
   "source": [
    "rows = np.random.choice(df2.index.values, len(df2), replace=False)\n",
    "sampled_df = df2.loc[rows]"
   ]
  },
  {
   "cell_type": "code",
   "execution_count": 38,
   "metadata": {},
   "outputs": [],
   "source": [
    "df2 = sampled_df[:3130]"
   ]
  },
  {
   "cell_type": "code",
   "execution_count": 40,
   "metadata": {},
   "outputs": [
    {
     "name": "stderr",
     "output_type": "stream",
     "text": [
      "C:\\Users\\dongc\\Anaconda3\\lib\\site-packages\\pandas\\core\\frame.py:3778: SettingWithCopyWarning: \n",
      "A value is trying to be set on a copy of a slice from a DataFrame\n",
      "\n",
      "See the caveats in the documentation: http://pandas.pydata.org/pandas-docs/stable/indexing.html#indexing-view-versus-copy\n",
      "  return super(DataFrame, self).rename(**kwargs)\n"
     ]
    }
   ],
   "source": [
    "df2.rename(columns={'category':'c_origin'},inplace=True)"
   ]
  },
  {
   "cell_type": "code",
   "execution_count": 41,
   "metadata": {},
   "outputs": [
    {
     "data": {
      "text/html": [
       "<div>\n",
       "<style scoped>\n",
       "    .dataframe tbody tr th:only-of-type {\n",
       "        vertical-align: middle;\n",
       "    }\n",
       "\n",
       "    .dataframe tbody tr th {\n",
       "        vertical-align: top;\n",
       "    }\n",
       "\n",
       "    .dataframe thead th {\n",
       "        text-align: right;\n",
       "    }\n",
       "</style>\n",
       "<table border=\"1\" class=\"dataframe\">\n",
       "  <thead>\n",
       "    <tr style=\"text-align: right;\">\n",
       "      <th></th>\n",
       "      <th>c_origin</th>\n",
       "      <th>jss</th>\n",
       "    </tr>\n",
       "  </thead>\n",
       "  <tbody>\n",
       "    <tr>\n",
       "      <th>36663</th>\n",
       "      <td>생산·제조·설비·조립</td>\n",
       "      <td>[함께한다는 것, 그 이상의 의미]\\n 대학생활을 함께한 모임, 새앎터가 있습니다....</td>\n",
       "    </tr>\n",
       "    <tr>\n",
       "      <th>26960</th>\n",
       "      <td>건축·설계·인테리어</td>\n",
       "      <td>[반대로 생각하여 고객 불만율 12%를 줄인 경험이 있습니다!]\\n\\n레스토랑에서 ...</td>\n",
       "    </tr>\n",
       "    <tr>\n",
       "      <th>18459</th>\n",
       "      <td>건설</td>\n",
       "      <td>[목표를 향한 적극적인 모습]\\n저는 목표를 달성하기 위해 적극적인 행동과 활용 능...</td>\n",
       "    </tr>\n",
       "    <tr>\n",
       "      <th>43243</th>\n",
       "      <td>영업관리·지원·영업기획</td>\n",
       "      <td>\"지역 상권 맞춤형 GS25\"\\n\\n저는 평소 GS25를 이용할 때면, 탁월한 위치...</td>\n",
       "    </tr>\n",
       "    <tr>\n",
       "      <th>38971</th>\n",
       "      <td>전기·전자·제어</td>\n",
       "      <td>\"전기를 사랑한 사람\"\\n\\n제 인생에 가장 큰 반환점 중 하나는 'OO공학과’로 ...</td>\n",
       "    </tr>\n",
       "  </tbody>\n",
       "</table>\n",
       "</div>"
      ],
      "text/plain": [
       "           c_origin                                                jss\n",
       "36663   생산·제조·설비·조립  [함께한다는 것, 그 이상의 의미]\\n 대학생활을 함께한 모임, 새앎터가 있습니다....\n",
       "26960    건축·설계·인테리어  [반대로 생각하여 고객 불만율 12%를 줄인 경험이 있습니다!]\\n\\n레스토랑에서 ...\n",
       "18459            건설  [목표를 향한 적극적인 모습]\\n저는 목표를 달성하기 위해 적극적인 행동과 활용 능...\n",
       "43243  영업관리·지원·영업기획  \"지역 상권 맞춤형 GS25\"\\n\\n저는 평소 GS25를 이용할 때면, 탁월한 위치...\n",
       "38971      전기·전자·제어  \"전기를 사랑한 사람\"\\n\\n제 인생에 가장 큰 반환점 중 하나는 'OO공학과’로 ..."
      ]
     },
     "execution_count": 41,
     "metadata": {},
     "output_type": "execute_result"
    }
   ],
   "source": [
    "df2.head()"
   ]
  },
  {
   "cell_type": "code",
   "execution_count": 49,
   "metadata": {},
   "outputs": [],
   "source": [
    "df2['category'] = '기타'"
   ]
  },
  {
   "cell_type": "code",
   "execution_count": 46,
   "metadata": {},
   "outputs": [],
   "source": [
    "df2 = df2[['category','c_origin','jss']]"
   ]
  },
  {
   "cell_type": "code",
   "execution_count": 52,
   "metadata": {},
   "outputs": [
    {
     "name": "stderr",
     "output_type": "stream",
     "text": [
      "C:\\Users\\dongc\\Anaconda3\\lib\\site-packages\\ipykernel_launcher.py:1: FutureWarning: Sorting because non-concatenation axis is not aligned. A future version\n",
      "of pandas will change to not sort by default.\n",
      "\n",
      "To accept the future behavior, pass 'sort=True'.\n",
      "\n",
      "To retain the current behavior and silence the warning, pass sort=False\n",
      "\n",
      "  \"\"\"Entry point for launching an IPython kernel.\n"
     ]
    }
   ],
   "source": [
    "df = pd.concat([df,df2])"
   ]
  },
  {
   "cell_type": "code",
   "execution_count": 78,
   "metadata": {},
   "outputs": [],
   "source": [
    "df.reset_index(inplace=True)"
   ]
  },
  {
   "cell_type": "code",
   "execution_count": 79,
   "metadata": {},
   "outputs": [],
   "source": [
    "df.drop(columns='index',inplace=True)"
   ]
  },
  {
   "cell_type": "code",
   "execution_count": 57,
   "metadata": {},
   "outputs": [
    {
     "data": {
      "text/plain": [
       "array([ 0.,  7.,  1., nan])"
      ]
     },
     "execution_count": 57,
     "metadata": {},
     "output_type": "execute_result"
    }
   ],
   "source": [
    "df.label.unique()"
   ]
  },
  {
   "cell_type": "code",
   "execution_count": 64,
   "metadata": {},
   "outputs": [
    {
     "data": {
      "text/html": [
       "<div>\n",
       "<style scoped>\n",
       "    .dataframe tbody tr th:only-of-type {\n",
       "        vertical-align: middle;\n",
       "    }\n",
       "\n",
       "    .dataframe tbody tr th {\n",
       "        vertical-align: top;\n",
       "    }\n",
       "\n",
       "    .dataframe thead th {\n",
       "        text-align: right;\n",
       "    }\n",
       "</style>\n",
       "<table border=\"1\" class=\"dataframe\">\n",
       "  <thead>\n",
       "    <tr style=\"text-align: right;\">\n",
       "      <th></th>\n",
       "      <th>c_origin</th>\n",
       "      <th>category</th>\n",
       "      <th>jss</th>\n",
       "      <th>label</th>\n",
       "    </tr>\n",
       "  </thead>\n",
       "  <tbody>\n",
       "    <tr>\n",
       "      <th>9605</th>\n",
       "      <td>회계·세무·CPA</td>\n",
       "      <td>재무·금융</td>\n",
       "      <td>저는 남을 돕기 좋아하는 성격입니다. 저는 평소에 가지고 있던 컴퓨터에 대한 관심을...</td>\n",
       "      <td>1.0</td>\n",
       "    </tr>\n",
       "    <tr>\n",
       "      <th>9606</th>\n",
       "      <td>회계·세무·CPA</td>\n",
       "      <td>재무·금융</td>\n",
       "      <td>저는 보험 관련 수업으로 생존분석과 손해보험통계, 금융리스크관리실무와 통계학 수업을...</td>\n",
       "      <td>1.0</td>\n",
       "    </tr>\n",
       "    <tr>\n",
       "      <th>9607</th>\n",
       "      <td>회계·세무·CPA</td>\n",
       "      <td>재무·금융</td>\n",
       "      <td>처음 통계학과에 입학하였을 때 선배들에게 리스크 관리 분야에서 통계학이 많이 쓰인다...</td>\n",
       "      <td>1.0</td>\n",
       "    </tr>\n",
       "    <tr>\n",
       "      <th>9608</th>\n",
       "      <td>회계·세무·CPA</td>\n",
       "      <td>재무·금융</td>\n",
       "      <td>[형광등 100개의 효과]\\n\\n\"이 지점은 인턴이 있어서 분위기가 밝네!\" ooo...</td>\n",
       "      <td>1.0</td>\n",
       "    </tr>\n",
       "    <tr>\n",
       "      <th>9609</th>\n",
       "      <td>회계·세무·CPA</td>\n",
       "      <td>재무·금융</td>\n",
       "      <td>[신용보증기금에서 중기 희망을 3D프린팅하다]\\n\\n신용보증기금에서 중소기업에게 희...</td>\n",
       "      <td>1.0</td>\n",
       "    </tr>\n",
       "  </tbody>\n",
       "</table>\n",
       "</div>"
      ],
      "text/plain": [
       "       c_origin category                                                jss  \\\n",
       "9605  회계·세무·CPA    재무·금융  저는 남을 돕기 좋아하는 성격입니다. 저는 평소에 가지고 있던 컴퓨터에 대한 관심을...   \n",
       "9606  회계·세무·CPA    재무·금융  저는 보험 관련 수업으로 생존분석과 손해보험통계, 금융리스크관리실무와 통계학 수업을...   \n",
       "9607  회계·세무·CPA    재무·금융  처음 통계학과에 입학하였을 때 선배들에게 리스크 관리 분야에서 통계학이 많이 쓰인다...   \n",
       "9608  회계·세무·CPA    재무·금융  [형광등 100개의 효과]\\n\\n\"이 지점은 인턴이 있어서 분위기가 밝네!\" ooo...   \n",
       "9609  회계·세무·CPA    재무·금융  [신용보증기금에서 중기 희망을 3D프린팅하다]\\n\\n신용보증기금에서 중소기업에게 희...   \n",
       "\n",
       "      label  \n",
       "9605    1.0  \n",
       "9606    1.0  \n",
       "9607    1.0  \n",
       "9608    1.0  \n",
       "9609    1.0  "
      ]
     },
     "execution_count": 64,
     "metadata": {},
     "output_type": "execute_result"
    }
   ],
   "source": [
    "df[df.label==1].tail()"
   ]
  },
  {
   "cell_type": "code",
   "execution_count": 67,
   "metadata": {},
   "outputs": [],
   "source": [
    "df.loc[df[df.label.isna()].index,'label'] = 0"
   ]
  },
  {
   "cell_type": "code",
   "execution_count": 80,
   "metadata": {},
   "outputs": [
    {
     "data": {
      "text/html": [
       "<div>\n",
       "<style scoped>\n",
       "    .dataframe tbody tr th:only-of-type {\n",
       "        vertical-align: middle;\n",
       "    }\n",
       "\n",
       "    .dataframe tbody tr th {\n",
       "        vertical-align: top;\n",
       "    }\n",
       "\n",
       "    .dataframe thead th {\n",
       "        text-align: right;\n",
       "    }\n",
       "</style>\n",
       "<table border=\"1\" class=\"dataframe\">\n",
       "  <thead>\n",
       "    <tr style=\"text-align: right;\">\n",
       "      <th></th>\n",
       "      <th>c_origin</th>\n",
       "      <th>category</th>\n",
       "      <th>jss</th>\n",
       "      <th>label</th>\n",
       "    </tr>\n",
       "  </thead>\n",
       "  <tbody>\n",
       "    <tr>\n",
       "      <th>0</th>\n",
       "      <td>기획·전략·경영</td>\n",
       "      <td>경영지원</td>\n",
       "      <td>[제품 홍보가 곧 기업 홍보다]\\n제품 홍보가 곧 기업 홍보라는 회사의 모토처럼, ...</td>\n",
       "      <td>1.0</td>\n",
       "    </tr>\n",
       "    <tr>\n",
       "      <th>1</th>\n",
       "      <td>기획·전략·경영</td>\n",
       "      <td>경영지원</td>\n",
       "      <td>[남양유업 경영관리 전문가]\\n제가 지원하게 된 경영관리는 기업이 올바른 방향으로 ...</td>\n",
       "      <td>1.0</td>\n",
       "    </tr>\n",
       "    <tr>\n",
       "      <th>2</th>\n",
       "      <td>기획·전략·경영</td>\n",
       "      <td>경영지원</td>\n",
       "      <td>[높은 경쟁률 통과]\\n작년 여름, 봉사활동에 늘 뜻이 있어 '행복 나눔 봉사단'이...</td>\n",
       "      <td>1.0</td>\n",
       "    </tr>\n",
       "    <tr>\n",
       "      <th>3</th>\n",
       "      <td>기획·전략·경영</td>\n",
       "      <td>경영지원</td>\n",
       "      <td>[꼼꼼함과 완벽함 사이]\\n차분하고 꼼꼼한 성격을 지닌 저는 항상 주어진 일에 최선...</td>\n",
       "      <td>1.0</td>\n",
       "    </tr>\n",
       "    <tr>\n",
       "      <th>4</th>\n",
       "      <td>기획·전략·경영</td>\n",
       "      <td>경영지원</td>\n",
       "      <td>경영학과 중국어 두 가지에 집중했습니다.\\n대학에 입학하고는, 다양한 학문을 포괄적...</td>\n",
       "      <td>1.0</td>\n",
       "    </tr>\n",
       "  </tbody>\n",
       "</table>\n",
       "</div>"
      ],
      "text/plain": [
       "   c_origin category                                                jss  label\n",
       "0  기획·전략·경영     경영지원  [제품 홍보가 곧 기업 홍보다]\\n제품 홍보가 곧 기업 홍보라는 회사의 모토처럼, ...    1.0\n",
       "1  기획·전략·경영     경영지원  [남양유업 경영관리 전문가]\\n제가 지원하게 된 경영관리는 기업이 올바른 방향으로 ...    1.0\n",
       "2  기획·전략·경영     경영지원  [높은 경쟁률 통과]\\n작년 여름, 봉사활동에 늘 뜻이 있어 '행복 나눔 봉사단'이...    1.0\n",
       "3  기획·전략·경영     경영지원  [꼼꼼함과 완벽함 사이]\\n차분하고 꼼꼼한 성격을 지닌 저는 항상 주어진 일에 최선...    1.0\n",
       "4  기획·전략·경영     경영지원  경영학과 중국어 두 가지에 집중했습니다.\\n대학에 입학하고는, 다양한 학문을 포괄적...    1.0"
      ]
     },
     "execution_count": 80,
     "metadata": {},
     "output_type": "execute_result"
    }
   ],
   "source": [
    "df.head()"
   ]
  },
  {
   "cell_type": "code",
   "execution_count": 81,
   "metadata": {},
   "outputs": [],
   "source": [
    "df.to_csv('../data/자소서_균등.csv')"
   ]
  },
  {
   "cell_type": "code",
   "execution_count": null,
   "metadata": {},
   "outputs": [],
   "source": []
  }
 ],
 "metadata": {
  "kernelspec": {
   "display_name": "Python 3",
   "language": "python",
   "name": "python3"
  },
  "language_info": {
   "codemirror_mode": {
    "name": "ipython",
    "version": 3
   },
   "file_extension": ".py",
   "mimetype": "text/x-python",
   "name": "python",
   "nbconvert_exporter": "python",
   "pygments_lexer": "ipython3",
   "version": "3.6.5"
  }
 },
 "nbformat": 4,
 "nbformat_minor": 2
}
