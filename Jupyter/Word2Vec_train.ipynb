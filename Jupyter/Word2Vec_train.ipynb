{
 "cells": [
  {
   "cell_type": "code",
   "execution_count": 1,
   "metadata": {},
   "outputs": [
    {
     "name": "stderr",
     "output_type": "stream",
     "text": [
      "C:\\Users\\dongc\\Anaconda3\\lib\\site-packages\\gensim\\utils.py:1212: UserWarning: detected Windows; aliasing chunkize to chunkize_serial\n",
      "  warnings.warn(\"detected Windows; aliasing chunkize to chunkize_serial\")\n"
     ]
    }
   ],
   "source": [
    "import os\n",
    "from konlpy.tag import Okt\n",
    "import gensim \n",
    "import numpy as np\n",
    "import codecs\n",
    "import pandas as pd"
   ]
  },
  {
   "cell_type": "code",
   "execution_count": 2,
   "metadata": {},
   "outputs": [],
   "source": [
    "from eunjeon import Mecab"
   ]
  },
  {
   "cell_type": "code",
   "execution_count": 3,
   "metadata": {},
   "outputs": [],
   "source": [
    "df = pd.read_csv('../data/자소서_문이과.csv',index_col=0,engine='python',encoding='utf8')"
   ]
  },
  {
   "cell_type": "code",
   "execution_count": 4,
   "metadata": {},
   "outputs": [
    {
     "data": {
      "text/html": [
       "<div>\n",
       "<style scoped>\n",
       "    .dataframe tbody tr th:only-of-type {\n",
       "        vertical-align: middle;\n",
       "    }\n",
       "\n",
       "    .dataframe tbody tr th {\n",
       "        vertical-align: top;\n",
       "    }\n",
       "\n",
       "    .dataframe thead th {\n",
       "        text-align: right;\n",
       "    }\n",
       "</style>\n",
       "<table border=\"1\" class=\"dataframe\">\n",
       "  <thead>\n",
       "    <tr style=\"text-align: right;\">\n",
       "      <th></th>\n",
       "      <th>category</th>\n",
       "      <th>jss</th>\n",
       "      <th>major</th>\n",
       "    </tr>\n",
       "  </thead>\n",
       "  <tbody>\n",
       "    <tr>\n",
       "      <th>0</th>\n",
       "      <td>경영 사무</td>\n",
       "      <td>[제품 홍보가 곧 기업 홍보다]\\n제품 홍보가 곧 기업 홍보라는 회사의 모토처럼, ...</td>\n",
       "      <td>문과</td>\n",
       "    </tr>\n",
       "    <tr>\n",
       "      <th>1</th>\n",
       "      <td>경영 사무</td>\n",
       "      <td>[남양유업 경영관리 전문가]\\n제가 지원하게 된 경영관리는 기업이 올바른 방향으로 ...</td>\n",
       "      <td>문과</td>\n",
       "    </tr>\n",
       "    <tr>\n",
       "      <th>2</th>\n",
       "      <td>경영 사무</td>\n",
       "      <td>[높은 경쟁률 통과]\\n작년 여름, 봉사활동에 늘 뜻이 있어 '행복 나눔 봉사단'이...</td>\n",
       "      <td>문과</td>\n",
       "    </tr>\n",
       "    <tr>\n",
       "      <th>3</th>\n",
       "      <td>경영 사무</td>\n",
       "      <td>[꼼꼼함과 완벽함 사이]\\n차분하고 꼼꼼한 성격을 지닌 저는 항상 주어진 일에 최선...</td>\n",
       "      <td>문과</td>\n",
       "    </tr>\n",
       "    <tr>\n",
       "      <th>4</th>\n",
       "      <td>경영 사무</td>\n",
       "      <td>[열정은 신뢰다]\\n\"열정을 다하는 사람에게는 신뢰가 따라온다.\" 아버지께서 저에게...</td>\n",
       "      <td>문과</td>\n",
       "    </tr>\n",
       "  </tbody>\n",
       "</table>\n",
       "</div>"
      ],
      "text/plain": [
       "  category                                                jss major\n",
       "0    경영 사무  [제품 홍보가 곧 기업 홍보다]\\n제품 홍보가 곧 기업 홍보라는 회사의 모토처럼, ...    문과\n",
       "1    경영 사무  [남양유업 경영관리 전문가]\\n제가 지원하게 된 경영관리는 기업이 올바른 방향으로 ...    문과\n",
       "2    경영 사무  [높은 경쟁률 통과]\\n작년 여름, 봉사활동에 늘 뜻이 있어 '행복 나눔 봉사단'이...    문과\n",
       "3    경영 사무  [꼼꼼함과 완벽함 사이]\\n차분하고 꼼꼼한 성격을 지닌 저는 항상 주어진 일에 최선...    문과\n",
       "4    경영 사무  [열정은 신뢰다]\\n\"열정을 다하는 사람에게는 신뢰가 따라온다.\" 아버지께서 저에게...    문과"
      ]
     },
     "execution_count": 4,
     "metadata": {},
     "output_type": "execute_result"
    }
   ],
   "source": [
    "df.head()"
   ]
  },
  {
   "cell_type": "code",
   "execution_count": 5,
   "metadata": {
    "scrolled": true
   },
   "outputs": [],
   "source": [
    "train_data = df.jss.tolist()"
   ]
  },
  {
   "cell_type": "code",
   "execution_count": 6,
   "metadata": {},
   "outputs": [],
   "source": [
    "from tqdm import tqdm_notebook"
   ]
  },
  {
   "cell_type": "code",
   "execution_count": 27,
   "metadata": {},
   "outputs": [
    {
     "data": {
      "text/plain": [
       "['제품',\n",
       " '홍보',\n",
       " '곧',\n",
       " '기업',\n",
       " '홍보',\n",
       " '제품',\n",
       " '홍보',\n",
       " '곧',\n",
       " '기업',\n",
       " '홍보',\n",
       " '회사',\n",
       " '모토',\n",
       " '학창시절',\n",
       " '온',\n",
       " '우유',\n",
       " '를',\n",
       " '통해',\n",
       " '남양유업',\n",
       " '우유',\n",
       " '기업',\n",
       " '이미지',\n",
       " '가지',\n",
       " '남양유업',\n",
       " '우호',\n",
       " '관심',\n",
       " '가지',\n",
       " '성장',\n",
       " '위',\n",
       " '전략',\n",
       " '해외',\n",
       " '수출',\n",
       " '시작',\n",
       " '남양유업',\n",
       " '혁신',\n",
       " '방침',\n",
       " '선택',\n",
       " '집중',\n",
       " '전략',\n",
       " '세계',\n",
       " '유제품',\n",
       " '전문',\n",
       " '회사',\n",
       " '로',\n",
       " '거듭',\n",
       " '날',\n",
       " '것',\n",
       " '남양유업',\n",
       " '인',\n",
       " '제',\n",
       " '모든',\n",
       " '역량',\n",
       " '혼신',\n",
       " '붇',\n",
       " '고자',\n",
       " '지원',\n",
       " '도전',\n",
       " '통해',\n",
       " '연마',\n",
       " '창조',\n",
       " '사고',\n",
       " '일',\n",
       " '제',\n",
       " '자신',\n",
       " '불',\n",
       " '수',\n",
       " '열정',\n",
       " '일',\n",
       " '대한',\n",
       " '책임감',\n",
       " '바탕',\n",
       " '관리',\n",
       " '부서',\n",
       " '함',\n",
       " '남양유업',\n",
       " '발전',\n",
       " '동참',\n",
       " '수',\n",
       " '기회',\n",
       " '위해',\n",
       " '제',\n",
       " '분야',\n",
       " '최고',\n",
       " '목표',\n",
       " '현재',\n",
       " '안주',\n",
       " '미래',\n",
       " '위',\n",
       " '자기계발',\n",
       " '노력',\n",
       " '것']"
      ]
     },
     "execution_count": 27,
     "metadata": {},
     "output_type": "execute_result"
    }
   ],
   "source": [
    "okt.nouns(train_data[0])"
   ]
  },
  {
   "cell_type": "code",
   "execution_count": 7,
   "metadata": {},
   "outputs": [],
   "source": [
    "mecab = Mecab()\n",
    "okt = Okt()"
   ]
  },
  {
   "cell_type": "code",
   "execution_count": 11,
   "metadata": {},
   "outputs": [
    {
     "data": {
      "text/plain": [
       "A Jupyter Widget"
      ]
     },
     "metadata": {},
     "output_type": "display_data"
    },
    {
     "name": "stdout",
     "output_type": "stream",
     "text": [
      "\n"
     ]
    }
   ],
   "source": [
    "tokens = []\n",
    "for row in tqdm_notebook(train_data):\n",
    "    tokens.append(mecab.nouns(row))"
   ]
  },
  {
   "cell_type": "code",
   "execution_count": 11,
   "metadata": {},
   "outputs": [
    {
     "data": {
      "text/plain": [
       "HBox(children=(IntProgress(value=0, max=26027), HTML(value='')))"
      ]
     },
     "metadata": {},
     "output_type": "display_data"
    },
    {
     "name": "stdout",
     "output_type": "stream",
     "text": [
      "\n"
     ]
    }
   ],
   "source": [
    "# 트위터로 모든 품사 포함해서 자르기.. 아주 오래걸릴것\n",
    "tokens = []\n",
    "for row in tqdm_notebook(train_data):\n",
    "    tokens.append(okt.morphs(row))"
   ]
  },
  {
   "cell_type": "code",
   "execution_count": 28,
   "metadata": {},
   "outputs": [
    {
     "data": {
      "text/plain": [
       "HBox(children=(IntProgress(value=0, max=26027), HTML(value='')))"
      ]
     },
     "metadata": {},
     "output_type": "display_data"
    },
    {
     "name": "stdout",
     "output_type": "stream",
     "text": [
      "\n"
     ]
    }
   ],
   "source": [
    "# 트위터로 명사만 자르기\n",
    "tokens = []\n",
    "for row in tqdm_notebook(train_data):\n",
    "    tokens.append(okt.nouns(row))"
   ]
  },
  {
   "cell_type": "code",
   "execution_count": 29,
   "metadata": {
    "scrolled": true
   },
   "outputs": [
    {
     "data": {
      "text/plain": [
       "1012"
      ]
     },
     "execution_count": 29,
     "metadata": {},
     "output_type": "execute_result"
    }
   ],
   "source": [
    "# 제일 긴 시퀀스가 얼마일까?\n",
    "len(max(tokens, key=len))"
   ]
  },
  {
   "cell_type": "code",
   "execution_count": 30,
   "metadata": {},
   "outputs": [],
   "source": [
    "# 모델 만들기\n",
    "model = gensim.models.Word2Vec(tokens, size=300, workers=4)"
   ]
  },
  {
   "cell_type": "code",
   "execution_count": 31,
   "metadata": {},
   "outputs": [
    {
     "data": {
      "text/plain": [
       "HBox(children=(IntProgress(value=0, max=30), HTML(value='')))"
      ]
     },
     "metadata": {},
     "output_type": "display_data"
    },
    {
     "name": "stderr",
     "output_type": "stream",
     "text": [
      "C:\\Users\\dongc\\Anaconda3\\lib\\site-packages\\ipykernel_launcher.py:3: DeprecationWarning: Call to deprecated `iter` (Attribute will be removed in 4.0.0, use self.epochs instead).\n",
      "  This is separate from the ipykernel package so we can avoid doing imports until\n"
     ]
    },
    {
     "name": "stdout",
     "output_type": "stream",
     "text": [
      "\n"
     ]
    }
   ],
   "source": [
    "# 학습하기\n",
    "for epoch in tqdm_notebook(range(30)):\n",
    "    model.train(tokens,total_examples=model.corpus_count,epochs = model.iter)\n",
    "    model.alpha -= 0.002 # 러닝레이트\n",
    "    model.min_alpha = model.alpha"
   ]
  },
  {
   "cell_type": "code",
   "execution_count": 32,
   "metadata": {},
   "outputs": [],
   "source": [
    "model.save(\"../data/word2vec_okt_nouns.model\")"
   ]
  },
  {
   "cell_type": "code",
   "execution_count": 26,
   "metadata": {},
   "outputs": [
    {
     "name": "stderr",
     "output_type": "stream",
     "text": [
      "C:\\Users\\dongc\\Anaconda3\\lib\\site-packages\\ipykernel_launcher.py:1: DeprecationWarning: Call to deprecated `most_similar` (Method will be removed in 4.0.0, use self.wv.most_similar() instead).\n",
      "  \"\"\"Entry point for launching an IPython kernel.\n",
      "C:\\Users\\dongc\\Anaconda3\\lib\\site-packages\\gensim\\matutils.py:737: FutureWarning: Conversion of the second argument of issubdtype from `int` to `np.signedinteger` is deprecated. In future, it will be treated as `np.int32 == np.dtype(int).type`.\n",
      "  if np.issubdtype(vec.dtype, np.int):\n"
     ]
    },
    {
     "data": {
      "text/plain": [
       "[('데이터', 0.5605283975601196),\n",
       " ('SWOT', 0.48745962977409363),\n",
       " ('시계열', 0.4734002649784088),\n",
       " ('통계', 0.46641141176223755),\n",
       " ('MS', 0.44373124837875366),\n",
       " ('SPSS', 0.44330522418022156),\n",
       " ('뇌파', 0.4423272907733917),\n",
       " ('DB', 0.4270191788673401),\n",
       " ('추이', 0.41185277700424194),\n",
       " ('자료', 0.40939900279045105),\n",
       " ('빅', 0.4082772731781006),\n",
       " ('패킷', 0.4046884775161743),\n",
       " ('AI', 0.40282902121543884),\n",
       " ('미생물', 0.3976278007030487),\n",
       " ('PTM', 0.39534854888916016),\n",
       " ('비트', 0.3915219008922577),\n",
       " ('재무관리', 0.3894278109073639),\n",
       " ('기기', 0.38884609937667847),\n",
       " ('EVA', 0.3855362832546234),\n",
       " ('TEM', 0.3846418261528015)]"
      ]
     },
     "execution_count": 26,
     "metadata": {},
     "output_type": "execute_result"
    }
   ],
   "source": [
    "model.most_similar('빅데이터',topn = 20)"
   ]
  },
  {
   "cell_type": "code",
   "execution_count": 33,
   "metadata": {},
   "outputs": [
    {
     "name": "stderr",
     "output_type": "stream",
     "text": [
      "C:\\Users\\dongc\\Anaconda3\\lib\\site-packages\\ipykernel_launcher.py:1: DeprecationWarning: Call to deprecated `most_similar` (Method will be removed in 4.0.0, use self.wv.most_similar() instead).\n",
      "  \"\"\"Entry point for launching an IPython kernel.\n",
      "C:\\Users\\dongc\\Anaconda3\\lib\\site-packages\\gensim\\matutils.py:737: FutureWarning: Conversion of the second argument of issubdtype from `int` to `np.signedinteger` is deprecated. In future, it will be treated as `np.int32 == np.dtype(int).type`.\n",
      "  if np.issubdtype(vec.dtype, np.int):\n"
     ]
    },
    {
     "data": {
      "text/plain": [
       "[('데이터', 0.4600007236003876),\n",
       " ('통계', 0.3877166509628296),\n",
       " ('데이터마이닝', 0.38625672459602356),\n",
       " ('사물인터넷', 0.35793399810791016),\n",
       " ('소셜', 0.3559300899505615),\n",
       " ('클라우드', 0.3537953495979309),\n",
       " ('마이크로소프트', 0.3467785120010376),\n",
       " ('데이터베이스', 0.3438623249530792),\n",
       " ('빅', 0.3392535448074341),\n",
       " ('가상화', 0.3324275016784668),\n",
       " ('하둡', 0.33024704456329346),\n",
       " ('러닝', 0.31106579303741455),\n",
       " ('컴퓨팅', 0.3094521164894104),\n",
       " ('소프트웨어', 0.3070041239261627),\n",
       " ('기법', 0.30343419313430786),\n",
       " ('이동통신', 0.29502254724502563),\n",
       " ('그리드', 0.2938788831233978),\n",
       " ('정보', 0.29251280426979065),\n",
       " ('마케팅', 0.2884584069252014),\n",
       " ('통계학', 0.2880133092403412)]"
      ]
     },
     "execution_count": 33,
     "metadata": {},
     "output_type": "execute_result"
    }
   ],
   "source": [
    "model.most_similar('빅데이터',topn = 20)"
   ]
  },
  {
   "cell_type": "markdown",
   "metadata": {
    "collapsed": true
   },
   "source": [
    "# 모델 불러오기"
   ]
  },
  {
   "cell_type": "code",
   "execution_count": 2,
   "metadata": {
    "collapsed": true
   },
   "outputs": [],
   "source": [
    "model = gensim.models.word2vec.Word2Vec.load('../data/word2vec_mecab.model')"
   ]
  },
  {
   "cell_type": "code",
   "execution_count": 21,
   "metadata": {},
   "outputs": [
    {
     "data": {
      "text/plain": [
       "300"
      ]
     },
     "execution_count": 21,
     "metadata": {},
     "output_type": "execute_result"
    }
   ],
   "source": [
    "len(model.wv['열정'])"
   ]
  },
  {
   "cell_type": "code",
   "execution_count": null,
   "metadata": {
    "collapsed": true
   },
   "outputs": [],
   "source": []
  }
 ],
 "metadata": {
  "kernelspec": {
   "display_name": "Python 3",
   "language": "python",
   "name": "python3"
  },
  "language_info": {
   "codemirror_mode": {
    "name": "ipython",
    "version": 3
   },
   "file_extension": ".py",
   "mimetype": "text/x-python",
   "name": "python",
   "nbconvert_exporter": "python",
   "pygments_lexer": "ipython3",
   "version": "3.6.5"
  }
 },
 "nbformat": 4,
 "nbformat_minor": 2
}
