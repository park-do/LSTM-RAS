{
 "cells": [
  {
   "cell_type": "code",
   "execution_count": 1,
   "metadata": {},
   "outputs": [
    {
     "name": "stderr",
     "output_type": "stream",
     "text": [
      "C:\\Anaconda3\\lib\\site-packages\\gensim\\utils.py:1212: UserWarning: detected Windows; aliasing chunkize to chunkize_serial\n",
      "  warnings.warn(\"detected Windows; aliasing chunkize to chunkize_serial\")\n"
     ]
    }
   ],
   "source": [
    "# -*- coding: utf-8 -*-\n",
    "from konlpy.tag import Twitter\n",
    "import numpy as np\n",
    "import gensim\n",
    "\n",
    "\n",
    "class Word2Vec():\n",
    "    \n",
    "    def __init__(self):\n",
    "        None\n",
    "\n",
    "    def tokenize(self, doc):\n",
    "        pos_tagger = Twitter()\n",
    "        return ['/'.join(t) for t in pos_tagger.pos(doc, norm=True, stem=True)]\n",
    "    \n",
    "    def read_data(self, filename):\n",
    "        with open(filename, 'r',encoding='utf-8') as f:\n",
    "            data = [line.split('\\t') for line in f.read().splitlines()]\n",
    "            data = data[1:]\n",
    "        return data  \n",
    "    \n",
    "    def Word2vec_model(self, model_name):\n",
    "        \n",
    "        model = gensim.models.word2vec.Word2Vec.load(model_name)\n",
    "        return model\n",
    "    \n",
    "    def Convert2Vec(self, model_name, doc):  ## Convert corpus into vectors\n",
    "        word_vec = []\n",
    "        model = gensim.models.word2vec.Word2Vec.load(model_name)\n",
    "        for sent in doc:\n",
    "            sub = []\n",
    "            for word in sent:\n",
    "                if(word in model.wv.vocab):\n",
    "                    sub.append(model.wv[word])\n",
    "                else:\n",
    "                    sub.append(np.random.uniform(-0.25,0.25,300)) ## used for OOV words\n",
    "            word_vec.append(sub)\n",
    "        \n",
    "        return np.array(word_vec)\n",
    "    \n",
    "    def Zero_padding(self, train_batch_X, Batch_size, Maxseq_length, Vector_size):\n",
    "        \n",
    "        zero_pad = np.zeros((Batch_size, Maxseq_length, Vector_size))\n",
    "        for i in range(Batch_size):\n",
    "            zero_pad[i,:np.shape(train_batch_X[i])[0],:np.shape(train_batch_X[i])[1]] = train_batch_X[i]\n",
    "            \n",
    "        return zero_pad\n",
    "    \n",
    "    def One_hot(self, data):\n",
    "       \n",
    "        index_dict = {value:index for index,value in enumerate(set(data))}\n",
    "        result = []\n",
    "        \n",
    "        for value in data:\n",
    "            \n",
    "            one_hot = np.zeros(len(index_dict))\n",
    "            index = index_dict[value]\n",
    "            one_hot[index] = 1\n",
    "            result.append(one_hot)\n",
    "        \n",
    "        return np.array(result)\n",
    "    "
   ]
  },
  {
   "cell_type": "code",
   "execution_count": null,
   "metadata": {
    "collapsed": true
   },
   "outputs": [],
   "source": []
  }
 ],
 "metadata": {
  "kernelspec": {
   "display_name": "Python 3",
   "language": "python",
   "name": "python3"
  },
  "language_info": {
   "codemirror_mode": {
    "name": "ipython",
    "version": 3
   },
   "file_extension": ".py",
   "mimetype": "text/x-python",
   "name": "python",
   "nbconvert_exporter": "python",
   "pygments_lexer": "ipython3",
   "version": "3.6.3"
  }
 },
 "nbformat": 4,
 "nbformat_minor": 2
}
