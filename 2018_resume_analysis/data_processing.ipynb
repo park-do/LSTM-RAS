{
 "cells": [
  {
   "cell_type": "code",
   "execution_count": 1,
   "metadata": {},
   "outputs": [],
   "source": [
    "import pandas as pd\n",
    "from tqdm import tqdm_notebook\n",
    "from eunjeon import Mecab\n",
    "from konlpy.tag import Okt\n",
    "mecab = Mecab()\n",
    "okt = Okt()"
   ]
  },
  {
   "cell_type": "markdown",
   "metadata": {},
   "source": [
    "# 에러 없애기"
   ]
  },
  {
   "cell_type": "code",
   "execution_count": 70,
   "metadata": {
    "collapsed": true
   },
   "outputs": [],
   "source": [
    "df = pd.read_csv('../data/자소서6.csv',index_col=0, engine='python', encoding='utf8')"
   ]
  },
  {
   "cell_type": "code",
   "execution_count": 71,
   "metadata": {
    "collapsed": true
   },
   "outputs": [],
   "source": [
    "df = df.reset_index().drop(columns=['index'])"
   ]
  },
  {
   "cell_type": "code",
   "execution_count": 72,
   "metadata": {},
   "outputs": [
    {
     "data": {
      "text/html": [
       "<div>\n",
       "<style scoped>\n",
       "    .dataframe tbody tr th:only-of-type {\n",
       "        vertical-align: middle;\n",
       "    }\n",
       "\n",
       "    .dataframe tbody tr th {\n",
       "        vertical-align: top;\n",
       "    }\n",
       "\n",
       "    .dataframe thead th {\n",
       "        text-align: right;\n",
       "    }\n",
       "</style>\n",
       "<table border=\"1\" class=\"dataframe\">\n",
       "  <thead>\n",
       "    <tr style=\"text-align: right;\">\n",
       "      <th></th>\n",
       "      <th>category1</th>\n",
       "      <th>category2</th>\n",
       "      <th>jss</th>\n",
       "      <th>label</th>\n",
       "    </tr>\n",
       "  </thead>\n",
       "  <tbody>\n",
       "    <tr>\n",
       "      <th>0</th>\n",
       "      <td>경영기획</td>\n",
       "      <td>기획·전략·경영</td>\n",
       "      <td>[제품 홍보가 곧 기업 홍보다]\\n제품 홍보가 곧 기업 홍보라는 회사의 모토처럼, ...</td>\n",
       "      <td>0</td>\n",
       "    </tr>\n",
       "    <tr>\n",
       "      <th>1</th>\n",
       "      <td>경영기획</td>\n",
       "      <td>기획·전략·경영</td>\n",
       "      <td>[남양유업 경영관리 전문가]\\n제가 지원하게 된 경영관리는 기업이 올바른 방향으로 ...</td>\n",
       "      <td>0</td>\n",
       "    </tr>\n",
       "    <tr>\n",
       "      <th>2</th>\n",
       "      <td>경영기획</td>\n",
       "      <td>기획·전략·경영</td>\n",
       "      <td>[높은 경쟁률 통과]\\n작년 여름, 봉사활동에 늘 뜻이 있어 '행복 나눔 봉사단'이...</td>\n",
       "      <td>0</td>\n",
       "    </tr>\n",
       "    <tr>\n",
       "      <th>3</th>\n",
       "      <td>경영기획</td>\n",
       "      <td>기획·전략·경영</td>\n",
       "      <td>[꼼꼼함과 완벽함 사이]\\n차분하고 꼼꼼한 성격을 지닌 저는 항상 주어진 일에 최선...</td>\n",
       "      <td>0</td>\n",
       "    </tr>\n",
       "    <tr>\n",
       "      <th>4</th>\n",
       "      <td>경영기획</td>\n",
       "      <td>기획·전략·경영</td>\n",
       "      <td>경영학과 중국어 두 가지에 집중했습니다.\\n대학에 입학하고는, 다양한 학문을 포괄적...</td>\n",
       "      <td>0</td>\n",
       "    </tr>\n",
       "  </tbody>\n",
       "</table>\n",
       "</div>"
      ],
      "text/plain": [
       "  category1 category2                                                jss  \\\n",
       "0      경영기획  기획·전략·경영  [제품 홍보가 곧 기업 홍보다]\\n제품 홍보가 곧 기업 홍보라는 회사의 모토처럼, ...   \n",
       "1      경영기획  기획·전략·경영  [남양유업 경영관리 전문가]\\n제가 지원하게 된 경영관리는 기업이 올바른 방향으로 ...   \n",
       "2      경영기획  기획·전략·경영  [높은 경쟁률 통과]\\n작년 여름, 봉사활동에 늘 뜻이 있어 '행복 나눔 봉사단'이...   \n",
       "3      경영기획  기획·전략·경영  [꼼꼼함과 완벽함 사이]\\n차분하고 꼼꼼한 성격을 지닌 저는 항상 주어진 일에 최선...   \n",
       "4      경영기획  기획·전략·경영  경영학과 중국어 두 가지에 집중했습니다.\\n대학에 입학하고는, 다양한 학문을 포괄적...   \n",
       "\n",
       "   label  \n",
       "0      0  \n",
       "1      0  \n",
       "2      0  \n",
       "3      0  \n",
       "4      0  "
      ]
     },
     "execution_count": 72,
     "metadata": {},
     "output_type": "execute_result"
    }
   ],
   "source": [
    "df.head()"
   ]
  },
  {
   "cell_type": "code",
   "execution_count": 73,
   "metadata": {},
   "outputs": [
    {
     "data": {
      "application/vnd.jupyter.widget-view+json": {
       "model_id": "8013a2945950495c96092559ed126ea9",
       "version_major": 2,
       "version_minor": 0
      },
      "text/plain": [
       "A Jupyter Widget"
      ]
     },
     "metadata": {},
     "output_type": "display_data"
    },
    {
     "name": "stdout",
     "output_type": "stream",
     "text": [
      "8912 #회사만족도1위아르바이트경험을보유한전문가 #물류관리사자격증보유자 #CPM자격증보유자\n",
      "\n"
     ]
    }
   ],
   "source": [
    "debug = []\n",
    "bugidx = []\n",
    "i = 0\n",
    "for txt in tqdm_notebook(df.jss):\n",
    "    nouns = okt.nouns(txt)\n",
    "    if len(nouns) == 0:\n",
    "        print(i, txt)\n",
    "        bugidx.append(i)\n",
    "    debug.append(nouns)\n",
    "    i += 1"
   ]
  },
  {
   "cell_type": "code",
   "execution_count": 75,
   "metadata": {},
   "outputs": [
    {
     "data": {
      "text/plain": [
       "14891"
      ]
     },
     "execution_count": 75,
     "metadata": {},
     "output_type": "execute_result"
    }
   ],
   "source": [
    "len(df)"
   ]
  },
  {
   "cell_type": "code",
   "execution_count": 76,
   "metadata": {},
   "outputs": [],
   "source": [
    "df = df.drop(bugidx)"
   ]
  },
  {
   "cell_type": "code",
   "execution_count": 77,
   "metadata": {
    "collapsed": true
   },
   "outputs": [],
   "source": [
    "df.to_csv('../data/자소서6.csv')"
   ]
  },
  {
   "cell_type": "markdown",
   "metadata": {
    "collapsed": true
   },
   "source": [
    "# 경영만 거르기"
   ]
  },
  {
   "cell_type": "code",
   "execution_count": 10,
   "metadata": {
    "collapsed": true
   },
   "outputs": [],
   "source": [
    "df = pd.read_csv('../data/자소서5.csv',index_col=0, engine='python', encoding='utf8')"
   ]
  },
  {
   "cell_type": "code",
   "execution_count": 5,
   "metadata": {},
   "outputs": [],
   "source": [
    "df = df[df.industry=='경영']"
   ]
  },
  {
   "cell_type": "code",
   "execution_count": 9,
   "metadata": {},
   "outputs": [],
   "source": [
    "df.groupby('category').agg('count').sort_values('label',ascending=False).to_excel('../data/경영카테고리.xlsx')"
   ]
  },
  {
   "cell_type": "markdown",
   "metadata": {},
   "source": [
    "# 컴공만 거르기"
   ]
  },
  {
   "cell_type": "code",
   "execution_count": 16,
   "metadata": {},
   "outputs": [],
   "source": [
    "df[df.industry.isin(['IT','서비스','연구개발'])].to_excel('../data/컴공_자소서전체.xlsx')"
   ]
  },
  {
   "cell_type": "code",
   "execution_count": 17,
   "metadata": {
    "collapsed": true
   },
   "outputs": [],
   "source": [
    "df = df[df.industry.isin(['IT','서비스','연구개발'])]"
   ]
  },
  {
   "cell_type": "code",
   "execution_count": 19,
   "metadata": {},
   "outputs": [],
   "source": [
    "df.groupby('category').agg('count').sort_values('label',ascending=False).to_excel('../data/컴공_카테고리카운트.xlsx')"
   ]
  },
  {
   "cell_type": "markdown",
   "metadata": {},
   "source": [
    "# 경영 카테고리1 보자"
   ]
  },
  {
   "cell_type": "code",
   "execution_count": 41,
   "metadata": {
    "collapsed": true
   },
   "outputs": [],
   "source": [
    "cadf = pd.read_excel('../data/경영카테고리1.xlsx',).fillna(method='ffill')"
   ]
  },
  {
   "cell_type": "code",
   "execution_count": 42,
   "metadata": {},
   "outputs": [
    {
     "data": {
      "text/html": [
       "<div>\n",
       "<style scoped>\n",
       "    .dataframe tbody tr th:only-of-type {\n",
       "        vertical-align: middle;\n",
       "    }\n",
       "\n",
       "    .dataframe tbody tr th {\n",
       "        vertical-align: top;\n",
       "    }\n",
       "\n",
       "    .dataframe thead th {\n",
       "        text-align: right;\n",
       "    }\n",
       "</style>\n",
       "<table border=\"1\" class=\"dataframe\">\n",
       "  <thead>\n",
       "    <tr style=\"text-align: right;\">\n",
       "      <th></th>\n",
       "      <th>category1</th>\n",
       "      <th>category2</th>\n",
       "    </tr>\n",
       "  </thead>\n",
       "  <tbody>\n",
       "    <tr>\n",
       "      <th>0</th>\n",
       "      <td>생산품질</td>\n",
       "      <td>생산관리·품질관리</td>\n",
       "    </tr>\n",
       "    <tr>\n",
       "      <th>1</th>\n",
       "      <td>생산품질</td>\n",
       "      <td>안전·품질·검사·관리</td>\n",
       "    </tr>\n",
       "    <tr>\n",
       "      <th>2</th>\n",
       "      <td>생산품질</td>\n",
       "      <td>품질보증</td>\n",
       "    </tr>\n",
       "    <tr>\n",
       "      <th>3</th>\n",
       "      <td>영업</td>\n",
       "      <td>영업관리</td>\n",
       "    </tr>\n",
       "    <tr>\n",
       "      <th>4</th>\n",
       "      <td>영업</td>\n",
       "      <td>일반영업</td>\n",
       "    </tr>\n",
       "  </tbody>\n",
       "</table>\n",
       "</div>"
      ],
      "text/plain": [
       "  category1    category2\n",
       "0      생산품질    생산관리·품질관리\n",
       "1      생산품질  안전·품질·검사·관리\n",
       "2      생산품질         품질보증\n",
       "3        영업         영업관리\n",
       "4        영업         일반영업"
      ]
     },
     "execution_count": 42,
     "metadata": {},
     "output_type": "execute_result"
    }
   ],
   "source": [
    "cadf.head()"
   ]
  },
  {
   "cell_type": "code",
   "execution_count": 44,
   "metadata": {},
   "outputs": [],
   "source": [
    "cadf2 = pd.read_excel('../data/컴공카테고리1.xlsx',header=None)"
   ]
  },
  {
   "cell_type": "code",
   "execution_count": 47,
   "metadata": {
    "collapsed": true
   },
   "outputs": [],
   "source": [
    "cadf2.columns=['category1','category2']"
   ]
  },
  {
   "cell_type": "code",
   "execution_count": 48,
   "metadata": {},
   "outputs": [
    {
     "data": {
      "text/html": [
       "<div>\n",
       "<style scoped>\n",
       "    .dataframe tbody tr th:only-of-type {\n",
       "        vertical-align: middle;\n",
       "    }\n",
       "\n",
       "    .dataframe tbody tr th {\n",
       "        vertical-align: top;\n",
       "    }\n",
       "\n",
       "    .dataframe thead th {\n",
       "        text-align: right;\n",
       "    }\n",
       "</style>\n",
       "<table border=\"1\" class=\"dataframe\">\n",
       "  <thead>\n",
       "    <tr style=\"text-align: right;\">\n",
       "      <th></th>\n",
       "      <th>category1</th>\n",
       "      <th>category2</th>\n",
       "    </tr>\n",
       "  </thead>\n",
       "  <tbody>\n",
       "    <tr>\n",
       "      <th>0</th>\n",
       "      <td>응용프로그래밍</td>\n",
       "      <td>ABAP</td>\n",
       "    </tr>\n",
       "    <tr>\n",
       "      <th>1</th>\n",
       "      <td>응용프로그래밍</td>\n",
       "      <td>C#</td>\n",
       "    </tr>\n",
       "    <tr>\n",
       "      <th>2</th>\n",
       "      <td>응용프로그래밍</td>\n",
       "      <td>C++</td>\n",
       "    </tr>\n",
       "    <tr>\n",
       "      <th>3</th>\n",
       "      <td>응용프로그래밍</td>\n",
       "      <td>HTML·웹표준·UI개발</td>\n",
       "    </tr>\n",
       "    <tr>\n",
       "      <th>4</th>\n",
       "      <td>응용프로그래밍</td>\n",
       "      <td>IT·디자인·컴퓨터교육</td>\n",
       "    </tr>\n",
       "  </tbody>\n",
       "</table>\n",
       "</div>"
      ],
      "text/plain": [
       "  category1      category2\n",
       "0   응용프로그래밍           ABAP\n",
       "1   응용프로그래밍             C#\n",
       "2   응용프로그래밍            C++\n",
       "3   응용프로그래밍  HTML·웹표준·UI개발\n",
       "4   응용프로그래밍   IT·디자인·컴퓨터교육"
      ]
     },
     "execution_count": 48,
     "metadata": {},
     "output_type": "execute_result"
    }
   ],
   "source": [
    "cadf2.head()"
   ]
  },
  {
   "cell_type": "code",
   "execution_count": 50,
   "metadata": {},
   "outputs": [],
   "source": [
    "cadf = pd.concat([cadf,cadf2])"
   ]
  },
  {
   "cell_type": "code",
   "execution_count": 53,
   "metadata": {},
   "outputs": [
    {
     "data": {
      "text/html": [
       "<div>\n",
       "<style scoped>\n",
       "    .dataframe tbody tr th:only-of-type {\n",
       "        vertical-align: middle;\n",
       "    }\n",
       "\n",
       "    .dataframe tbody tr th {\n",
       "        vertical-align: top;\n",
       "    }\n",
       "\n",
       "    .dataframe thead th {\n",
       "        text-align: right;\n",
       "    }\n",
       "</style>\n",
       "<table border=\"1\" class=\"dataframe\">\n",
       "  <thead>\n",
       "    <tr style=\"text-align: right;\">\n",
       "      <th></th>\n",
       "      <th>category1</th>\n",
       "      <th>category2</th>\n",
       "    </tr>\n",
       "  </thead>\n",
       "  <tbody>\n",
       "    <tr>\n",
       "      <th>0</th>\n",
       "      <td>생산품질</td>\n",
       "      <td>생산관리·품질관리</td>\n",
       "    </tr>\n",
       "    <tr>\n",
       "      <th>1</th>\n",
       "      <td>생산품질</td>\n",
       "      <td>안전·품질·검사·관리</td>\n",
       "    </tr>\n",
       "    <tr>\n",
       "      <th>2</th>\n",
       "      <td>생산품질</td>\n",
       "      <td>품질보증</td>\n",
       "    </tr>\n",
       "    <tr>\n",
       "      <th>3</th>\n",
       "      <td>영업</td>\n",
       "      <td>영업관리</td>\n",
       "    </tr>\n",
       "    <tr>\n",
       "      <th>4</th>\n",
       "      <td>영업</td>\n",
       "      <td>일반영업</td>\n",
       "    </tr>\n",
       "  </tbody>\n",
       "</table>\n",
       "</div>"
      ],
      "text/plain": [
       "  category1    category2\n",
       "0      생산품질    생산관리·품질관리\n",
       "1      생산품질  안전·품질·검사·관리\n",
       "2      생산품질         품질보증\n",
       "3        영업         영업관리\n",
       "4        영업         일반영업"
      ]
     },
     "execution_count": 53,
     "metadata": {},
     "output_type": "execute_result"
    }
   ],
   "source": [
    "cadf.head()"
   ]
  },
  {
   "cell_type": "code",
   "execution_count": 54,
   "metadata": {
    "collapsed": true
   },
   "outputs": [],
   "source": [
    "df = pd.read_csv('../data/자소서5.csv',index_col=0, engine='python', encoding='utf8')"
   ]
  },
  {
   "cell_type": "code",
   "execution_count": 55,
   "metadata": {},
   "outputs": [
    {
     "data": {
      "text/html": [
       "<div>\n",
       "<style scoped>\n",
       "    .dataframe tbody tr th:only-of-type {\n",
       "        vertical-align: middle;\n",
       "    }\n",
       "\n",
       "    .dataframe tbody tr th {\n",
       "        vertical-align: top;\n",
       "    }\n",
       "\n",
       "    .dataframe thead th {\n",
       "        text-align: right;\n",
       "    }\n",
       "</style>\n",
       "<table border=\"1\" class=\"dataframe\">\n",
       "  <thead>\n",
       "    <tr style=\"text-align: right;\">\n",
       "      <th></th>\n",
       "      <th>category</th>\n",
       "      <th>jss</th>\n",
       "      <th>industry</th>\n",
       "      <th>label</th>\n",
       "    </tr>\n",
       "  </thead>\n",
       "  <tbody>\n",
       "    <tr>\n",
       "      <th>0</th>\n",
       "      <td>기획·전략·경영</td>\n",
       "      <td>[제품 홍보가 곧 기업 홍보다]\\n제품 홍보가 곧 기업 홍보라는 회사의 모토처럼, ...</td>\n",
       "      <td>경영</td>\n",
       "      <td>0</td>\n",
       "    </tr>\n",
       "    <tr>\n",
       "      <th>1</th>\n",
       "      <td>기획·전략·경영</td>\n",
       "      <td>[남양유업 경영관리 전문가]\\n제가 지원하게 된 경영관리는 기업이 올바른 방향으로 ...</td>\n",
       "      <td>경영</td>\n",
       "      <td>0</td>\n",
       "    </tr>\n",
       "    <tr>\n",
       "      <th>2</th>\n",
       "      <td>기획·전략·경영</td>\n",
       "      <td>[높은 경쟁률 통과]\\n작년 여름, 봉사활동에 늘 뜻이 있어 '행복 나눔 봉사단'이...</td>\n",
       "      <td>경영</td>\n",
       "      <td>0</td>\n",
       "    </tr>\n",
       "    <tr>\n",
       "      <th>3</th>\n",
       "      <td>기획·전략·경영</td>\n",
       "      <td>[꼼꼼함과 완벽함 사이]\\n차분하고 꼼꼼한 성격을 지닌 저는 항상 주어진 일에 최선...</td>\n",
       "      <td>경영</td>\n",
       "      <td>0</td>\n",
       "    </tr>\n",
       "    <tr>\n",
       "      <th>4</th>\n",
       "      <td>기획·전략·경영</td>\n",
       "      <td>경영학과 중국어 두 가지에 집중했습니다.\\n대학에 입학하고는, 다양한 학문을 포괄적...</td>\n",
       "      <td>경영</td>\n",
       "      <td>0</td>\n",
       "    </tr>\n",
       "  </tbody>\n",
       "</table>\n",
       "</div>"
      ],
      "text/plain": [
       "   category                                                jss industry  label\n",
       "0  기획·전략·경영  [제품 홍보가 곧 기업 홍보다]\\n제품 홍보가 곧 기업 홍보라는 회사의 모토처럼, ...       경영      0\n",
       "1  기획·전략·경영  [남양유업 경영관리 전문가]\\n제가 지원하게 된 경영관리는 기업이 올바른 방향으로 ...       경영      0\n",
       "2  기획·전략·경영  [높은 경쟁률 통과]\\n작년 여름, 봉사활동에 늘 뜻이 있어 '행복 나눔 봉사단'이...       경영      0\n",
       "3  기획·전략·경영  [꼼꼼함과 완벽함 사이]\\n차분하고 꼼꼼한 성격을 지닌 저는 항상 주어진 일에 최선...       경영      0\n",
       "4  기획·전략·경영  경영학과 중국어 두 가지에 집중했습니다.\\n대학에 입학하고는, 다양한 학문을 포괄적...       경영      0"
      ]
     },
     "execution_count": 55,
     "metadata": {},
     "output_type": "execute_result"
    }
   ],
   "source": [
    "df.head()"
   ]
  },
  {
   "cell_type": "code",
   "execution_count": 56,
   "metadata": {},
   "outputs": [],
   "source": [
    "df = df.merge(cadf,left_on='category', right_on='category2')[['category1','category2','jss']]"
   ]
  },
  {
   "cell_type": "code",
   "execution_count": 58,
   "metadata": {},
   "outputs": [
    {
     "data": {
      "text/html": [
       "<div>\n",
       "<style scoped>\n",
       "    .dataframe tbody tr th:only-of-type {\n",
       "        vertical-align: middle;\n",
       "    }\n",
       "\n",
       "    .dataframe tbody tr th {\n",
       "        vertical-align: top;\n",
       "    }\n",
       "\n",
       "    .dataframe thead th {\n",
       "        text-align: right;\n",
       "    }\n",
       "</style>\n",
       "<table border=\"1\" class=\"dataframe\">\n",
       "  <thead>\n",
       "    <tr style=\"text-align: right;\">\n",
       "      <th></th>\n",
       "      <th>category1</th>\n",
       "      <th>category2</th>\n",
       "      <th>jss</th>\n",
       "    </tr>\n",
       "  </thead>\n",
       "  <tbody>\n",
       "    <tr>\n",
       "      <th>0</th>\n",
       "      <td>경영기획</td>\n",
       "      <td>기획·전략·경영</td>\n",
       "      <td>[제품 홍보가 곧 기업 홍보다]\\n제품 홍보가 곧 기업 홍보라는 회사의 모토처럼, ...</td>\n",
       "    </tr>\n",
       "    <tr>\n",
       "      <th>1</th>\n",
       "      <td>경영기획</td>\n",
       "      <td>기획·전략·경영</td>\n",
       "      <td>[남양유업 경영관리 전문가]\\n제가 지원하게 된 경영관리는 기업이 올바른 방향으로 ...</td>\n",
       "    </tr>\n",
       "    <tr>\n",
       "      <th>2</th>\n",
       "      <td>경영기획</td>\n",
       "      <td>기획·전략·경영</td>\n",
       "      <td>[높은 경쟁률 통과]\\n작년 여름, 봉사활동에 늘 뜻이 있어 '행복 나눔 봉사단'이...</td>\n",
       "    </tr>\n",
       "    <tr>\n",
       "      <th>3</th>\n",
       "      <td>경영기획</td>\n",
       "      <td>기획·전략·경영</td>\n",
       "      <td>[꼼꼼함과 완벽함 사이]\\n차분하고 꼼꼼한 성격을 지닌 저는 항상 주어진 일에 최선...</td>\n",
       "    </tr>\n",
       "    <tr>\n",
       "      <th>4</th>\n",
       "      <td>경영기획</td>\n",
       "      <td>기획·전략·경영</td>\n",
       "      <td>경영학과 중국어 두 가지에 집중했습니다.\\n대학에 입학하고는, 다양한 학문을 포괄적...</td>\n",
       "    </tr>\n",
       "  </tbody>\n",
       "</table>\n",
       "</div>"
      ],
      "text/plain": [
       "  category1 category2                                                jss\n",
       "0      경영기획  기획·전략·경영  [제품 홍보가 곧 기업 홍보다]\\n제품 홍보가 곧 기업 홍보라는 회사의 모토처럼, ...\n",
       "1      경영기획  기획·전략·경영  [남양유업 경영관리 전문가]\\n제가 지원하게 된 경영관리는 기업이 올바른 방향으로 ...\n",
       "2      경영기획  기획·전략·경영  [높은 경쟁률 통과]\\n작년 여름, 봉사활동에 늘 뜻이 있어 '행복 나눔 봉사단'이...\n",
       "3      경영기획  기획·전략·경영  [꼼꼼함과 완벽함 사이]\\n차분하고 꼼꼼한 성격을 지닌 저는 항상 주어진 일에 최선...\n",
       "4      경영기획  기획·전략·경영  경영학과 중국어 두 가지에 집중했습니다.\\n대학에 입학하고는, 다양한 학문을 포괄적..."
      ]
     },
     "execution_count": 58,
     "metadata": {},
     "output_type": "execute_result"
    }
   ],
   "source": [
    "df.head()"
   ]
  },
  {
   "cell_type": "code",
   "execution_count": 62,
   "metadata": {},
   "outputs": [],
   "source": [
    "df = df[df.category2 != '정보통신·IT']"
   ]
  },
  {
   "cell_type": "code",
   "execution_count": 63,
   "metadata": {},
   "outputs": [
    {
     "data": {
      "text/html": [
       "<div>\n",
       "<style scoped>\n",
       "    .dataframe tbody tr th:only-of-type {\n",
       "        vertical-align: middle;\n",
       "    }\n",
       "\n",
       "    .dataframe tbody tr th {\n",
       "        vertical-align: top;\n",
       "    }\n",
       "\n",
       "    .dataframe thead th {\n",
       "        text-align: right;\n",
       "    }\n",
       "</style>\n",
       "<table border=\"1\" class=\"dataframe\">\n",
       "  <thead>\n",
       "    <tr style=\"text-align: right;\">\n",
       "      <th></th>\n",
       "      <th>category2</th>\n",
       "      <th>jss</th>\n",
       "    </tr>\n",
       "    <tr>\n",
       "      <th>category1</th>\n",
       "      <th></th>\n",
       "      <th></th>\n",
       "    </tr>\n",
       "  </thead>\n",
       "  <tbody>\n",
       "    <tr>\n",
       "      <th>경영기획</th>\n",
       "      <td>1157</td>\n",
       "      <td>1157</td>\n",
       "    </tr>\n",
       "    <tr>\n",
       "      <th>금융</th>\n",
       "      <td>1266</td>\n",
       "      <td>1266</td>\n",
       "    </tr>\n",
       "    <tr>\n",
       "      <th>기술영업</th>\n",
       "      <td>329</td>\n",
       "      <td>329</td>\n",
       "    </tr>\n",
       "    <tr>\n",
       "      <th>마케팅</th>\n",
       "      <td>1107</td>\n",
       "      <td>1107</td>\n",
       "    </tr>\n",
       "    <tr>\n",
       "      <th>물류</th>\n",
       "      <td>742</td>\n",
       "      <td>742</td>\n",
       "    </tr>\n",
       "    <tr>\n",
       "      <th>사무</th>\n",
       "      <td>1067</td>\n",
       "      <td>1067</td>\n",
       "    </tr>\n",
       "    <tr>\n",
       "      <th>생산품질</th>\n",
       "      <td>2768</td>\n",
       "      <td>2768</td>\n",
       "    </tr>\n",
       "    <tr>\n",
       "      <th>서버·시스템</th>\n",
       "      <td>587</td>\n",
       "      <td>587</td>\n",
       "    </tr>\n",
       "    <tr>\n",
       "      <th>영업</th>\n",
       "      <td>4089</td>\n",
       "      <td>4089</td>\n",
       "    </tr>\n",
       "    <tr>\n",
       "      <th>응용프로그래밍</th>\n",
       "      <td>632</td>\n",
       "      <td>632</td>\n",
       "    </tr>\n",
       "    <tr>\n",
       "      <th>인사</th>\n",
       "      <td>404</td>\n",
       "      <td>404</td>\n",
       "    </tr>\n",
       "    <tr>\n",
       "      <th>재무</th>\n",
       "      <td>626</td>\n",
       "      <td>626</td>\n",
       "    </tr>\n",
       "    <tr>\n",
       "      <th>통계</th>\n",
       "      <td>117</td>\n",
       "      <td>117</td>\n",
       "    </tr>\n",
       "  </tbody>\n",
       "</table>\n",
       "</div>"
      ],
      "text/plain": [
       "           category2   jss\n",
       "category1                 \n",
       "경영기획            1157  1157\n",
       "금융              1266  1266\n",
       "기술영업             329   329\n",
       "마케팅             1107  1107\n",
       "물류               742   742\n",
       "사무              1067  1067\n",
       "생산품질            2768  2768\n",
       "서버·시스템           587   587\n",
       "영업              4089  4089\n",
       "응용프로그래밍          632   632\n",
       "인사               404   404\n",
       "재무               626   626\n",
       "통계               117   117"
      ]
     },
     "execution_count": 63,
     "metadata": {},
     "output_type": "execute_result"
    }
   ],
   "source": [
    "df.groupby('category1').agg('count')"
   ]
  },
  {
   "cell_type": "code",
   "execution_count": 64,
   "metadata": {
    "collapsed": true
   },
   "outputs": [],
   "source": [
    "labels = []\n",
    "for i in df.category1.tolist():\n",
    "    if i == '경영기획':\n",
    "        labels.append(0)\n",
    "    elif i == '금융':\n",
    "        labels.append(1)\n",
    "    elif i == '기술영업':\n",
    "        labels.append(2)\n",
    "    elif i == '마케팅':\n",
    "        labels.append(3)\n",
    "    elif i == '물류':\n",
    "        labels.append(4)\n",
    "    elif i == '사무':\n",
    "        labels.append(5)\n",
    "    elif i == '생산품질':\n",
    "        labels.append(6)\n",
    "    elif i == '영업':\n",
    "        labels.append(7)\n",
    "    elif i == '인사':\n",
    "        labels.append(8)\n",
    "    elif i == '재무':\n",
    "        labels.append(9)\n",
    "    elif i == '통계':\n",
    "        labels.append(10)\n",
    "    elif i == '응용프로그래밍':\n",
    "        labels.append(11)\n",
    "    elif i == '서버·시스템':\n",
    "        labels.append(12)"
   ]
  },
  {
   "cell_type": "code",
   "execution_count": 65,
   "metadata": {
    "collapsed": true
   },
   "outputs": [],
   "source": [
    "df['label'] = labels"
   ]
  },
  {
   "cell_type": "code",
   "execution_count": 66,
   "metadata": {},
   "outputs": [
    {
     "data": {
      "text/html": [
       "<div>\n",
       "<style scoped>\n",
       "    .dataframe tbody tr th:only-of-type {\n",
       "        vertical-align: middle;\n",
       "    }\n",
       "\n",
       "    .dataframe tbody tr th {\n",
       "        vertical-align: top;\n",
       "    }\n",
       "\n",
       "    .dataframe thead th {\n",
       "        text-align: right;\n",
       "    }\n",
       "</style>\n",
       "<table border=\"1\" class=\"dataframe\">\n",
       "  <thead>\n",
       "    <tr style=\"text-align: right;\">\n",
       "      <th></th>\n",
       "      <th>category1</th>\n",
       "      <th>category2</th>\n",
       "      <th>jss</th>\n",
       "      <th>label</th>\n",
       "    </tr>\n",
       "  </thead>\n",
       "  <tbody>\n",
       "    <tr>\n",
       "      <th>0</th>\n",
       "      <td>경영기획</td>\n",
       "      <td>기획·전략·경영</td>\n",
       "      <td>[제품 홍보가 곧 기업 홍보다]\\n제품 홍보가 곧 기업 홍보라는 회사의 모토처럼, ...</td>\n",
       "      <td>0</td>\n",
       "    </tr>\n",
       "    <tr>\n",
       "      <th>1</th>\n",
       "      <td>경영기획</td>\n",
       "      <td>기획·전략·경영</td>\n",
       "      <td>[남양유업 경영관리 전문가]\\n제가 지원하게 된 경영관리는 기업이 올바른 방향으로 ...</td>\n",
       "      <td>0</td>\n",
       "    </tr>\n",
       "    <tr>\n",
       "      <th>2</th>\n",
       "      <td>경영기획</td>\n",
       "      <td>기획·전략·경영</td>\n",
       "      <td>[높은 경쟁률 통과]\\n작년 여름, 봉사활동에 늘 뜻이 있어 '행복 나눔 봉사단'이...</td>\n",
       "      <td>0</td>\n",
       "    </tr>\n",
       "    <tr>\n",
       "      <th>3</th>\n",
       "      <td>경영기획</td>\n",
       "      <td>기획·전략·경영</td>\n",
       "      <td>[꼼꼼함과 완벽함 사이]\\n차분하고 꼼꼼한 성격을 지닌 저는 항상 주어진 일에 최선...</td>\n",
       "      <td>0</td>\n",
       "    </tr>\n",
       "    <tr>\n",
       "      <th>4</th>\n",
       "      <td>경영기획</td>\n",
       "      <td>기획·전략·경영</td>\n",
       "      <td>경영학과 중국어 두 가지에 집중했습니다.\\n대학에 입학하고는, 다양한 학문을 포괄적...</td>\n",
       "      <td>0</td>\n",
       "    </tr>\n",
       "  </tbody>\n",
       "</table>\n",
       "</div>"
      ],
      "text/plain": [
       "  category1 category2                                                jss  \\\n",
       "0      경영기획  기획·전략·경영  [제품 홍보가 곧 기업 홍보다]\\n제품 홍보가 곧 기업 홍보라는 회사의 모토처럼, ...   \n",
       "1      경영기획  기획·전략·경영  [남양유업 경영관리 전문가]\\n제가 지원하게 된 경영관리는 기업이 올바른 방향으로 ...   \n",
       "2      경영기획  기획·전략·경영  [높은 경쟁률 통과]\\n작년 여름, 봉사활동에 늘 뜻이 있어 '행복 나눔 봉사단'이...   \n",
       "3      경영기획  기획·전략·경영  [꼼꼼함과 완벽함 사이]\\n차분하고 꼼꼼한 성격을 지닌 저는 항상 주어진 일에 최선...   \n",
       "4      경영기획  기획·전략·경영  경영학과 중국어 두 가지에 집중했습니다.\\n대학에 입학하고는, 다양한 학문을 포괄적...   \n",
       "\n",
       "   label  \n",
       "0      0  \n",
       "1      0  \n",
       "2      0  \n",
       "3      0  \n",
       "4      0  "
      ]
     },
     "execution_count": 66,
     "metadata": {},
     "output_type": "execute_result"
    }
   ],
   "source": [
    "df.head()"
   ]
  },
  {
   "cell_type": "code",
   "execution_count": 67,
   "metadata": {
    "collapsed": true
   },
   "outputs": [],
   "source": [
    "df.to_csv('../data/자소서6.csv')"
   ]
  },
  {
   "cell_type": "code",
   "execution_count": 68,
   "metadata": {},
   "outputs": [
    {
     "data": {
      "text/plain": [
       "14891"
      ]
     },
     "execution_count": 68,
     "metadata": {},
     "output_type": "execute_result"
    }
   ],
   "source": [
    "len(df)"
   ]
  },
  {
   "cell_type": "markdown",
   "metadata": {
    "collapsed": true
   },
   "source": [
    "# 카테고리 2차"
   ]
  },
  {
   "cell_type": "code",
   "execution_count": 2,
   "metadata": {},
   "outputs": [],
   "source": [
    "df = pd.read_csv('../data/자소서6.csv',index_col=0, engine='python', encoding='utf8')"
   ]
  },
  {
   "cell_type": "code",
   "execution_count": 4,
   "metadata": {},
   "outputs": [
    {
     "data": {
      "text/html": [
       "<div>\n",
       "<style scoped>\n",
       "    .dataframe tbody tr th:only-of-type {\n",
       "        vertical-align: middle;\n",
       "    }\n",
       "\n",
       "    .dataframe tbody tr th {\n",
       "        vertical-align: top;\n",
       "    }\n",
       "\n",
       "    .dataframe thead th {\n",
       "        text-align: right;\n",
       "    }\n",
       "</style>\n",
       "<table border=\"1\" class=\"dataframe\">\n",
       "  <thead>\n",
       "    <tr style=\"text-align: right;\">\n",
       "      <th></th>\n",
       "      <th>category2</th>\n",
       "      <th>jss</th>\n",
       "      <th>label</th>\n",
       "    </tr>\n",
       "    <tr>\n",
       "      <th>category1</th>\n",
       "      <th></th>\n",
       "      <th></th>\n",
       "      <th></th>\n",
       "    </tr>\n",
       "  </thead>\n",
       "  <tbody>\n",
       "    <tr>\n",
       "      <th>경영기획</th>\n",
       "      <td>1157</td>\n",
       "      <td>1157</td>\n",
       "      <td>1157</td>\n",
       "    </tr>\n",
       "    <tr>\n",
       "      <th>금융</th>\n",
       "      <td>1266</td>\n",
       "      <td>1266</td>\n",
       "      <td>1266</td>\n",
       "    </tr>\n",
       "    <tr>\n",
       "      <th>기술영업</th>\n",
       "      <td>329</td>\n",
       "      <td>329</td>\n",
       "      <td>329</td>\n",
       "    </tr>\n",
       "    <tr>\n",
       "      <th>마케팅</th>\n",
       "      <td>1107</td>\n",
       "      <td>1107</td>\n",
       "      <td>1107</td>\n",
       "    </tr>\n",
       "    <tr>\n",
       "      <th>물류</th>\n",
       "      <td>741</td>\n",
       "      <td>741</td>\n",
       "      <td>741</td>\n",
       "    </tr>\n",
       "    <tr>\n",
       "      <th>사무</th>\n",
       "      <td>1067</td>\n",
       "      <td>1067</td>\n",
       "      <td>1067</td>\n",
       "    </tr>\n",
       "    <tr>\n",
       "      <th>생산품질</th>\n",
       "      <td>2768</td>\n",
       "      <td>2768</td>\n",
       "      <td>2768</td>\n",
       "    </tr>\n",
       "    <tr>\n",
       "      <th>서버·시스템</th>\n",
       "      <td>587</td>\n",
       "      <td>587</td>\n",
       "      <td>587</td>\n",
       "    </tr>\n",
       "    <tr>\n",
       "      <th>영업</th>\n",
       "      <td>4089</td>\n",
       "      <td>4089</td>\n",
       "      <td>4089</td>\n",
       "    </tr>\n",
       "    <tr>\n",
       "      <th>응용프로그래밍</th>\n",
       "      <td>632</td>\n",
       "      <td>632</td>\n",
       "      <td>632</td>\n",
       "    </tr>\n",
       "    <tr>\n",
       "      <th>인사</th>\n",
       "      <td>404</td>\n",
       "      <td>404</td>\n",
       "      <td>404</td>\n",
       "    </tr>\n",
       "    <tr>\n",
       "      <th>재무</th>\n",
       "      <td>626</td>\n",
       "      <td>626</td>\n",
       "      <td>626</td>\n",
       "    </tr>\n",
       "    <tr>\n",
       "      <th>통계</th>\n",
       "      <td>117</td>\n",
       "      <td>117</td>\n",
       "      <td>117</td>\n",
       "    </tr>\n",
       "  </tbody>\n",
       "</table>\n",
       "</div>"
      ],
      "text/plain": [
       "           category2   jss  label\n",
       "category1                        \n",
       "경영기획            1157  1157   1157\n",
       "금융              1266  1266   1266\n",
       "기술영업             329   329    329\n",
       "마케팅             1107  1107   1107\n",
       "물류               741   741    741\n",
       "사무              1067  1067   1067\n",
       "생산품질            2768  2768   2768\n",
       "서버·시스템           587   587    587\n",
       "영업              4089  4089   4089\n",
       "응용프로그래밍          632   632    632\n",
       "인사               404   404    404\n",
       "재무               626   626    626\n",
       "통계               117   117    117"
      ]
     },
     "execution_count": 4,
     "metadata": {},
     "output_type": "execute_result"
    }
   ],
   "source": [
    "df.groupby('category1').agg('count')"
   ]
  },
  {
   "cell_type": "code",
   "execution_count": 15,
   "metadata": {},
   "outputs": [],
   "source": [
    "labels = []\n",
    "for i in df.category1.tolist():\n",
    "    if i == '경영기획':\n",
    "        labels.append('경영지원')\n",
    "    elif i == '금융':\n",
    "        labels.append('재무·금융')\n",
    "    elif i == '기술영업':\n",
    "        labels.append('영업·마케팅')\n",
    "    elif i == '마케팅':\n",
    "        labels.append('영업·마케팅')\n",
    "    elif i == '물류':\n",
    "        labels.append('생산·물류')\n",
    "    elif i == '사무':\n",
    "        labels.append('경영지원')\n",
    "    elif i == '생산품질':\n",
    "        labels.append('생산·물류')\n",
    "    elif i == '영업':\n",
    "        labels.append('영업·마케팅')\n",
    "    elif i == '인사':\n",
    "        labels.append('인사')\n",
    "    elif i == '재무':\n",
    "        labels.append('재무·금융')\n",
    "    elif i == '통계':\n",
    "        labels.append('통계')\n",
    "    elif i == '응용프로그래밍':\n",
    "        labels.append('응용프로그래밍')\n",
    "    elif i == '서버·시스템':\n",
    "        labels.append('서버·시스템')"
   ]
  },
  {
   "cell_type": "code",
   "execution_count": 16,
   "metadata": {},
   "outputs": [],
   "source": [
    "df['category3'] = labels"
   ]
  },
  {
   "cell_type": "code",
   "execution_count": 17,
   "metadata": {},
   "outputs": [
    {
     "data": {
      "text/html": [
       "<div>\n",
       "<style scoped>\n",
       "    .dataframe tbody tr th:only-of-type {\n",
       "        vertical-align: middle;\n",
       "    }\n",
       "\n",
       "    .dataframe tbody tr th {\n",
       "        vertical-align: top;\n",
       "    }\n",
       "\n",
       "    .dataframe thead th {\n",
       "        text-align: right;\n",
       "    }\n",
       "</style>\n",
       "<table border=\"1\" class=\"dataframe\">\n",
       "  <thead>\n",
       "    <tr style=\"text-align: right;\">\n",
       "      <th></th>\n",
       "      <th>category1</th>\n",
       "      <th>category2</th>\n",
       "      <th>jss</th>\n",
       "      <th>label</th>\n",
       "      <th>category3</th>\n",
       "    </tr>\n",
       "  </thead>\n",
       "  <tbody>\n",
       "    <tr>\n",
       "      <th>0</th>\n",
       "      <td>경영기획</td>\n",
       "      <td>기획·전략·경영</td>\n",
       "      <td>[제품 홍보가 곧 기업 홍보다]\\n제품 홍보가 곧 기업 홍보라는 회사의 모토처럼, ...</td>\n",
       "      <td>0</td>\n",
       "      <td>경영지원</td>\n",
       "    </tr>\n",
       "    <tr>\n",
       "      <th>1</th>\n",
       "      <td>경영기획</td>\n",
       "      <td>기획·전략·경영</td>\n",
       "      <td>[남양유업 경영관리 전문가]\\n제가 지원하게 된 경영관리는 기업이 올바른 방향으로 ...</td>\n",
       "      <td>0</td>\n",
       "      <td>경영지원</td>\n",
       "    </tr>\n",
       "    <tr>\n",
       "      <th>2</th>\n",
       "      <td>경영기획</td>\n",
       "      <td>기획·전략·경영</td>\n",
       "      <td>[높은 경쟁률 통과]\\n작년 여름, 봉사활동에 늘 뜻이 있어 '행복 나눔 봉사단'이...</td>\n",
       "      <td>0</td>\n",
       "      <td>경영지원</td>\n",
       "    </tr>\n",
       "    <tr>\n",
       "      <th>3</th>\n",
       "      <td>경영기획</td>\n",
       "      <td>기획·전략·경영</td>\n",
       "      <td>[꼼꼼함과 완벽함 사이]\\n차분하고 꼼꼼한 성격을 지닌 저는 항상 주어진 일에 최선...</td>\n",
       "      <td>0</td>\n",
       "      <td>경영지원</td>\n",
       "    </tr>\n",
       "    <tr>\n",
       "      <th>4</th>\n",
       "      <td>경영기획</td>\n",
       "      <td>기획·전략·경영</td>\n",
       "      <td>경영학과 중국어 두 가지에 집중했습니다.\\n대학에 입학하고는, 다양한 학문을 포괄적...</td>\n",
       "      <td>0</td>\n",
       "      <td>경영지원</td>\n",
       "    </tr>\n",
       "  </tbody>\n",
       "</table>\n",
       "</div>"
      ],
      "text/plain": [
       "  category1 category2                                                jss  \\\n",
       "0      경영기획  기획·전략·경영  [제품 홍보가 곧 기업 홍보다]\\n제품 홍보가 곧 기업 홍보라는 회사의 모토처럼, ...   \n",
       "1      경영기획  기획·전략·경영  [남양유업 경영관리 전문가]\\n제가 지원하게 된 경영관리는 기업이 올바른 방향으로 ...   \n",
       "2      경영기획  기획·전략·경영  [높은 경쟁률 통과]\\n작년 여름, 봉사활동에 늘 뜻이 있어 '행복 나눔 봉사단'이...   \n",
       "3      경영기획  기획·전략·경영  [꼼꼼함과 완벽함 사이]\\n차분하고 꼼꼼한 성격을 지닌 저는 항상 주어진 일에 최선...   \n",
       "4      경영기획  기획·전략·경영  경영학과 중국어 두 가지에 집중했습니다.\\n대학에 입학하고는, 다양한 학문을 포괄적...   \n",
       "\n",
       "   label category3  \n",
       "0      0      경영지원  \n",
       "1      0      경영지원  \n",
       "2      0      경영지원  \n",
       "3      0      경영지원  \n",
       "4      0      경영지원  "
      ]
     },
     "execution_count": 17,
     "metadata": {},
     "output_type": "execute_result"
    }
   ],
   "source": [
    "df.head()"
   ]
  },
  {
   "cell_type": "code",
   "execution_count": 18,
   "metadata": {},
   "outputs": [
    {
     "data": {
      "text/html": [
       "<div>\n",
       "<style scoped>\n",
       "    .dataframe tbody tr th:only-of-type {\n",
       "        vertical-align: middle;\n",
       "    }\n",
       "\n",
       "    .dataframe tbody tr th {\n",
       "        vertical-align: top;\n",
       "    }\n",
       "\n",
       "    .dataframe thead th {\n",
       "        text-align: right;\n",
       "    }\n",
       "</style>\n",
       "<table border=\"1\" class=\"dataframe\">\n",
       "  <thead>\n",
       "    <tr style=\"text-align: right;\">\n",
       "      <th></th>\n",
       "      <th>category1</th>\n",
       "      <th>category2</th>\n",
       "      <th>jss</th>\n",
       "      <th>label</th>\n",
       "    </tr>\n",
       "    <tr>\n",
       "      <th>category3</th>\n",
       "      <th></th>\n",
       "      <th></th>\n",
       "      <th></th>\n",
       "      <th></th>\n",
       "    </tr>\n",
       "  </thead>\n",
       "  <tbody>\n",
       "    <tr>\n",
       "      <th>경영지원</th>\n",
       "      <td>2224</td>\n",
       "      <td>2224</td>\n",
       "      <td>2224</td>\n",
       "      <td>2224</td>\n",
       "    </tr>\n",
       "    <tr>\n",
       "      <th>생산·물류</th>\n",
       "      <td>3509</td>\n",
       "      <td>3509</td>\n",
       "      <td>3509</td>\n",
       "      <td>3509</td>\n",
       "    </tr>\n",
       "    <tr>\n",
       "      <th>서버·시스템</th>\n",
       "      <td>587</td>\n",
       "      <td>587</td>\n",
       "      <td>587</td>\n",
       "      <td>587</td>\n",
       "    </tr>\n",
       "    <tr>\n",
       "      <th>영업·마케팅</th>\n",
       "      <td>5525</td>\n",
       "      <td>5525</td>\n",
       "      <td>5525</td>\n",
       "      <td>5525</td>\n",
       "    </tr>\n",
       "    <tr>\n",
       "      <th>응용프로그래밍</th>\n",
       "      <td>632</td>\n",
       "      <td>632</td>\n",
       "      <td>632</td>\n",
       "      <td>632</td>\n",
       "    </tr>\n",
       "    <tr>\n",
       "      <th>인사</th>\n",
       "      <td>404</td>\n",
       "      <td>404</td>\n",
       "      <td>404</td>\n",
       "      <td>404</td>\n",
       "    </tr>\n",
       "    <tr>\n",
       "      <th>재무·금융</th>\n",
       "      <td>1892</td>\n",
       "      <td>1892</td>\n",
       "      <td>1892</td>\n",
       "      <td>1892</td>\n",
       "    </tr>\n",
       "  </tbody>\n",
       "</table>\n",
       "</div>"
      ],
      "text/plain": [
       "           category1  category2   jss  label\n",
       "category3                                   \n",
       "경영지원            2224       2224  2224   2224\n",
       "생산·물류           3509       3509  3509   3509\n",
       "서버·시스템           587        587   587    587\n",
       "영업·마케팅          5525       5525  5525   5525\n",
       "응용프로그래밍          632        632   632    632\n",
       "인사               404        404   404    404\n",
       "재무·금융           1892       1892  1892   1892"
      ]
     },
     "execution_count": 18,
     "metadata": {},
     "output_type": "execute_result"
    }
   ],
   "source": [
    "df.groupby('category3').agg('count')"
   ]
  },
  {
   "cell_type": "code",
   "execution_count": 13,
   "metadata": {},
   "outputs": [],
   "source": [
    "df = df[df.category3!='통계']"
   ]
  },
  {
   "cell_type": "code",
   "execution_count": 19,
   "metadata": {},
   "outputs": [],
   "source": [
    "labels = []\n",
    "for i in df.category3.tolist():\n",
    "    if i == '경영지원':\n",
    "        labels.append(0)\n",
    "    elif i == '재무·금융':\n",
    "        labels.append(1)\n",
    "    elif i == '생산·물류':\n",
    "        labels.append(2)\n",
    "    elif i == '영업·마케팅':\n",
    "        labels.append(3)\n",
    "    elif i == '인사':\n",
    "        labels.append(4)\n",
    "    elif i == '서버·시스템':\n",
    "        labels.append(5)\n",
    "    elif i == '응용프로그래밍':\n",
    "        labels.append(6)"
   ]
  },
  {
   "cell_type": "code",
   "execution_count": 20,
   "metadata": {},
   "outputs": [],
   "source": [
    "df.label = labels"
   ]
  },
  {
   "cell_type": "code",
   "execution_count": 21,
   "metadata": {},
   "outputs": [
    {
     "data": {
      "text/html": [
       "<div>\n",
       "<style scoped>\n",
       "    .dataframe tbody tr th:only-of-type {\n",
       "        vertical-align: middle;\n",
       "    }\n",
       "\n",
       "    .dataframe tbody tr th {\n",
       "        vertical-align: top;\n",
       "    }\n",
       "\n",
       "    .dataframe thead th {\n",
       "        text-align: right;\n",
       "    }\n",
       "</style>\n",
       "<table border=\"1\" class=\"dataframe\">\n",
       "  <thead>\n",
       "    <tr style=\"text-align: right;\">\n",
       "      <th></th>\n",
       "      <th>category1</th>\n",
       "      <th>category2</th>\n",
       "      <th>jss</th>\n",
       "      <th>label</th>\n",
       "      <th>category3</th>\n",
       "    </tr>\n",
       "  </thead>\n",
       "  <tbody>\n",
       "    <tr>\n",
       "      <th>0</th>\n",
       "      <td>경영기획</td>\n",
       "      <td>기획·전략·경영</td>\n",
       "      <td>[제품 홍보가 곧 기업 홍보다]\\n제품 홍보가 곧 기업 홍보라는 회사의 모토처럼, ...</td>\n",
       "      <td>0</td>\n",
       "      <td>경영지원</td>\n",
       "    </tr>\n",
       "    <tr>\n",
       "      <th>1</th>\n",
       "      <td>경영기획</td>\n",
       "      <td>기획·전략·경영</td>\n",
       "      <td>[남양유업 경영관리 전문가]\\n제가 지원하게 된 경영관리는 기업이 올바른 방향으로 ...</td>\n",
       "      <td>0</td>\n",
       "      <td>경영지원</td>\n",
       "    </tr>\n",
       "    <tr>\n",
       "      <th>2</th>\n",
       "      <td>경영기획</td>\n",
       "      <td>기획·전략·경영</td>\n",
       "      <td>[높은 경쟁률 통과]\\n작년 여름, 봉사활동에 늘 뜻이 있어 '행복 나눔 봉사단'이...</td>\n",
       "      <td>0</td>\n",
       "      <td>경영지원</td>\n",
       "    </tr>\n",
       "    <tr>\n",
       "      <th>3</th>\n",
       "      <td>경영기획</td>\n",
       "      <td>기획·전략·경영</td>\n",
       "      <td>[꼼꼼함과 완벽함 사이]\\n차분하고 꼼꼼한 성격을 지닌 저는 항상 주어진 일에 최선...</td>\n",
       "      <td>0</td>\n",
       "      <td>경영지원</td>\n",
       "    </tr>\n",
       "    <tr>\n",
       "      <th>4</th>\n",
       "      <td>경영기획</td>\n",
       "      <td>기획·전략·경영</td>\n",
       "      <td>경영학과 중국어 두 가지에 집중했습니다.\\n대학에 입학하고는, 다양한 학문을 포괄적...</td>\n",
       "      <td>0</td>\n",
       "      <td>경영지원</td>\n",
       "    </tr>\n",
       "  </tbody>\n",
       "</table>\n",
       "</div>"
      ],
      "text/plain": [
       "  category1 category2                                                jss  \\\n",
       "0      경영기획  기획·전략·경영  [제품 홍보가 곧 기업 홍보다]\\n제품 홍보가 곧 기업 홍보라는 회사의 모토처럼, ...   \n",
       "1      경영기획  기획·전략·경영  [남양유업 경영관리 전문가]\\n제가 지원하게 된 경영관리는 기업이 올바른 방향으로 ...   \n",
       "2      경영기획  기획·전략·경영  [높은 경쟁률 통과]\\n작년 여름, 봉사활동에 늘 뜻이 있어 '행복 나눔 봉사단'이...   \n",
       "3      경영기획  기획·전략·경영  [꼼꼼함과 완벽함 사이]\\n차분하고 꼼꼼한 성격을 지닌 저는 항상 주어진 일에 최선...   \n",
       "4      경영기획  기획·전략·경영  경영학과 중국어 두 가지에 집중했습니다.\\n대학에 입학하고는, 다양한 학문을 포괄적...   \n",
       "\n",
       "   label category3  \n",
       "0      0      경영지원  \n",
       "1      0      경영지원  \n",
       "2      0      경영지원  \n",
       "3      0      경영지원  \n",
       "4      0      경영지원  "
      ]
     },
     "execution_count": 21,
     "metadata": {},
     "output_type": "execute_result"
    }
   ],
   "source": [
    "df.head()"
   ]
  },
  {
   "cell_type": "code",
   "execution_count": 22,
   "metadata": {},
   "outputs": [],
   "source": [
    "df.to_csv('../data/자소서7.csv')"
   ]
  },
  {
   "cell_type": "code",
   "execution_count": null,
   "metadata": {},
   "outputs": [],
   "source": []
  }
 ],
 "metadata": {
  "kernelspec": {
   "display_name": "Python 3",
   "language": "python",
   "name": "python3"
  },
  "language_info": {
   "codemirror_mode": {
    "name": "ipython",
    "version": 3
   },
   "file_extension": ".py",
   "mimetype": "text/x-python",
   "name": "python",
   "nbconvert_exporter": "python",
   "pygments_lexer": "ipython3",
   "version": "3.6.5"
  }
 },
 "nbformat": 4,
 "nbformat_minor": 2
}
